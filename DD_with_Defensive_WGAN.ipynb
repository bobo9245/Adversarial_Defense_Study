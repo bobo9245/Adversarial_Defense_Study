{
 "cells": [
  {
   "cell_type": "code",
   "execution_count": null,
   "metadata": {},
   "outputs": [],
   "source": [
    "#기본 IMPORT\n",
    "import numpy as np\n",
    "from matplotlib import cm\n",
    "import matplotlib.pyplot as plt\n",
    "import math\n",
    "import os\n",
    "import random\n",
    "\n",
    "\n",
    "import torch\n",
    "import torch.nn as nn\n",
    "import torch.nn.functional as F\n",
    "import torch.optim as optim\n",
    "from torch.optim.lr_scheduler import CosineAnnealingLR\n",
    "\n",
    "import torchvision\n",
    "from torchvision import transforms, datasets\n",
    "import torchvision.models as models\n",
    "from torchvision.utils import save_image\n",
    "from torch.autograd import Variable\n",
    "\n",
    "from sklearn.metrics import f1_score, confusion_matrix\n",
    "from sklearn.manifold import TSNE\n",
    "\n",
    "#TensorBoard 사용하기\n",
    "from torch.utils.tensorboard import SummaryWriter\n",
    "# writer = SummaryWriter()\n",
    "# 출력 줄수 제한 없애기\n",
    "from tqdm import tqdm\n"
   ]
  },
  {
   "cell_type": "code",
   "execution_count": null,
   "metadata": {},
   "outputs": [],
   "source": [
    "# Device 및 기본 설정 + 데이터셋 받아오기(MNIST)\n",
    "DEVICE = torch.device(\"cuda\" if torch.cuda.is_available() else \"cpu\")\n",
    "BATCH_SIZE = 32\n",
    "EPOCHS = 10\n",
    "TEMPERATURE = 5\n",
    "ALPHA=0.5\n",
    "LEARNING_RATE=0.01"
   ]
  },
  {
   "cell_type": "markdown",
   "metadata": {},
   "source": [
    "---\n",
    "---\n",
    "## TEACHER MODEL \n",
    "---\n",
    "---"
   ]
  },
  {
   "cell_type": "code",
   "execution_count": null,
   "metadata": {},
   "outputs": [],
   "source": [
    "transform = transforms.Compose([\n",
    "    transforms.Grayscale(num_output_channels=3),\n",
    "    transforms.ToTensor(),\n",
    "    transforms.Normalize((0.5,), (0.5,))\n",
    "])\n",
    "#Label을 사용하려면 Shuffle을 False로 해줘야 한다.\n",
    "train_dataset = datasets.MNIST(root='data/MNIST', train=True, download=True, transform=transform)\n",
    "test_dataset = datasets.MNIST(root='data/MNIST',train=False, download=True, transform=transform)\n",
    "train_loader = torch.utils.data.DataLoader(dataset=train_dataset, batch_size=BATCH_SIZE, shuffle=False,num_workers=4, pin_memory=True )\n",
    "test_loader = torch.utils.data.DataLoader(dataset=test_dataset, batch_size=BATCH_SIZE, shuffle=False,num_workers=4, pin_memory=True)\n",
    "\n",
    "for (X_train, y_train) in train_loader:\n",
    "    pass\n",
    "\n",
    "teacher_network = models.resnet50(weights=models.ResNet50_Weights.DEFAULT)\n",
    "teacher_network.fc = torch.nn.Linear(teacher_network.fc.in_features,10)\n",
    "teacher_network = teacher_network.to(DEVICE)\n",
    "teacher_network.eval()"
   ]
  },
  {
   "cell_type": "code",
   "execution_count": null,
   "metadata": {},
   "outputs": [],
   "source": [
    "# 정확도 계산 함수 + Teacher Network 학습 함수\n",
    "def evaluate_accuracy(model, test_loader):\n",
    "    correct = 0\n",
    "    total = 0\n",
    "    with torch.no_grad():  # 평가에서는 기울기 계산하지 않음\n",
    "        for images, labels in test_loader:\n",
    "            images, labels = images.to(DEVICE), labels.to(DEVICE)\n",
    "            outputs = model(images)\n",
    "            predicted = outputs.argmax(dim=1)\n",
    "            correct += (predicted == labels).sum().item()\n",
    "            total += labels.size(0)\n",
    "    accuracy = 100 * correct / total\n",
    "    print(f'Accuracy on MNIST test set: {accuracy:.2f}%')\n",
    "    return accuracy\n",
    "\n",
    "def train_teacher(model, train_loader, optimizer, criterion, epochs, scheduler, save_path=\"teacher_model.pth\"):\n",
    "    model.train()\n",
    "    for epoch in range(epochs):\n",
    "        running_loss = 0.0\n",
    "        for images, labels in train_loader:\n",
    "            images, labels = images.to(DEVICE), labels.to(DEVICE)\n",
    "            optimizer.zero_grad()\n",
    "            outputs = model(images)\n",
    "            loss = criterion(outputs, labels)\n",
    "            loss.backward()\n",
    "            optimizer.step()\n",
    "            running_loss += loss.item()\n",
    "        scheduler.step()\n",
    "        \n",
    "        # 에포크별 손실 출력\n",
    "        print(f\"Epoch [{epoch+1}/{epochs}], Loss: {running_loss / len(train_loader):.4f}\")\n",
    "    \n",
    "    # 모델 파라미터 저장\n",
    "    torch.save(model.state_dict(), save_path)\n",
    "    print(f\"Model parameters saved to {save_path}\")\n",
    "\n",
    "print('초기 정확도 출력')\n",
    "evaluate_accuracy(teacher_network, test_loader)"
   ]
  },
  {
   "cell_type": "code",
   "execution_count": null,
   "metadata": {},
   "outputs": [],
   "source": [
    "# Teacher Network에서 MNIST에 대한 사전 학습\n",
    "optimizer = torch.optim.Adam(teacher_network.parameters(),lr=LEARNING_RATE)\n",
    "criterion = nn.CrossEntropyLoss()\n",
    "scheduler = CosineAnnealingLR(optimizer, T_max=EPOCHS)  # Cosine Annealing 스케줄러\n",
    "train_teacher(teacher_network, train_loader, optimizer, criterion, EPOCHS,scheduler)\n",
    "print('학습 이후 정확도 출력:')\n",
    "evaluate_accuracy(teacher_network,test_loader)"
   ]
  },
  {
   "cell_type": "code",
   "execution_count": null,
   "metadata": {},
   "outputs": [],
   "source": [
    "#Resnet101 - soft label 추출\n",
    "def get_soft_labels(model, data_loader, temperature):\n",
    "    soft_labels = []\n",
    "    with torch.no_grad():  # 그래디언트 계산 비활성화\n",
    "        for images, _ in data_loader:\n",
    "            images = images.to(DEVICE)\n",
    "            outputs = model(images)\n",
    "            # 소프트맥스 온도 적용하여 soft label 생성\n",
    "            soft_outputs = F.softmax(outputs / temperature, dim=1)\n",
    "            soft_labels.append(soft_outputs.cpu())  # soft label 저장\n",
    "    return torch.cat(soft_labels)\n",
    "\n",
    "#soft label 추출하기\n",
    "soft_labels = get_soft_labels(teacher_network,train_loader,TEMPERATURE)\n",
    "torch.save(soft_labels,f\"soft_labels/tem={TEMPERATURE}.pt\")\n",
    "#받아올 때에는 soft_labels = torch.load(f'tem=TEM={TEMPERATURE}.pt').to(DEVICE)\n",
    "print(soft_labels.shape)"
   ]
  },
  {
   "cell_type": "code",
   "execution_count": null,
   "metadata": {},
   "outputs": [],
   "source": [
    "# 첫 번째 배치에 대한 soft labels 확인\n",
    "for images, _ in train_loader:\n",
    "    images = images.to(DEVICE)\n",
    "    outputs = teacher_network(images)\n",
    "    soft_outputs = F.softmax(outputs / TEMPERATURE, dim=1)\n",
    "    print(\"Soft Labels (first batch):\", soft_outputs[0].cpu().detach().numpy())  # 첫 번째 샘플의 soft labels 출력\n",
    "    break"
   ]
  },
  {
   "cell_type": "code",
   "execution_count": null,
   "metadata": {},
   "outputs": [],
   "source": [
    "#soft label 정확도 뽑아보기\n",
    "soft_labels = torch.load(f'soft_labels/tem={TEMPERATURE}.pt').to(DEVICE)\n",
    "def calculate_soft_label_accuracy(soft_labels, hard_labels):\n",
    "    # soft_labels에서 가장 높은 확률을 가진 클래스를 예측 클래스로 선택\n",
    "    predicted_classes = soft_labels.argmax(dim=1)\n",
    "    print(\"predict : \", predicted_classes.shape)\n",
    "    print(\"hard_label : \", hard_labels.shape)\n",
    "\n",
    "    # 예측 클래스와 실제 레이블(hard_labels) 비교\n",
    "    correct_predictions = (predicted_classes == hard_labels).sum().item()\n",
    "    accuracy = 100. * correct_predictions / len(hard_labels)\n",
    "    \n",
    "    print(f'Soft Labels Accuracy: {accuracy:.2f}%')\n",
    "    \n",
    "    # 히스토그램 출력\n",
    "    plt.hist(predicted_classes.cpu().numpy(), bins=10, range=(0, 9), color='skyblue', edgecolor='black')\n",
    "    plt.title(\"Distribution of Predicted Classes\")\n",
    "    plt.xlabel(\"Predicted Class\")\n",
    "    plt.ylabel(\"Frequency\")\n",
    "    plt.xticks(range(10))  # 0~9 범위의 클래스 레이블 설정\n",
    "    plt.show()\n",
    "    \n",
    "    return accuracy\n",
    "# 데이터 로더에서 실제 레이블(hard_labels) 수집\n",
    "all_hard_labels = []\n",
    "for _, labels in train_loader:\n",
    "    all_hard_labels.append(labels)\n",
    "all_hard_labels = torch.cat(all_hard_labels).to(DEVICE)  # 실제 레이블을 DEVICE에 맞춤\n",
    "\n",
    "# soft_labels의 정확도 계산\n",
    "soft_label_accuracy = calculate_soft_label_accuracy(soft_labels, all_hard_labels)\n"
   ]
  },
  {
   "cell_type": "markdown",
   "metadata": {},
   "source": [
    "---\n",
    "---\n",
    "## Student Model + Distillaion\n",
    "---\n",
    "---"
   ]
  },
  {
   "cell_type": "code",
   "execution_count": null,
   "metadata": {},
   "outputs": [],
   "source": [
    "# Dataset 받아오기\n",
    "# soft label 추출용\n",
    "#transform = transforms.Compose([transforms.Grayscale(num_output_channels=3), transforms.ToTensor()])\n",
    "# 그냥사용용\n",
    "transform = transforms.ToTensor()\n",
    "train_dataset = datasets.MNIST(root='data/MNIST', train=True, download=True, transform=transform)\n",
    "test_dataset = datasets.MNIST(root='data/MNIST', train=False, transform=transform)\n",
    "train_loader = torch.utils.data.DataLoader(dataset=train_dataset, batch_size=BATCH_SIZE, shuffle=False)\n",
    "test_loader = torch.utils.data.DataLoader(dataset=test_dataset, batch_size=BATCH_SIZE, shuffle=False)\n",
    "\n",
    "for (X_train, y_train) in train_loader:\n",
    "    pass  # 데이터 한 배치만 가져오기\n",
    "\n",
    "# pltsize = 1\n",
    "# plt.figure(figsize=(10 * pltsize, pltsize));\n",
    "\n",
    "# for i in range(10):\n",
    "#     plt.subplot(1, 10, i + 1)  # plot.subplot(rows, columns, index);\n",
    "#     plt.axis('off');\n",
    "#     plt.imshow(X_train[i, :, :, :].numpy().reshape(28, 28), cmap=\"gray_r\");\n",
    "#     plt.title('Class: ' + str(y_train[i].item()));\n",
    "\n",
    "# plt.show();\n",
    "# plt.close();"
   ]
  },
  {
   "cell_type": "code",
   "execution_count": null,
   "metadata": {},
   "outputs": [],
   "source": [
    "#Student_Net -> 컨베렐*4\n",
    "class Net(nn.Module): \n",
    "    def __init__(self):\n",
    "        super(Net, self).__init__()\n",
    "        self.conv1 = nn.Conv2d(1, 32, kernel_size=3, padding=1)\n",
    "        self.bn1 = nn.BatchNorm2d(32)\n",
    "        self.conv2 = nn.Conv2d(32, 64, kernel_size=3, padding=1)\n",
    "        self.bn2 = nn.BatchNorm2d(64)\n",
    "        self.pool = nn.MaxPool2d(2, 2)\n",
    "        self.fc1 = nn.Linear(64 * 7 * 7, 512)\n",
    "        self.bn_fc1 = nn.BatchNorm1d(512)\n",
    "        self.fc2 = nn.Linear(512, 256)\n",
    "        self.bn_fc2 = nn.BatchNorm1d(256)\n",
    "        self.fc3 = nn.Linear(256, 10)\n",
    "        self.dropout = nn.Dropout(0.5)\n",
    "\n",
    "    def forward(self, x):\n",
    "        x = self.pool(F.gelu(self.bn1(self.conv1(x))))\n",
    "        x = self.pool(F.gelu(self.bn2(self.conv2(x))))\n",
    "        x = x.view(-1, 64 * 7 * 7)\n",
    "        x = F.gelu(self.bn_fc1(self.fc1(x)))\n",
    "        x = self.dropout(x)\n",
    "        x = F.gelu(self.bn_fc2(self.fc2(x)))\n",
    "        x = self.dropout(x)\n",
    "        x = self.fc3(x)\n",
    "        return x\n"
   ]
  },
  {
   "cell_type": "code",
   "execution_count": null,
   "metadata": {},
   "outputs": [],
   "source": [
    "#student_model,optimizer,criterion 설정\n",
    "student_model = Net().to(DEVICE)\n",
    "optimizer = torch.optim.SGD(student_model.parameters(),lr=0.01,momentum=0.5)\n",
    "criterion=nn.CrossEntropyLoss()\n",
    "\n",
    "print(student_model)"
   ]
  },
  {
   "cell_type": "code",
   "execution_count": null,
   "metadata": {},
   "outputs": [],
   "source": [
    "#soft label 정확도 뽑아보기\n",
    "soft_labels = torch.load(f'soft_labels/tem={TEMPERTATURE}.pt').to(DEVICE)\n",
    "def calculate_soft_label_accuracy(soft_labels, hard_labels):\n",
    "    # soft_labels에서 가장 높은 확률을 가진 클래스를 예측 클래스로 선택\n",
    "    predicted_classes = soft_labels.argmax(dim=1)\n",
    "    \n",
    "    # 예측 클래스와 실제 레이블(hard_labels) 비교\n",
    "    correct_predictions = (predicted_classes == hard_labels).sum().item()\n",
    "    accuracy = 100. * correct_predictions / len(hard_labels)\n",
    "    \n",
    "    print(f'Soft Labels Accuracy: {accuracy:.2f}%')\n",
    "    return accuracy\n",
    "\n",
    "# 데이터 로더에서 실제 레이블(hard_labels) 수집\n",
    "all_hard_labels = []\n",
    "for _, labels in train_loader:\n",
    "    all_hard_labels.append(labels)\n",
    "all_hard_labels = torch.cat(all_hard_labels).to(DEVICE)  # 실제 레이블을 DEVICE에 맞춤\n",
    "\n",
    "# soft_labels의 정확도 계산\n",
    "soft_label_accuracy = calculate_soft_label_accuracy(soft_labels, all_hard_labels)\n"
   ]
  },
  {
   "cell_type": "code",
   "execution_count": null,
   "metadata": {},
   "outputs": [],
   "source": [
    "#Distillation Loss 정의\n",
    "def distillation_loss(student_logits, teacher_logits, labels, temperature, alpha):\n",
    "    # Soft target loss (KL Divergence)\n",
    "    distill_loss = F.kl_div(\n",
    "        F.log_softmax(student_logits / temperature, dim=1),\n",
    "        F.softmax(teacher_logits / temperature, dim=1),\n",
    "        reduction='batchmean'\n",
    "    ) * (temperature ** 2)\n",
    "    \n",
    "    # Hard target loss (CrossEntropy)\n",
    "    hard_loss = F.cross_entropy(student_logits, labels)\n",
    "    \n",
    "    # Combine losses\n",
    "    return alpha * distill_loss + (1 - alpha) * hard_loss"
   ]
  },
  {
   "cell_type": "code",
   "execution_count": null,
   "metadata": {},
   "outputs": [],
   "source": [
    "#Training용 함수 정의\n",
    "soft_labels = torch.load(f'soft_labels/tem=={TEMPERATURE}.pt').to(DEVICE)\n",
    "# Distillation Loss 계산 함수\n",
    "def distillation_loss(student_logits, soft_labels, temperature, alpha, hard_labels):\n",
    "    # Soft target loss (KL Divergence)\n",
    "    distill_loss = F.kl_div(\n",
    "        F.log_softmax(student_logits / temperature, dim=1),\n",
    "        soft_labels,\n",
    "        reduction='batchmean'\n",
    "    ) * (temperature ** 2)\n",
    "    \n",
    "    # Hard target loss (CrossEntropy)\n",
    "    hard_loss = F.cross_entropy(student_logits, hard_labels)\n",
    "    \n",
    "    # Combine losses\n",
    "    return alpha * distill_loss + (1 - alpha) * hard_loss\n",
    "\n",
    "# 학습 함수\n",
    "def train_student(student_model, train_loader, soft_labels, optimizer, temperature, alpha):\n",
    "    student_model.train()\n",
    "    \n",
    "    for batch_idx, (data, hard_labels) in enumerate(train_loader):\n",
    "        data, hard_labels = data.to(DEVICE), hard_labels.to(DEVICE)\n",
    "        \n",
    "        # soft_labels의 해당 배치 슬라이싱\n",
    "        start_idx = batch_idx * BATCH_SIZE\n",
    "        end_idx = start_idx + data.size(0)\n",
    "        target_soft_labels = soft_labels[start_idx:end_idx]\n",
    "\n",
    "        # Student 모델의 예측\n",
    "        student_logits = student_model(data)\n",
    "        \n",
    "        # Distillation Loss 계산\n",
    "        loss = distillation_loss(student_logits, target_soft_labels, temperature, alpha, hard_labels)\n",
    "        \n",
    "        # 모델 업데이트\n",
    "        optimizer.zero_grad()\n",
    "        loss.backward()\n",
    "        optimizer.step()\n",
    "\n",
    "# 테스트 함수\n",
    "def test(student_model, test_loader):\n",
    "    student_model.eval()\n",
    "    correct = 0\n",
    "    with torch.no_grad():\n",
    "        for data, target in test_loader:\n",
    "            data, target = data.to(DEVICE), target.to(DEVICE)\n",
    "            output = student_model(data)\n",
    "            pred = output.argmax(dim=1, keepdim=True)\n",
    "            correct += pred.eq(target.view_as(pred)).sum().item()\n",
    "\n",
    "    accuracy = 100. * correct / len(test_loader.dataset)\n",
    "    print(f'Test set: Accuracy: {accuracy:.2f}%')\n",
    "\n",
    "# 전체 학습 루프\n",
    "for epoch in range(1, EPOCHS + 1):\n",
    "    train_student(student_model, train_loader, soft_labels, optimizer, TEMPERATURE, ALPHA)\n",
    "    print(f'Epoch {epoch}:', end=\" \")\n",
    "    test(student_model, test_loader)"
   ]
  },
  {
   "cell_type": "code",
   "execution_count": null,
   "metadata": {},
   "outputs": [],
   "source": [
    "#이 모델 저장해놓기\n",
    "torch.save(student_model.state_dict(),\"student_model_with_resnet_50.pth\")"
   ]
  },
  {
   "cell_type": "code",
   "execution_count": null,
   "metadata": {},
   "outputs": [],
   "source": [
    "#Distilled Model 받아오고 시작할 거라면 여기 실행\n",
    "student_model = Net().to(DEVICE)\n",
    "student_model.load_state_dict(torch.load(\"student_model_with_resnet_50.pth\"))\n",
    "student_model.eval()"
   ]
  },
  {
   "cell_type": "markdown",
   "metadata": {},
   "source": [
    "---\n",
    "---\n",
    "## Adversarial Defense Test - Naive Model\n",
    "---\n",
    "---\n"
   ]
  },
  {
   "cell_type": "code",
   "execution_count": null,
   "metadata": {},
   "outputs": [],
   "source": [
    "#Student_Net -> 컨베렐*4\n",
    "class Net(nn.Module): \n",
    "    def __init__(self):\n",
    "        super(Net, self).__init__()\n",
    "        self.conv1 = nn.Conv2d(1, 32, kernel_size=3, padding=1)\n",
    "        self.bn1 = nn.BatchNorm2d(32)\n",
    "        self.conv2 = nn.Conv2d(32, 64, kernel_size=3, padding=1)\n",
    "        self.bn2 = nn.BatchNorm2d(64)\n",
    "        self.pool = nn.MaxPool2d(2, 2)\n",
    "        self.fc1 = nn.Linear(64 * 7 * 7, 512)\n",
    "        self.bn_fc1 = nn.BatchNorm1d(512)\n",
    "        self.fc2 = nn.Linear(512, 256)\n",
    "        self.bn_fc2 = nn.BatchNorm1d(256)\n",
    "        self.fc3 = nn.Linear(256, 10)\n",
    "        self.dropout = nn.Dropout(0.5)\n",
    "\n",
    "    def forward(self, x):\n",
    "        x = self.pool(F.gelu(self.bn1(self.conv1(x))))\n",
    "        x = self.pool(F.gelu(self.bn2(self.conv2(x))))\n",
    "        x = x.view(-1, 64 * 7 * 7)\n",
    "        x = F.gelu(self.bn_fc1(self.fc1(x)))\n",
    "        x = self.dropout(x)\n",
    "        x = F.gelu(self.bn_fc2(self.fc2(x)))\n",
    "        x = self.dropout(x)\n",
    "        x = self.fc3(x)\n",
    "        return x\n",
    "\n",
    "\n",
    "#naive_model,optimizer,criterion 설정\n",
    "naive_model = Net().to(DEVICE)\n",
    "optimizer = torch.optim.SGD(naive_model.parameters(),lr=0.01,momentum=0.5)\n",
    "criterion=nn.CrossEntropyLoss()\n",
    "\n",
    "print(naive_model)"
   ]
  },
  {
   "cell_type": "code",
   "execution_count": null,
   "metadata": {},
   "outputs": [],
   "source": [
    "# 학습 함수\n",
    "def train(model, device, train_loader, optimizer, criterion, epochs):\n",
    "    model.train()\n",
    "    for epoch in range(epochs):\n",
    "        running_loss = 0.0\n",
    "        for batch_idx, (data, target) in enumerate(train_loader):\n",
    "            data, target = data.to(device), target.to(device)\n",
    "            \n",
    "            optimizer.zero_grad()\n",
    "            output = model(data)\n",
    "            loss = criterion(output, target)\n",
    "            loss.backward()\n",
    "            optimizer.step()\n",
    "            \n",
    "            running_loss += loss.item()\n",
    "        \n",
    "        avg_loss = running_loss / len(train_loader)\n",
    "        print(f\"Epoch {epoch + 1}/{epochs}, Loss: {avg_loss:.4f}\")\n",
    "# Basic Evaluation Function\n",
    "def evaluate(model, test_loader, criterion):\n",
    "    model.eval()\n",
    "    test_loss = 0\n",
    "    correct = 0\n",
    "    all_labels = []\n",
    "    all_predictions = []\n",
    "    \n",
    "    with torch.no_grad():\n",
    "        for image, label in test_loader:\n",
    "            image = image.to(DEVICE)\n",
    "            label = label.to(DEVICE)\n",
    "            output = model(image)\n",
    "            test_loss += criterion(output, label).item()\n",
    "            prediction = output.max(1, keepdim=True)[1]\n",
    "            correct += prediction.eq(label.view_as(prediction)).sum().item()\n",
    "            \n",
    "            all_labels.extend(label.cpu().numpy())\n",
    "            all_predictions.extend(prediction.cpu().numpy())\n",
    "    \n",
    "    test_loss /= len(test_loader)\n",
    "    test_accuracy = 100. * correct / len(test_loader.dataset)\n",
    "    \n",
    "    f1 = f1_score(all_labels, all_predictions, average='macro')\n",
    "    cm = confusion_matrix(all_labels, all_predictions)\n",
    "    \n",
    "    print(f\"Test Loss: {test_loss:.4f}\")\n",
    "    print(f\"Test Accuracy: {test_accuracy:.2f}%\")\n",
    "    print(f\"F1 Score (Macro): {f1:.4f}\")\n",
    "    print(\"Confusion Matrix:\")\n",
    "    print(cm)\n"
   ]
  },
  {
   "cell_type": "code",
   "execution_count": null,
   "metadata": {},
   "outputs": [],
   "source": [
    "# Attack 전과 후의 이미지 비교출력코드\n",
    "def visualize_comparison(original_images_list, perturbed_images_list, original_labels_list, perturbed_preds_list, num_images=16):\n",
    "    \n",
    "    # Concatenate all batches into a single tensor and ensure they are detached\n",
    "    original_images = torch.cat(original_images_list, dim=0)[:num_images].detach()\n",
    "    perturbed_images = torch.cat(perturbed_images_list, dim=0)[:num_images].detach()\n",
    "    original_labels = np.concatenate(original_labels_list, axis=0)[:num_images]\n",
    "    perturbed_preds = np.concatenate(perturbed_preds_list, axis=0)[:num_images]\n",
    "    \n",
    "    # Calculate the number of rows needed\n",
    "    num_cols = 8  # Number of images per row\n",
    "    num_rows = (num_images + num_cols - 1) // num_cols  # Calculate rows needed to display all images\n",
    "\n",
    "    fig, axes = plt.subplots(2 * num_rows, num_cols, figsize=(2 * num_cols, 4 * num_rows))\n",
    "    \n",
    "    for i in range(num_images):\n",
    "        row = (i // num_cols) * 2  # Determine the row index (original and adversarial)\n",
    "        col = i % num_cols  # Determine the column index\n",
    "        \n",
    "        # Original Image\n",
    "        axes[row, col].imshow(original_images[i].squeeze().cpu().numpy(), cmap='gray')\n",
    "        axes[row, col].set_title(f\"Original: {original_labels[i]}\")\n",
    "        axes[row, col].axis('off')\n",
    "        \n",
    "        # Adversarial Image\n",
    "        axes[row + 1, col].imshow(perturbed_images[i].squeeze().cpu().numpy(), cmap='gray')\n",
    "        axes[row + 1, col].set_title(f\"Adversarial: {perturbed_preds[i]}\")\n",
    "        axes[row + 1, col].axis('off')\n",
    "    \n",
    "    # Hide any unused subplots\n",
    "    for i in range(num_images, num_cols * num_rows):\n",
    "        row = (i // num_cols) * 2\n",
    "        col = i % num_cols\n",
    "        axes[row, col].axis('off')\n",
    "        axes[row + 1, col].axis('off')\n",
    "\n",
    "    plt.tight_layout()\n",
    "    plt.show()="
   ]
  },
  {
   "cell_type": "code",
   "execution_count": null,
   "metadata": {},
   "outputs": [],
   "source": [
    "# T-SNE 출력코드\n",
    "def visualize_tsne(model, test_loader, epsilon, alpha, iterations, visualize=True, num_images=1000, mode='FGSM'):\n",
    "    model.eval()\n",
    "    images_list = []\n",
    "    labels_list = []\n",
    "\n",
    "    criterion = torch.nn.CrossEntropyLoss()\n",
    "\n",
    "    for i, (images, labels) in enumerate(test_loader):\n",
    "        if i * len(images) >= num_images:\n",
    "            break\n",
    "\n",
    "        images, labels = images.to(DEVICE), labels.to(DEVICE)\n",
    "\n",
    "        # Apply attack based on mode\n",
    "        if mode == 'FGSM':\n",
    "            perturbed_images = fgsm_attack_2(model, images, labels, epsilon, criterion)\n",
    "        elif mode == 'PGD':\n",
    "            perturbed_images = pgd_attack(model, images, labels, epsilon, alpha, iterations, criterion)\n",
    "        else:\n",
    "            raise ValueError(\"Mode must be either 'FGSM' or 'PGD'\")\n",
    "\n",
    "        # Collect original and perturbed images for TSNE\n",
    "        with torch.no_grad():\n",
    "            images_list.append(images)\n",
    "            labels_list.append(labels)\n",
    "            images_list.append(perturbed_images)\n",
    "            labels_list.append(labels)\n",
    "\n",
    "    # Stack all images and labels\n",
    "    images_list = torch.cat(images_list, dim=0)\n",
    "    labels_list = torch.cat(labels_list, dim=0).cpu().numpy()  # Move to CPU and convert to numpy\n",
    "\n",
    "    # Pass images through the model to get the features\n",
    "    with torch.no_grad():\n",
    "        features = model(images_list).view(images_list.size(0), -1)\n",
    "\n",
    "    # Apply TSNE to reduce to 2 dimensions\n",
    "    tsne = TSNE(n_components=2, random_state=42)\n",
    "    tsne_features = tsne.fit_transform(features.cpu().numpy())\n",
    "\n",
    "    # Plot the TSNE visualization\n",
    "    if visualize:\n",
    "        # Colors and markers for each class (0-9)\n",
    "        colors = cm.get_cmap('tab10', 10)  # Using a colormap with 10 colors\n",
    "        markers = ['o', 's', 'v', '^', '<', '>', 'P', '*', 'X', 'D']  # Different markers for diversity\n",
    "\n",
    "        plt.figure(figsize=(12, 10))\n",
    "        for class_idx in range(10):\n",
    "            # Plot original images\n",
    "            class_mask = (labels_list[:len(images_list)//2] == class_idx)\n",
    "            plt.scatter(tsne_features[:len(images_list)//2, 0][class_mask], \n",
    "                        tsne_features[:len(images_list)//2, 1][class_mask], \n",
    "                        color=colors(class_idx), marker=markers[class_idx], label=f'Original {class_idx}', alpha=0.5)\n",
    "            \n",
    "            # Plot perturbed images\n",
    "            class_mask = (labels_list[len(images_list)//2:] == class_idx)\n",
    "            plt.scatter(tsne_features[len(images_list)//2:, 0][class_mask], \n",
    "                        tsne_features[len(images_list)//2:, 1][class_mask], \n",
    "                        color=colors(class_idx), marker=markers[class_idx], label=f'Perturbed {class_idx}', edgecolor='k', alpha=0.5)\n",
    "        \n",
    "        # Set the legend to appear in the top right and split into 2 columns\n",
    "        plt.legend(loc='upper right', bbox_to_anchor=(1.15, 1), ncol=2)\n",
    "        plt.title(f'TSNE Visualization - {mode} Attack')\n",
    "        plt.show()\n",
    "\n",
    "    return tsne_features, labels_list\n"
   ]
  },
  {
   "cell_type": "code",
   "execution_count": null,
   "metadata": {},
   "outputs": [],
   "source": [
    "train(naive_model, DEVICE, train_loader, optimizer, criterion, EPOCHS)\n",
    "evaluate(naive_model,test_loader, criterion)\n"
   ]
  },
  {
   "cell_type": "code",
   "execution_count": null,
   "metadata": {},
   "outputs": [],
   "source": [
    "# FGSM에 대한 시각화\n",
    "\n",
    "def fgsm_attack(model, data, target, epsilon):\n",
    "    # 데이터에 대한 그래디언트 계산을 활성화\n",
    "    data.requires_grad = True\n",
    "    \n",
    "    # 모델의 예측 및 손실 계산\n",
    "    output = model(data)\n",
    "    loss = F.cross_entropy(output, target)\n",
    "    \n",
    "    # 역전파를 통해 입력 데이터에 대한 그래디언트 계산\n",
    "    model.zero_grad()\n",
    "    loss.backward()\n",
    "    \n",
    "    # 그래디언트의 부호를 이용해 입력 데이터 조작\n",
    "    data_grad = data.grad.data\n",
    "    perturbed_data = data + epsilon * data_grad.sign()\n",
    "    perturbed_data = torch.clamp(perturbed_data, 0, 1)  # 데이터 값을 [0,1]로 제한\n",
    "    \n",
    "    return perturbed_data\n",
    "\n",
    "def evaluate_fgsm_atack(model, device, test_loader, epsilon):\n",
    "    model.eval()\n",
    "    correct = 0\n",
    "    adv_examples = []\n",
    "\n",
    "    # 각 테스트 배치에 대해 공격 수행\n",
    "    for data, target in test_loader:\n",
    "        data, target = data.to(device), target.to(device)\n",
    "        \n",
    "        # FGSM 공격 수행\n",
    "        perturbed_data = fgsm_attack(model, data, target, epsilon)\n",
    "        \n",
    "        # 적대적 예제에 대해 모델의 예측 확인\n",
    "        output = model(perturbed_data)\n",
    "        pred = output.max(1, keepdim=True)[1]  # 예측된 클래스\n",
    "        correct += pred.eq(target.view_as(pred)).sum().item()\n",
    "        \n",
    "        # 적대적 예제 일부 저장 (원본과 비교 위해)\n",
    "        if len(adv_examples) < 5:\n",
    "            adv_ex = perturbed_data[0].detach().cpu().numpy()\n",
    "            adv_examples.append((target[0].item(), pred[0].item(), adv_ex))\n",
    "    \n",
    "    # 공격된 데이터셋의 정확도 계산\n",
    "    final_acc = correct / len(test_loader.dataset)\n",
    "    print(f'Epsilon: {epsilon}\\tTest Accuracy under attack: {final_acc * 100:.2f}%')\n",
    "    return final_acc, adv_examples"
   ]
  },
  {
   "cell_type": "code",
   "execution_count": null,
   "metadata": {},
   "outputs": [],
   "source": [
    "# FGSM to Naive_Model : 이거만 바꾸면서 쓰면 됨\n",
    "epsilons = [0, 0.05, 0.1, 0.15, 0.2, 0.25, 0.3]\n",
    "accuracies = []\n",
    "examples = []\n",
    "\n",
    "for epsilon in epsilons:\n",
    "    acc, ex = evaluate_fgsm_atack(naive_model, DEVICE, test_loader, epsilon)\n",
    "    accuracies.append(acc)\n",
    "    examples.append(ex)\n",
    "\n",
    "# 여러 epsilon 값에 따른 적대적 예제 시각화\n",
    "plt.figure(figsize=(10, 10))\n",
    "for i, (epsilon, ex) in enumerate(zip(epsilons, examples)):\n",
    "    for j in range(len(ex)):\n",
    "        target, pred, adv_ex = ex[j]\n",
    "        plt.subplot(len(epsilons), len(examples[0]), i * len(ex) + j + 1)\n",
    "        plt.xticks([], [])\n",
    "        plt.yticks([], [])\n",
    "        if j == 0:\n",
    "            plt.ylabel(f\"Eps: {epsilon}\", fontsize=14)\n",
    "        plt.title(f\"{target} -> {pred}\")\n",
    "        plt.imshow(adv_ex.squeeze(), cmap=\"gray\")\n",
    "plt.tight_layout()\n",
    "plt.show()"
   ]
  },
  {
   "cell_type": "code",
   "execution_count": 118,
   "metadata": {},
   "outputs": [],
   "source": [
    "def pgd_attack(model, data, target, epsilon, alpha, num_iter):\n",
    "    # 원본 데이터를 저장하여 나중에 값을 제한하는 데 사용\n",
    "    original_data = data.clone().detach()\n",
    "    \n",
    "    for _ in range(num_iter):\n",
    "        # 그래디언트 계산을 위해 매 스텝에서 requires_grad 활성화\n",
    "        data.requires_grad = True\n",
    "\n",
    "        # 모델의 출력과 손실 계산\n",
    "        output = model(data)\n",
    "        loss = F.cross_entropy(output, target)\n",
    "\n",
    "        # 손실에 대한 그래디언트 계산\n",
    "        model.zero_grad()\n",
    "        loss.backward()\n",
    "\n",
    "        # 입력 데이터 조정\n",
    "        data_grad = data.grad.data\n",
    "        data = data + alpha * data_grad.sign()  # 작은 스텝(alpha)만큼 이동\n",
    "        data = torch.max(torch.min(data, original_data + epsilon), original_data - epsilon)  # epsilon 범위로 제한\n",
    "        data = torch.clamp(data, 0, 1)  # 입력 범위 유지\n",
    "\n",
    "        # requires_grad를 비활성화하여 메모리 절약\n",
    "        data = data.detach()  # 그래디언트를 유지하지 않도록\n",
    "\n",
    "    return data\n",
    "\n",
    "def evaluate_pgd_attack(model, device, test_loader, epsilon, alpha, num_iter):\n",
    "    model.eval()\n",
    "    correct = 0\n",
    "    adv_examples = []\n",
    "\n",
    "    for data, target in test_loader:\n",
    "        data, target = data.to(device), target.to(device)\n",
    "        \n",
    "        # PGD 공격 수행\n",
    "        perturbed_data = pgd_attack(model, data, target, epsilon, alpha, num_iter)\n",
    "        \n",
    "        # 적대적 예제에 대한 예측 확인\n",
    "        output = model(perturbed_data)\n",
    "        pred = output.max(1, keepdim=True)[1]\n",
    "        correct += pred.eq(target.view_as(pred)).sum().item()\n",
    "\n",
    "        # 적대적 예제 일부 저장 (원본과 비교 위해)\n",
    "        if len(adv_examples) < 5:\n",
    "            adv_ex = perturbed_data[0].detach().cpu().numpy()\n",
    "            adv_examples.append((target[0].item(), pred[0].item(), adv_ex))\n",
    "    \n",
    "    # 공격된 데이터셋에 대한 정확도\n",
    "    final_acc = correct / len(test_loader.dataset)\n",
    "    print(f\"Epsilon: {epsilon}, Alpha: {alpha}, Iterations: {num_iter} - Test Accuracy under PGD attack: {final_acc * 100:.2f}%\")\n",
    "    return final_acc, adv_examples\n"
   ]
  },
  {
   "cell_type": "code",
   "execution_count": null,
   "metadata": {},
   "outputs": [
    {
     "name": "stdout",
     "output_type": "stream",
     "text": [
      "Epsilon: 0.1, Alpha: 0.01, Iterations: 40 - Test Accuracy under PGD attack: 9.07%\n",
      "Epsilon: 0.2, Alpha: 0.01, Iterations: 40 - Test Accuracy under PGD attack: 0.00%\n",
      "Epsilon: 0.3, Alpha: 0.01, Iterations: 40 - Test Accuracy under PGD attack: 0.00%\n"
     ]
    },
    {
     "data": {
      "text/plain": [
       "<Figure size 1200x1200 with 0 Axes>"
      ]
     },
     "execution_count": 119,
     "metadata": {},
     "output_type": "execute_result"
    },
    {
     "data": {
      "text/plain": [
       "<Axes: >"
      ]
     },
     "execution_count": 119,
     "metadata": {},
     "output_type": "execute_result"
    },
    {
     "data": {
      "text/plain": [
       "([], [])"
      ]
     },
     "execution_count": 119,
     "metadata": {},
     "output_type": "execute_result"
    },
    {
     "data": {
      "text/plain": [
       "([], [])"
      ]
     },
     "execution_count": 119,
     "metadata": {},
     "output_type": "execute_result"
    },
    {
     "data": {
      "text/plain": [
       "Text(0, 0.5, 'Epsilon: 0.1')"
      ]
     },
     "execution_count": 119,
     "metadata": {},
     "output_type": "execute_result"
    },
    {
     "data": {
      "text/plain": [
       "Text(0.5, 1.0, '7 -> 0')"
      ]
     },
     "execution_count": 119,
     "metadata": {},
     "output_type": "execute_result"
    },
    {
     "data": {
      "text/plain": [
       "<matplotlib.image.AxesImage at 0x20b86a17130>"
      ]
     },
     "execution_count": 119,
     "metadata": {},
     "output_type": "execute_result"
    },
    {
     "data": {
      "text/plain": [
       "<Axes: >"
      ]
     },
     "execution_count": 119,
     "metadata": {},
     "output_type": "execute_result"
    },
    {
     "data": {
      "text/plain": [
       "([], [])"
      ]
     },
     "execution_count": 119,
     "metadata": {},
     "output_type": "execute_result"
    },
    {
     "data": {
      "text/plain": [
       "([], [])"
      ]
     },
     "execution_count": 119,
     "metadata": {},
     "output_type": "execute_result"
    },
    {
     "data": {
      "text/plain": [
       "Text(0.5, 1.0, '3 -> 3')"
      ]
     },
     "execution_count": 119,
     "metadata": {},
     "output_type": "execute_result"
    },
    {
     "data": {
      "text/plain": [
       "<matplotlib.image.AxesImage at 0x20b86aab940>"
      ]
     },
     "execution_count": 119,
     "metadata": {},
     "output_type": "execute_result"
    },
    {
     "data": {
      "text/plain": [
       "<Axes: >"
      ]
     },
     "execution_count": 119,
     "metadata": {},
     "output_type": "execute_result"
    },
    {
     "data": {
      "text/plain": [
       "([], [])"
      ]
     },
     "execution_count": 119,
     "metadata": {},
     "output_type": "execute_result"
    },
    {
     "data": {
      "text/plain": [
       "([], [])"
      ]
     },
     "execution_count": 119,
     "metadata": {},
     "output_type": "execute_result"
    },
    {
     "data": {
      "text/plain": [
       "Text(0.5, 1.0, '7 -> 3')"
      ]
     },
     "execution_count": 119,
     "metadata": {},
     "output_type": "execute_result"
    },
    {
     "data": {
      "text/plain": [
       "<matplotlib.image.AxesImage at 0x20b86ae5cc0>"
      ]
     },
     "execution_count": 119,
     "metadata": {},
     "output_type": "execute_result"
    },
    {
     "data": {
      "text/plain": [
       "<Axes: >"
      ]
     },
     "execution_count": 119,
     "metadata": {},
     "output_type": "execute_result"
    },
    {
     "data": {
      "text/plain": [
       "([], [])"
      ]
     },
     "execution_count": 119,
     "metadata": {},
     "output_type": "execute_result"
    },
    {
     "data": {
      "text/plain": [
       "([], [])"
      ]
     },
     "execution_count": 119,
     "metadata": {},
     "output_type": "execute_result"
    },
    {
     "data": {
      "text/plain": [
       "Text(0.5, 1.0, '1 -> 4')"
      ]
     },
     "execution_count": 119,
     "metadata": {},
     "output_type": "execute_result"
    },
    {
     "data": {
      "text/plain": [
       "<matplotlib.image.AxesImage at 0x20b86b11ae0>"
      ]
     },
     "execution_count": 119,
     "metadata": {},
     "output_type": "execute_result"
    },
    {
     "data": {
      "text/plain": [
       "<Axes: >"
      ]
     },
     "execution_count": 119,
     "metadata": {},
     "output_type": "execute_result"
    },
    {
     "data": {
      "text/plain": [
       "([], [])"
      ]
     },
     "execution_count": 119,
     "metadata": {},
     "output_type": "execute_result"
    },
    {
     "data": {
      "text/plain": [
       "([], [])"
      ]
     },
     "execution_count": 119,
     "metadata": {},
     "output_type": "execute_result"
    },
    {
     "data": {
      "text/plain": [
       "Text(0.5, 1.0, '8 -> 8')"
      ]
     },
     "execution_count": 119,
     "metadata": {},
     "output_type": "execute_result"
    },
    {
     "data": {
      "text/plain": [
       "<matplotlib.image.AxesImage at 0x20b86b40130>"
      ]
     },
     "execution_count": 119,
     "metadata": {},
     "output_type": "execute_result"
    },
    {
     "data": {
      "text/plain": [
       "<Axes: >"
      ]
     },
     "execution_count": 119,
     "metadata": {},
     "output_type": "execute_result"
    },
    {
     "data": {
      "text/plain": [
       "([], [])"
      ]
     },
     "execution_count": 119,
     "metadata": {},
     "output_type": "execute_result"
    },
    {
     "data": {
      "text/plain": [
       "([], [])"
      ]
     },
     "execution_count": 119,
     "metadata": {},
     "output_type": "execute_result"
    },
    {
     "data": {
      "text/plain": [
       "Text(0, 0.5, 'Epsilon: 0.2')"
      ]
     },
     "execution_count": 119,
     "metadata": {},
     "output_type": "execute_result"
    },
    {
     "data": {
      "text/plain": [
       "Text(0.5, 1.0, '7 -> 0')"
      ]
     },
     "execution_count": 119,
     "metadata": {},
     "output_type": "execute_result"
    },
    {
     "data": {
      "text/plain": [
       "<matplotlib.image.AxesImage at 0x20b86b67a00>"
      ]
     },
     "execution_count": 119,
     "metadata": {},
     "output_type": "execute_result"
    },
    {
     "data": {
      "text/plain": [
       "<Axes: >"
      ]
     },
     "execution_count": 119,
     "metadata": {},
     "output_type": "execute_result"
    },
    {
     "data": {
      "text/plain": [
       "([], [])"
      ]
     },
     "execution_count": 119,
     "metadata": {},
     "output_type": "execute_result"
    },
    {
     "data": {
      "text/plain": [
       "([], [])"
      ]
     },
     "execution_count": 119,
     "metadata": {},
     "output_type": "execute_result"
    },
    {
     "data": {
      "text/plain": [
       "Text(0.5, 1.0, '3 -> 9')"
      ]
     },
     "execution_count": 119,
     "metadata": {},
     "output_type": "execute_result"
    },
    {
     "data": {
      "text/plain": [
       "<matplotlib.image.AxesImage at 0x20b86bcc9a0>"
      ]
     },
     "execution_count": 119,
     "metadata": {},
     "output_type": "execute_result"
    },
    {
     "data": {
      "text/plain": [
       "<Axes: >"
      ]
     },
     "execution_count": 119,
     "metadata": {},
     "output_type": "execute_result"
    },
    {
     "data": {
      "text/plain": [
       "([], [])"
      ]
     },
     "execution_count": 119,
     "metadata": {},
     "output_type": "execute_result"
    },
    {
     "data": {
      "text/plain": [
       "([], [])"
      ]
     },
     "execution_count": 119,
     "metadata": {},
     "output_type": "execute_result"
    },
    {
     "data": {
      "text/plain": [
       "Text(0.5, 1.0, '7 -> 3')"
      ]
     },
     "execution_count": 119,
     "metadata": {},
     "output_type": "execute_result"
    },
    {
     "data": {
      "text/plain": [
       "<matplotlib.image.AxesImage at 0x20b86bf9c00>"
      ]
     },
     "execution_count": 119,
     "metadata": {},
     "output_type": "execute_result"
    },
    {
     "data": {
      "text/plain": [
       "<Axes: >"
      ]
     },
     "execution_count": 119,
     "metadata": {},
     "output_type": "execute_result"
    },
    {
     "data": {
      "text/plain": [
       "([], [])"
      ]
     },
     "execution_count": 119,
     "metadata": {},
     "output_type": "execute_result"
    },
    {
     "data": {
      "text/plain": [
       "([], [])"
      ]
     },
     "execution_count": 119,
     "metadata": {},
     "output_type": "execute_result"
    },
    {
     "data": {
      "text/plain": [
       "Text(0.5, 1.0, '1 -> 4')"
      ]
     },
     "execution_count": 119,
     "metadata": {},
     "output_type": "execute_result"
    },
    {
     "data": {
      "text/plain": [
       "<matplotlib.image.AxesImage at 0x20b86bcece0>"
      ]
     },
     "execution_count": 119,
     "metadata": {},
     "output_type": "execute_result"
    },
    {
     "data": {
      "text/plain": [
       "<Axes: >"
      ]
     },
     "execution_count": 119,
     "metadata": {},
     "output_type": "execute_result"
    },
    {
     "data": {
      "text/plain": [
       "([], [])"
      ]
     },
     "execution_count": 119,
     "metadata": {},
     "output_type": "execute_result"
    },
    {
     "data": {
      "text/plain": [
       "([], [])"
      ]
     },
     "execution_count": 119,
     "metadata": {},
     "output_type": "execute_result"
    },
    {
     "data": {
      "text/plain": [
       "Text(0.5, 1.0, '8 -> 3')"
      ]
     },
     "execution_count": 119,
     "metadata": {},
     "output_type": "execute_result"
    },
    {
     "data": {
      "text/plain": [
       "<matplotlib.image.AxesImage at 0x20b86c81840>"
      ]
     },
     "execution_count": 119,
     "metadata": {},
     "output_type": "execute_result"
    },
    {
     "data": {
      "text/plain": [
       "<Axes: >"
      ]
     },
     "execution_count": 119,
     "metadata": {},
     "output_type": "execute_result"
    },
    {
     "data": {
      "text/plain": [
       "([], [])"
      ]
     },
     "execution_count": 119,
     "metadata": {},
     "output_type": "execute_result"
    },
    {
     "data": {
      "text/plain": [
       "([], [])"
      ]
     },
     "execution_count": 119,
     "metadata": {},
     "output_type": "execute_result"
    },
    {
     "data": {
      "text/plain": [
       "Text(0, 0.5, 'Epsilon: 0.3')"
      ]
     },
     "execution_count": 119,
     "metadata": {},
     "output_type": "execute_result"
    },
    {
     "data": {
      "text/plain": [
       "Text(0.5, 1.0, '7 -> 0')"
      ]
     },
     "execution_count": 119,
     "metadata": {},
     "output_type": "execute_result"
    },
    {
     "data": {
      "text/plain": [
       "<matplotlib.image.AxesImage at 0x20b86cb9b10>"
      ]
     },
     "execution_count": 119,
     "metadata": {},
     "output_type": "execute_result"
    },
    {
     "data": {
      "text/plain": [
       "<Axes: >"
      ]
     },
     "execution_count": 119,
     "metadata": {},
     "output_type": "execute_result"
    },
    {
     "data": {
      "text/plain": [
       "([], [])"
      ]
     },
     "execution_count": 119,
     "metadata": {},
     "output_type": "execute_result"
    },
    {
     "data": {
      "text/plain": [
       "([], [])"
      ]
     },
     "execution_count": 119,
     "metadata": {},
     "output_type": "execute_result"
    },
    {
     "data": {
      "text/plain": [
       "Text(0.5, 1.0, '3 -> 9')"
      ]
     },
     "execution_count": 119,
     "metadata": {},
     "output_type": "execute_result"
    },
    {
     "data": {
      "text/plain": [
       "<matplotlib.image.AxesImage at 0x20b8714fa00>"
      ]
     },
     "execution_count": 119,
     "metadata": {},
     "output_type": "execute_result"
    },
    {
     "data": {
      "text/plain": [
       "<Axes: >"
      ]
     },
     "execution_count": 119,
     "metadata": {},
     "output_type": "execute_result"
    },
    {
     "data": {
      "text/plain": [
       "([], [])"
      ]
     },
     "execution_count": 119,
     "metadata": {},
     "output_type": "execute_result"
    },
    {
     "data": {
      "text/plain": [
       "([], [])"
      ]
     },
     "execution_count": 119,
     "metadata": {},
     "output_type": "execute_result"
    },
    {
     "data": {
      "text/plain": [
       "Text(0.5, 1.0, '7 -> 3')"
      ]
     },
     "execution_count": 119,
     "metadata": {},
     "output_type": "execute_result"
    },
    {
     "data": {
      "text/plain": [
       "<matplotlib.image.AxesImage at 0x20b86cbab00>"
      ]
     },
     "execution_count": 119,
     "metadata": {},
     "output_type": "execute_result"
    },
    {
     "data": {
      "text/plain": [
       "<Axes: >"
      ]
     },
     "execution_count": 119,
     "metadata": {},
     "output_type": "execute_result"
    },
    {
     "data": {
      "text/plain": [
       "([], [])"
      ]
     },
     "execution_count": 119,
     "metadata": {},
     "output_type": "execute_result"
    },
    {
     "data": {
      "text/plain": [
       "([], [])"
      ]
     },
     "execution_count": 119,
     "metadata": {},
     "output_type": "execute_result"
    },
    {
     "data": {
      "text/plain": [
       "Text(0.5, 1.0, '1 -> 4')"
      ]
     },
     "execution_count": 119,
     "metadata": {},
     "output_type": "execute_result"
    },
    {
     "data": {
      "text/plain": [
       "<matplotlib.image.AxesImage at 0x20b871ae710>"
      ]
     },
     "execution_count": 119,
     "metadata": {},
     "output_type": "execute_result"
    },
    {
     "data": {
      "text/plain": [
       "<Axes: >"
      ]
     },
     "execution_count": 119,
     "metadata": {},
     "output_type": "execute_result"
    },
    {
     "data": {
      "text/plain": [
       "([], [])"
      ]
     },
     "execution_count": 119,
     "metadata": {},
     "output_type": "execute_result"
    },
    {
     "data": {
      "text/plain": [
       "([], [])"
      ]
     },
     "execution_count": 119,
     "metadata": {},
     "output_type": "execute_result"
    },
    {
     "data": {
      "text/plain": [
       "Text(0.5, 1.0, '8 -> 3')"
      ]
     },
     "execution_count": 119,
     "metadata": {},
     "output_type": "execute_result"
    },
    {
     "data": {
      "text/plain": [
       "<matplotlib.image.AxesImage at 0x20b8720e980>"
      ]
     },
     "execution_count": 119,
     "metadata": {},
     "output_type": "execute_result"
    },
    {
     "data": {
      "text/plain": [
       "Text(0.5, 0.98, 'PGD Adversarial Examples with Various Epsilons')"
      ]
     },
     "execution_count": 119,
     "metadata": {},
     "output_type": "execute_result"
    },
    {
     "data": {
      "image/png": "[encoded data removed]",
      "text/plain": [
       "<Figure size 1200x1200 with 15 Axes>"
      ]
     },
     "metadata": {},
     "output_type": "display_data"
    }
   ],
   "source": [
    "# PGD to Naive_Model : 이거만 바꾸면서 쓰면 됨\n",
    "epsilons = [0.1, 0.2, 0.3]    # 여러 epsilon 값 (공격 강도)\n",
    "alpha = 0.01                  # 스텝 크기 (모든 epsilon에 동일하게 적용)\n",
    "num_iter = 40                 # 스텝 수 (모든 epsilon에 동일하게 적용)\n",
    "\n",
    "# 공격 결과를 저장할 리스트 초기화\n",
    "pgd_accuracies = []\n",
    "pgd_examples = []\n",
    "\n",
    "for epsilon in epsilons:\n",
    "    # 각 epsilon에 대해 PGD 공격 수행 및 모델 정확도 평가\n",
    "    acc, examples = evaluate_pgd_attack(naive_model, DEVICE, test_loader, epsilon, alpha, num_iter)\n",
    "    pgd_accuracies.append(acc)\n",
    "    pgd_examples.append(examples)\n",
    "\n",
    "# 여러 epsilon 값에 따른 적대적 예제 시각화\n",
    "plt.figure(figsize=(12, 12))\n",
    "for i, (epsilon, examples) in enumerate(zip(epsilons, pgd_examples)):\n",
    "    for j in range(len(examples)):\n",
    "        target, pred, adv_ex = examples[j]\n",
    "        plt.subplot(len(epsilons), len(examples), i * len(examples) + j + 1)\n",
    "        plt.xticks([], [])\n",
    "        plt.yticks([], [])\n",
    "        if j == 0:\n",
    "            plt.ylabel(f\"Epsilon: {epsilon}\", fontsize=12)\n",
    "        plt.title(f\"{target} -> {pred}\")\n",
    "        plt.imshow(adv_ex.squeeze(), cmap=\"gray\")\n",
    "plt.suptitle(\"PGD Adversarial Examples with Various Epsilons\")\n",
    "plt.tight_layout()\n",
    "plt.show()\n"
   ]
  },
  {
   "cell_type": "code",
   "execution_count": 131,
   "metadata": {},
   "outputs": [],
   "source": [
    "# C&W Attack - L2 Norm을 이용한 공격 함수\n",
    "def cw_l2_attack(model, images, labels, targeted=False, c=1e-4, kappa=0, max_iter=1000, learning_rate=0.01):\n",
    "    images = images.to(DEVICE)     \n",
    "    labels = labels.to(DEVICE)\n",
    "\n",
    "    # Define f-function\n",
    "    def f(x):\n",
    "        outputs = model(x)\n",
    "        one_hot_labels = torch.eye(len(outputs[0]), device=DEVICE)[labels]\n",
    "\n",
    "        i, _ = torch.max((1 - one_hot_labels) * outputs, dim=1)\n",
    "        j = torch.masked_select(outputs, one_hot_labels.bool())\n",
    "        \n",
    "        if targeted:\n",
    "            return torch.clamp(i - j, min=-kappa)\n",
    "        else:\n",
    "            return torch.clamp(j - i, min=-kappa)\n",
    "    \n",
    "    w = torch.zeros_like(images, requires_grad=True).to(DEVICE)\n",
    "    optimizer = torch.optim.Adam([w], lr=learning_rate)\n",
    "    prev = 1e10\n",
    "    \n",
    "    for step in range(max_iter):\n",
    "        a = 1 / 2 * (nn.Tanh()(w) + 1)\n",
    "        loss1 = nn.MSELoss(reduction='sum')(a, images)\n",
    "        loss2 = torch.sum(c * f(a))\n",
    "        cost = loss1 + loss2\n",
    "\n",
    "        optimizer.zero_grad()\n",
    "        cost.backward()\n",
    "        optimizer.step()\n",
    "\n",
    "        if step % (max_iter // 10) == 0:\n",
    "            if cost > prev:\n",
    "                print('Attack Stopped due to CONVERGENCE....')\n",
    "                return a\n",
    "            prev = cost\n",
    "\n",
    "    attack_images = 1 / 2 * (nn.Tanh()(w) + 1)\n",
    "    return attack_images\n",
    "\n",
    "# evaluate_cw_attack 함수에 tqdm 추가\n",
    "def evaluate_cw_attack(model, device, test_loader, c, kappa, max_iter, learning_rate):\n",
    "    model.eval()\n",
    "    correct = 0\n",
    "    adv_examples = []\n",
    "\n",
    "    for data, target in tqdm(test_loader, desc=\"Evaluating C&W Attack\"):\n",
    "        data, target = data.to(device), target.to(device)\n",
    "        \n",
    "        perturbed_data = cw_l2_attack(model, data, target, c=c, kappa=kappa, max_iter=max_iter, learning_rate=learning_rate)\n",
    "        \n",
    "        output = model(perturbed_data)\n",
    "        pred = output.max(1, keepdim=True)[1]\n",
    "        correct += pred.eq(target.view_as(pred)).sum().item()\n",
    "\n",
    "        if len(adv_examples) < 5:\n",
    "            adv_ex = perturbed_data[0].detach().cpu().numpy()\n",
    "            adv_examples.append((target[0].item(), pred[0].item(), adv_ex))\n",
    "\n",
    "    final_acc = correct / len(test_loader.dataset)\n",
    "    print(f\"CW Attack - c: {c}, Kappa: {kappa}, Iterations: {max_iter}, Learning Rate: {learning_rate} - Test Accuracy: {final_acc * 100:.2f}%\")\n",
    "    return final_acc, adv_examples\n"
   ]
  },
  {
   "cell_type": "code",
   "execution_count": 135,
   "metadata": {},
   "outputs": [
    {
     "name": "stderr",
     "output_type": "stream",
     "text": [
      "Evaluating C&W Attack: 100%|██████████| 313/313 [07:28<00:00,  1.43s/it]\n"
     ]
    },
    {
     "name": "stdout",
     "output_type": "stream",
     "text": [
      "CW Attack - c: 0.001, Kappa: 1, Iterations: 500, Learning Rate: 0.01 - Test Accuracy: 99.11%\n"
     ]
    },
    {
     "name": "stderr",
     "output_type": "stream",
     "text": [
      "Evaluating C&W Attack: 100%|██████████| 313/313 [07:29<00:00,  1.44s/it]"
     ]
    },
    {
     "name": "stdout",
     "output_type": "stream",
     "text": [
      "CW Attack - c: 0.01, Kappa: 1, Iterations: 500, Learning Rate: 0.01 - Test Accuracy: 98.95%\n"
     ]
    },
    {
     "name": "stderr",
     "output_type": "stream",
     "text": [
      "\n"
     ]
    },
    {
     "data": {
      "text/plain": [
       "<Figure size 1200x1200 with 0 Axes>"
      ]
     },
     "execution_count": 135,
     "metadata": {},
     "output_type": "execute_result"
    },
    {
     "data": {
      "text/plain": [
       "<Axes: >"
      ]
     },
     "execution_count": 135,
     "metadata": {},
     "output_type": "execute_result"
    },
    {
     "data": {
      "text/plain": [
       "([], [])"
      ]
     },
     "execution_count": 135,
     "metadata": {},
     "output_type": "execute_result"
    },
    {
     "data": {
      "text/plain": [
       "([], [])"
      ]
     },
     "execution_count": 135,
     "metadata": {},
     "output_type": "execute_result"
    },
    {
     "data": {
      "text/plain": [
       "Text(0, 0.5, 'c: 0.001')"
      ]
     },
     "execution_count": 135,
     "metadata": {},
     "output_type": "execute_result"
    },
    {
     "data": {
      "text/plain": [
       "Text(0.5, 1.0, '7 -> 7')"
      ]
     },
     "execution_count": 135,
     "metadata": {},
     "output_type": "execute_result"
    },
    {
     "data": {
      "text/plain": [
       "<matplotlib.image.AxesImage at 0x20bb82833a0>"
      ]
     },
     "execution_count": 135,
     "metadata": {},
     "output_type": "execute_result"
    },
    {
     "data": {
      "text/plain": [
       "<Axes: >"
      ]
     },
     "execution_count": 135,
     "metadata": {},
     "output_type": "execute_result"
    },
    {
     "data": {
      "text/plain": [
       "([], [])"
      ]
     },
     "execution_count": 135,
     "metadata": {},
     "output_type": "execute_result"
    },
    {
     "data": {
      "text/plain": [
       "([], [])"
      ]
     },
     "execution_count": 135,
     "metadata": {},
     "output_type": "execute_result"
    },
    {
     "data": {
      "text/plain": [
       "Text(0.5, 1.0, '3 -> 3')"
      ]
     },
     "execution_count": 135,
     "metadata": {},
     "output_type": "execute_result"
    },
    {
     "data": {
      "text/plain": [
       "<matplotlib.image.AxesImage at 0x20bb8297310>"
      ]
     },
     "execution_count": 135,
     "metadata": {},
     "output_type": "execute_result"
    },
    {
     "data": {
      "text/plain": [
       "<Axes: >"
      ]
     },
     "execution_count": 135,
     "metadata": {},
     "output_type": "execute_result"
    },
    {
     "data": {
      "text/plain": [
       "([], [])"
      ]
     },
     "execution_count": 135,
     "metadata": {},
     "output_type": "execute_result"
    },
    {
     "data": {
      "text/plain": [
       "([], [])"
      ]
     },
     "execution_count": 135,
     "metadata": {},
     "output_type": "execute_result"
    },
    {
     "data": {
      "text/plain": [
       "Text(0.5, 1.0, '7 -> 7')"
      ]
     },
     "execution_count": 135,
     "metadata": {},
     "output_type": "execute_result"
    },
    {
     "data": {
      "text/plain": [
       "<matplotlib.image.AxesImage at 0x20bb82e03d0>"
      ]
     },
     "execution_count": 135,
     "metadata": {},
     "output_type": "execute_result"
    },
    {
     "data": {
      "text/plain": [
       "<Axes: >"
      ]
     },
     "execution_count": 135,
     "metadata": {},
     "output_type": "execute_result"
    },
    {
     "data": {
      "text/plain": [
       "([], [])"
      ]
     },
     "execution_count": 135,
     "metadata": {},
     "output_type": "execute_result"
    },
    {
     "data": {
      "text/plain": [
       "([], [])"
      ]
     },
     "execution_count": 135,
     "metadata": {},
     "output_type": "execute_result"
    },
    {
     "data": {
      "text/plain": [
       "Text(0.5, 1.0, '1 -> 1')"
      ]
     },
     "execution_count": 135,
     "metadata": {},
     "output_type": "execute_result"
    },
    {
     "data": {
      "text/plain": [
       "<matplotlib.image.AxesImage at 0x20bb82fe410>"
      ]
     },
     "execution_count": 135,
     "metadata": {},
     "output_type": "execute_result"
    },
    {
     "data": {
      "text/plain": [
       "<Axes: >"
      ]
     },
     "execution_count": 135,
     "metadata": {},
     "output_type": "execute_result"
    },
    {
     "data": {
      "text/plain": [
       "([], [])"
      ]
     },
     "execution_count": 135,
     "metadata": {},
     "output_type": "execute_result"
    },
    {
     "data": {
      "text/plain": [
       "([], [])"
      ]
     },
     "execution_count": 135,
     "metadata": {},
     "output_type": "execute_result"
    },
    {
     "data": {
      "text/plain": [
       "Text(0.5, 1.0, '8 -> 8')"
      ]
     },
     "execution_count": 135,
     "metadata": {},
     "output_type": "execute_result"
    },
    {
     "data": {
      "text/plain": [
       "<matplotlib.image.AxesImage at 0x20bb8333400>"
      ]
     },
     "execution_count": 135,
     "metadata": {},
     "output_type": "execute_result"
    },
    {
     "data": {
      "text/plain": [
       "<Axes: >"
      ]
     },
     "execution_count": 135,
     "metadata": {},
     "output_type": "execute_result"
    },
    {
     "data": {
      "text/plain": [
       "([], [])"
      ]
     },
     "execution_count": 135,
     "metadata": {},
     "output_type": "execute_result"
    },
    {
     "data": {
      "text/plain": [
       "([], [])"
      ]
     },
     "execution_count": 135,
     "metadata": {},
     "output_type": "execute_result"
    },
    {
     "data": {
      "text/plain": [
       "Text(0, 0.5, 'c: 0.01')"
      ]
     },
     "execution_count": 135,
     "metadata": {},
     "output_type": "execute_result"
    },
    {
     "data": {
      "text/plain": [
       "Text(0.5, 1.0, '7 -> 7')"
      ]
     },
     "execution_count": 135,
     "metadata": {},
     "output_type": "execute_result"
    },
    {
     "data": {
      "text/plain": [
       "<matplotlib.image.AxesImage at 0x20bb835b3d0>"
      ]
     },
     "execution_count": 135,
     "metadata": {},
     "output_type": "execute_result"
    },
    {
     "data": {
      "text/plain": [
       "<Axes: >"
      ]
     },
     "execution_count": 135,
     "metadata": {},
     "output_type": "execute_result"
    },
    {
     "data": {
      "text/plain": [
       "([], [])"
      ]
     },
     "execution_count": 135,
     "metadata": {},
     "output_type": "execute_result"
    },
    {
     "data": {
      "text/plain": [
       "([], [])"
      ]
     },
     "execution_count": 135,
     "metadata": {},
     "output_type": "execute_result"
    },
    {
     "data": {
      "text/plain": [
       "Text(0.5, 1.0, '3 -> 3')"
      ]
     },
     "execution_count": 135,
     "metadata": {},
     "output_type": "execute_result"
    },
    {
     "data": {
      "text/plain": [
       "<matplotlib.image.AxesImage at 0x20bb83b1fc0>"
      ]
     },
     "execution_count": 135,
     "metadata": {},
     "output_type": "execute_result"
    },
    {
     "data": {
      "text/plain": [
       "<Axes: >"
      ]
     },
     "execution_count": 135,
     "metadata": {},
     "output_type": "execute_result"
    },
    {
     "data": {
      "text/plain": [
       "([], [])"
      ]
     },
     "execution_count": 135,
     "metadata": {},
     "output_type": "execute_result"
    },
    {
     "data": {
      "text/plain": [
       "([], [])"
      ]
     },
     "execution_count": 135,
     "metadata": {},
     "output_type": "execute_result"
    },
    {
     "data": {
      "text/plain": [
       "Text(0.5, 1.0, '7 -> 7')"
      ]
     },
     "execution_count": 135,
     "metadata": {},
     "output_type": "execute_result"
    },
    {
     "data": {
      "text/plain": [
       "<matplotlib.image.AxesImage at 0x20bb83ef040>"
      ]
     },
     "execution_count": 135,
     "metadata": {},
     "output_type": "execute_result"
    },
    {
     "data": {
      "text/plain": [
       "<Axes: >"
      ]
     },
     "execution_count": 135,
     "metadata": {},
     "output_type": "execute_result"
    },
    {
     "data": {
      "text/plain": [
       "([], [])"
      ]
     },
     "execution_count": 135,
     "metadata": {},
     "output_type": "execute_result"
    },
    {
     "data": {
      "text/plain": [
       "([], [])"
      ]
     },
     "execution_count": 135,
     "metadata": {},
     "output_type": "execute_result"
    },
    {
     "data": {
      "text/plain": [
       "Text(0.5, 1.0, '1 -> 1')"
      ]
     },
     "execution_count": 135,
     "metadata": {},
     "output_type": "execute_result"
    },
    {
     "data": {
      "text/plain": [
       "<matplotlib.image.AxesImage at 0x20bb8412050>"
      ]
     },
     "execution_count": 135,
     "metadata": {},
     "output_type": "execute_result"
    },
    {
     "data": {
      "text/plain": [
       "<Axes: >"
      ]
     },
     "execution_count": 135,
     "metadata": {},
     "output_type": "execute_result"
    },
    {
     "data": {
      "text/plain": [
       "([], [])"
      ]
     },
     "execution_count": 135,
     "metadata": {},
     "output_type": "execute_result"
    },
    {
     "data": {
      "text/plain": [
       "([], [])"
      ]
     },
     "execution_count": 135,
     "metadata": {},
     "output_type": "execute_result"
    },
    {
     "data": {
      "text/plain": [
       "Text(0.5, 1.0, '8 -> 8')"
      ]
     },
     "execution_count": 135,
     "metadata": {},
     "output_type": "execute_result"
    },
    {
     "data": {
      "text/plain": [
       "<matplotlib.image.AxesImage at 0x20bb844eef0>"
      ]
     },
     "execution_count": 135,
     "metadata": {},
     "output_type": "execute_result"
    },
    {
     "data": {
      "text/plain": [
       "Text(0.5, 0.98, 'C&W Adversarial Examples with Various c Values')"
      ]
     },
     "execution_count": 135,
     "metadata": {},
     "output_type": "execute_result"
    },
    {
     "data": {
      "image/png": "[encoded data removed]",
      "text/plain": [
       "<Figure size 1200x1200 with 10 Axes>"
      ]
     },
     "metadata": {},
     "output_type": "display_data"
    }
   ],
   "source": [
    "# C&W 공격 설정\n",
    "c_values = [1e-3,1e-2]  # 여러 c 값 (공격 강도)\n",
    "kappa = 1                     # confidence 매개변수\n",
    "max_iter = 500                 # 공격 반복 횟수\n",
    "learning_rate = 0.01            # 학습률\n",
    "\n",
    "# 공격 결과를 저장할 리스트 초기화\n",
    "cw_accuracies = []\n",
    "cw_examples = []\n",
    "\n",
    "for c in c_values:\n",
    "    # 각 c에 대해 C&W 공격 수행 및 모델 정확도 평가\n",
    "    acc, examples = evaluate_cw_attack(naive_model, DEVICE, test_loader, c, kappa, max_iter, learning_rate)\n",
    "    cw_accuracies.append(acc)\n",
    "    cw_examples.append(examples)\n",
    "\n",
    "\n",
    "# 여러 c 값에 따른 적대적 예제 시각화\n",
    "plt.figure(figsize=(12, 12))\n",
    "for i, (c, examples) in enumerate(zip(c_values, cw_examples)):\n",
    "    for j in range(len(examples)):\n",
    "        target, pred, adv_ex = examples[j]\n",
    "        plt.subplot(len(c_values), len(examples), i * len(examples) + j + 1)\n",
    "        plt.xticks([], [])\n",
    "        plt.yticks([], [])\n",
    "        if j == 0:\n",
    "            plt.ylabel(f\"c: {c}\", fontsize=12)\n",
    "        plt.title(f\"{target} -> {pred}\")\n",
    "        plt.imshow(adv_ex.squeeze(), cmap=\"gray\")\n",
    "plt.suptitle(\"C&W Adversarial Examples with Various c Values\")\n",
    "plt.tight_layout()\n",
    "plt.show()"
   ]
  },
  {
   "cell_type": "code",
   "execution_count": 138,
   "metadata": {},
   "outputs": [],
   "source": [
    "def deepfool_attack(model, image, num_classes=None, overshoot=0.02, max_iter=50):\n",
    "    \"\"\"\n",
    "    DeepFool 공격 함수\n",
    "    Args:\n",
    "        model: 공격 대상 모델\n",
    "        image: 원본 입력 이미지 (단일 샘플)\n",
    "        num_classes: 모델의 클래스 수 (MNIST의 경우 10, 자동 설정 가능)\n",
    "        overshoot: 결정 경계를 넘기 위한 여분의 이동량\n",
    "        max_iter: 최대 반복 횟수\n",
    "    \"\"\"\n",
    "    # 입력 이미지를 복사하고 requires_grad를 True로 설정\n",
    "    perturbed_image = image.clone().detach().requires_grad_(True).to(DEVICE)\n",
    "    output = model(perturbed_image).detach()\n",
    "    \n",
    "    # 모델의 클래스 수 자동 설정\n",
    "    if num_classes is None:\n",
    "        num_classes = output.shape[1]\n",
    "    \n",
    "    # 초기 클래스 설정\n",
    "    current_class = output.argmax().item()\n",
    "    r_tot = torch.zeros_like(image).to(DEVICE)  # 누적 perturbation\n",
    "    \n",
    "    for _ in range(max_iter):\n",
    "        # 모델의 출력 계산\n",
    "        output = model(perturbed_image)\n",
    "        current_class = output.argmax().item()\n",
    "\n",
    "        # 만약 클래스가 변경되면 반복 종료\n",
    "        if current_class != output.argmax().item():\n",
    "            break\n",
    "\n",
    "        # 각 클래스별 손실의 그래디언트를 계산하여 결정 경계 계산\n",
    "        gradients = []\n",
    "        for k in range(num_classes):\n",
    "            if k == current_class:\n",
    "                continue\n",
    "            zero_gradients = torch.zeros_like(output)\n",
    "            zero_gradients[0, k] = 1\n",
    "            model.zero_grad()\n",
    "            output.backward(zero_gradients, retain_graph=True)\n",
    "            gradients.append(perturbed_image.grad.clone())\n",
    "            perturbed_image.grad.zero_()\n",
    "        \n",
    "        # 결정 경계를 넘는 최소 변화 계산\n",
    "        w = torch.stack(gradients).squeeze()\n",
    "        f = output[0][current_class] - output[0][[i for i in range(num_classes) if i != current_class]]\n",
    "        f = f.detach()\n",
    "        r_i = torch.abs(f / torch.norm(w, p=2, dim=1)) * w / torch.norm(w, p=2, dim=1).unsqueeze(1)\n",
    "        r_tot += r_i[torch.argmin(torch.abs(f))]\n",
    "        \n",
    "        # 누적 perturbation을 이미지에 적용\n",
    "        perturbed_image = image + (1 + overshoot) * r_tot\n",
    "        perturbed_image = torch.clamp(perturbed_image, 0, 1).detach().requires_grad_(True)\n",
    "    \n",
    "    return perturbed_image\n",
    "\n",
    "def evaluate_deepfool_attack(model, device, test_loader, num_classes=10, overshoot=0.02, max_iter=50):\n",
    "    model.eval()\n",
    "    correct = 0\n",
    "    adv_examples = []\n",
    "\n",
    "    for data, target in test_loader:\n",
    "        data, target = data.to(device), target.to(device)\n",
    "        \n",
    "        # DeepFool 공격 수행\n",
    "        perturbed_data = deepfool_attack(model, data, num_classes=num_classes, overshoot=overshoot, max_iter=max_iter)\n",
    "        \n",
    "        # 적대적 예제에 대한 모델 예측 확인\n",
    "        output = model(perturbed_data)\n",
    "        pred = output.max(1, keepdim=True)[1]\n",
    "        correct += pred.eq(target.view_as(pred)).sum().item()\n",
    "\n",
    "        # 일부 예제를 저장하여 시각화\n",
    "        if len(adv_examples) < 5:\n",
    "            adv_ex = perturbed_data[0].detach().cpu().numpy()\n",
    "            adv_examples.append((target[0].item(), pred[0].item(), adv_ex))\n",
    "\n",
    "    # 공격된 데이터셋에 대한 정확도\n",
    "    final_acc = correct / len(test_loader.dataset)\n",
    "    print(f\"DeepFool Attack - Test Accuracy under attack: {final_acc * 100:.2f}%\")\n",
    "    return final_acc, adv_examples\n"
   ]
  },
  {
   "cell_type": "code",
   "execution_count": 139,
   "metadata": {},
   "outputs": [
    {
     "ename": "IndexError",
     "evalue": "index 274 is out of bounds for dimension 0 with size 10",
     "output_type": "error",
     "traceback": [
      "\u001b[1;31m---------------------------------------------------------------------------\u001b[0m",
      "\u001b[1;31mIndexError\u001b[0m                                Traceback (most recent call last)",
      "Cell \u001b[1;32mIn[139], line 2\u001b[0m\n\u001b[0;32m      1\u001b[0m \u001b[38;5;66;03m# DeepFool 공격 수행\u001b[39;00m\n\u001b[1;32m----> 2\u001b[0m deepfool_accuracy, deepfool_examples \u001b[38;5;241m=\u001b[39m \u001b[43mevaluate_deepfool_attack\u001b[49m\u001b[43m(\u001b[49m\u001b[43mnaive_model\u001b[49m\u001b[43m,\u001b[49m\u001b[43m \u001b[49m\u001b[43mDEVICE\u001b[49m\u001b[43m,\u001b[49m\u001b[43m \u001b[49m\u001b[43mtest_loader\u001b[49m\u001b[43m,\u001b[49m\u001b[43m \u001b[49m\u001b[43mnum_classes\u001b[49m\u001b[38;5;241;43m=\u001b[39;49m\u001b[38;5;241;43m10\u001b[39;49m\u001b[43m,\u001b[49m\u001b[43m \u001b[49m\u001b[43movershoot\u001b[49m\u001b[38;5;241;43m=\u001b[39;49m\u001b[38;5;241;43m0.02\u001b[39;49m\u001b[43m,\u001b[49m\u001b[43m \u001b[49m\u001b[43mmax_iter\u001b[49m\u001b[38;5;241;43m=\u001b[39;49m\u001b[38;5;241;43m50\u001b[39;49m\u001b[43m)\u001b[49m\n\u001b[0;32m      3\u001b[0m \u001b[38;5;66;03m# DeepFool 적대적 예제 시각화\u001b[39;00m\n\u001b[0;32m      4\u001b[0m plt\u001b[38;5;241m.\u001b[39mfigure(figsize\u001b[38;5;241m=\u001b[39m(\u001b[38;5;241m10\u001b[39m, \u001b[38;5;241m5\u001b[39m))\n",
      "Cell \u001b[1;32mIn[138], line 66\u001b[0m, in \u001b[0;36mevaluate_deepfool_attack\u001b[1;34m(model, device, test_loader, num_classes, overshoot, max_iter)\u001b[0m\n\u001b[0;32m     63\u001b[0m data, target \u001b[38;5;241m=\u001b[39m data\u001b[38;5;241m.\u001b[39mto(device), target\u001b[38;5;241m.\u001b[39mto(device)\n\u001b[0;32m     65\u001b[0m \u001b[38;5;66;03m# DeepFool 공격 수행\u001b[39;00m\n\u001b[1;32m---> 66\u001b[0m perturbed_data \u001b[38;5;241m=\u001b[39m \u001b[43mdeepfool_attack\u001b[49m\u001b[43m(\u001b[49m\u001b[43mmodel\u001b[49m\u001b[43m,\u001b[49m\u001b[43m \u001b[49m\u001b[43mdata\u001b[49m\u001b[43m,\u001b[49m\u001b[43m \u001b[49m\u001b[43mnum_classes\u001b[49m\u001b[38;5;241;43m=\u001b[39;49m\u001b[43mnum_classes\u001b[49m\u001b[43m,\u001b[49m\u001b[43m \u001b[49m\u001b[43movershoot\u001b[49m\u001b[38;5;241;43m=\u001b[39;49m\u001b[43movershoot\u001b[49m\u001b[43m,\u001b[49m\u001b[43m \u001b[49m\u001b[43mmax_iter\u001b[49m\u001b[38;5;241;43m=\u001b[39;49m\u001b[43mmax_iter\u001b[49m\u001b[43m)\u001b[49m\n\u001b[0;32m     68\u001b[0m \u001b[38;5;66;03m# 적대적 예제에 대한 모델 예측 확인\u001b[39;00m\n\u001b[0;32m     69\u001b[0m output \u001b[38;5;241m=\u001b[39m model(perturbed_data)\n",
      "Cell \u001b[1;32mIn[138], line 46\u001b[0m, in \u001b[0;36mdeepfool_attack\u001b[1;34m(model, image, num_classes, overshoot, max_iter)\u001b[0m\n\u001b[0;32m     44\u001b[0m \u001b[38;5;66;03m# 결정 경계를 넘는 최소 변화 계산\u001b[39;00m\n\u001b[0;32m     45\u001b[0m w \u001b[38;5;241m=\u001b[39m torch\u001b[38;5;241m.\u001b[39mstack(gradients)\u001b[38;5;241m.\u001b[39msqueeze()\n\u001b[1;32m---> 46\u001b[0m f \u001b[38;5;241m=\u001b[39m \u001b[43moutput\u001b[49m\u001b[43m[\u001b[49m\u001b[38;5;241;43m0\u001b[39;49m\u001b[43m]\u001b[49m\u001b[43m[\u001b[49m\u001b[43mcurrent_class\u001b[49m\u001b[43m]\u001b[49m \u001b[38;5;241m-\u001b[39m output[\u001b[38;5;241m0\u001b[39m][[i \u001b[38;5;28;01mfor\u001b[39;00m i \u001b[38;5;129;01min\u001b[39;00m \u001b[38;5;28mrange\u001b[39m(num_classes) \u001b[38;5;28;01mif\u001b[39;00m i \u001b[38;5;241m!=\u001b[39m current_class]]\n\u001b[0;32m     47\u001b[0m f \u001b[38;5;241m=\u001b[39m f\u001b[38;5;241m.\u001b[39mdetach()\n\u001b[0;32m     48\u001b[0m r_i \u001b[38;5;241m=\u001b[39m torch\u001b[38;5;241m.\u001b[39mabs(f \u001b[38;5;241m/\u001b[39m torch\u001b[38;5;241m.\u001b[39mnorm(w, p\u001b[38;5;241m=\u001b[39m\u001b[38;5;241m2\u001b[39m, dim\u001b[38;5;241m=\u001b[39m\u001b[38;5;241m1\u001b[39m)) \u001b[38;5;241m*\u001b[39m w \u001b[38;5;241m/\u001b[39m torch\u001b[38;5;241m.\u001b[39mnorm(w, p\u001b[38;5;241m=\u001b[39m\u001b[38;5;241m2\u001b[39m, dim\u001b[38;5;241m=\u001b[39m\u001b[38;5;241m1\u001b[39m)\u001b[38;5;241m.\u001b[39munsqueeze(\u001b[38;5;241m1\u001b[39m)\n",
      "\u001b[1;31mIndexError\u001b[0m: index 274 is out of bounds for dimension 0 with size 10"
     ]
    }
   ],
   "source": [
    "# DeepFool 공격 수행\n",
    "deepfool_accuracy, deepfool_examples = evaluate_deepfool_attack(naive_model, DEVICE, test_loader, num_classes=10, overshoot=0.02, max_iter=50)\n",
    "# DeepFool 적대적 예제 시각화\n",
    "plt.figure(figsize=(10, 5))\n",
    "for i, (target, pred, adv_ex) in enumerate(deepfool_examples):\n",
    "    # 원본 이미지\n",
    "    plt.subplot(2, 5, i + 1)\n",
    "    plt.imshow(adv_ex.squeeze(), cmap=\"gray\")\n",
    "    plt.title(f\"{target} -> {pred}\")\n",
    "    plt.axis(\"off\")\n",
    "plt.suptitle(\"DeepFool Adversarial Examples\")\n",
    "plt.tight_layout()\n",
    "plt.show()\n"
   ]
  },
  {
   "cell_type": "markdown",
   "metadata": {},
   "source": [
    "---\n",
    "---\n",
    "## Adversarial Defense Test - Teacher Model\n",
    "---\n",
    "---\n"
   ]
  },
  {
   "cell_type": "code",
   "execution_count": null,
   "metadata": {},
   "outputs": [
    {
     "name": "stderr",
     "output_type": "stream",
     "text": [
      "C:\\Users\\user\\AppData\\Local\\Temp\\ipykernel_26532\\1268278181.py:16: FutureWarning: You are using `torch.load` with `weights_only=False` (the current default value), which uses the default pickle module implicitly. It is possible to construct malicious pickle data which will execute arbitrary code during unpickling (See https://github.com/pytorch/pytorch/blob/main/SECURITY.md#untrusted-models for more details). In a future release, the default value for `weights_only` will be flipped to `True`. This limits the functions that could be executed during unpickling. Arbitrary objects will no longer be allowed to be loaded via this mode unless they are explicitly allowlisted by the user via `torch.serialization.add_safe_globals`. We recommend you start setting `weights_only=True` for any use case where you don't have full control of the loaded file. Please open an issue on GitHub for any issues related to this experimental feature.\n",
      "  teacher_model.load_state_dict(torch.load(\"teacher_model.pth\"))\n"
     ]
    },
    {
     "data": {
      "text/plain": [
       "<All keys matched successfully>"
      ]
     },
     "execution_count": 148,
     "metadata": {},
     "output_type": "execute_result"
    },
    {
     "data": {
      "text/plain": [
       "ResNet(\n",
       "  (conv1): Conv2d(3, 64, kernel_size=(7, 7), stride=(2, 2), padding=(3, 3), bias=False)\n",
       "  (bn1): BatchNorm2d(64, eps=1e-05, momentum=0.1, affine=True, track_running_stats=True)\n",
       "  (relu): ReLU(inplace=True)\n",
       "  (maxpool): MaxPool2d(kernel_size=3, stride=2, padding=1, dilation=1, ceil_mode=False)\n",
       "  (layer1): Sequential(\n",
       "    (0): Bottleneck(\n",
       "      (conv1): Conv2d(64, 64, kernel_size=(1, 1), stride=(1, 1), bias=False)\n",
       "      (bn1): BatchNorm2d(64, eps=1e-05, momentum=0.1, affine=True, track_running_stats=True)\n",
       "      (conv2): Conv2d(64, 64, kernel_size=(3, 3), stride=(1, 1), padding=(1, 1), bias=False)\n",
       "      (bn2): BatchNorm2d(64, eps=1e-05, momentum=0.1, affine=True, track_running_stats=True)\n",
       "      (conv3): Conv2d(64, 256, kernel_size=(1, 1), stride=(1, 1), bias=False)\n",
       "      (bn3): BatchNorm2d(256, eps=1e-05, momentum=0.1, affine=True, track_running_stats=True)\n",
       "      (relu): ReLU(inplace=True)\n",
       "      (downsample): Sequential(\n",
       "        (0): Conv2d(64, 256, kernel_size=(1, 1), stride=(1, 1), bias=False)\n",
       "        (1): BatchNorm2d(256, eps=1e-05, momentum=0.1, affine=True, track_running_stats=True)\n",
       "      )\n",
       "    )\n",
       "    (1): Bottleneck(\n",
       "      (conv1): Conv2d(256, 64, kernel_size=(1, 1), stride=(1, 1), bias=False)\n",
       "      (bn1): BatchNorm2d(64, eps=1e-05, momentum=0.1, affine=True, track_running_stats=True)\n",
       "      (conv2): Conv2d(64, 64, kernel_size=(3, 3), stride=(1, 1), padding=(1, 1), bias=False)\n",
       "      (bn2): BatchNorm2d(64, eps=1e-05, momentum=0.1, affine=True, track_running_stats=True)\n",
       "      (conv3): Conv2d(64, 256, kernel_size=(1, 1), stride=(1, 1), bias=False)\n",
       "      (bn3): BatchNorm2d(256, eps=1e-05, momentum=0.1, affine=True, track_running_stats=True)\n",
       "      (relu): ReLU(inplace=True)\n",
       "    )\n",
       "    (2): Bottleneck(\n",
       "      (conv1): Conv2d(256, 64, kernel_size=(1, 1), stride=(1, 1), bias=False)\n",
       "      (bn1): BatchNorm2d(64, eps=1e-05, momentum=0.1, affine=True, track_running_stats=True)\n",
       "      (conv2): Conv2d(64, 64, kernel_size=(3, 3), stride=(1, 1), padding=(1, 1), bias=False)\n",
       "      (bn2): BatchNorm2d(64, eps=1e-05, momentum=0.1, affine=True, track_running_stats=True)\n",
       "      (conv3): Conv2d(64, 256, kernel_size=(1, 1), stride=(1, 1), bias=False)\n",
       "      (bn3): BatchNorm2d(256, eps=1e-05, momentum=0.1, affine=True, track_running_stats=True)\n",
       "      (relu): ReLU(inplace=True)\n",
       "    )\n",
       "  )\n",
       "  (layer2): Sequential(\n",
       "    (0): Bottleneck(\n",
       "      (conv1): Conv2d(256, 128, kernel_size=(1, 1), stride=(1, 1), bias=False)\n",
       "      (bn1): BatchNorm2d(128, eps=1e-05, momentum=0.1, affine=True, track_running_stats=True)\n",
       "      (conv2): Conv2d(128, 128, kernel_size=(3, 3), stride=(2, 2), padding=(1, 1), bias=False)\n",
       "      (bn2): BatchNorm2d(128, eps=1e-05, momentum=0.1, affine=True, track_running_stats=True)\n",
       "      (conv3): Conv2d(128, 512, kernel_size=(1, 1), stride=(1, 1), bias=False)\n",
       "      (bn3): BatchNorm2d(512, eps=1e-05, momentum=0.1, affine=True, track_running_stats=True)\n",
       "      (relu): ReLU(inplace=True)\n",
       "      (downsample): Sequential(\n",
       "        (0): Conv2d(256, 512, kernel_size=(1, 1), stride=(2, 2), bias=False)\n",
       "        (1): BatchNorm2d(512, eps=1e-05, momentum=0.1, affine=True, track_running_stats=True)\n",
       "      )\n",
       "    )\n",
       "    (1): Bottleneck(\n",
       "      (conv1): Conv2d(512, 128, kernel_size=(1, 1), stride=(1, 1), bias=False)\n",
       "      (bn1): BatchNorm2d(128, eps=1e-05, momentum=0.1, affine=True, track_running_stats=True)\n",
       "      (conv2): Conv2d(128, 128, kernel_size=(3, 3), stride=(1, 1), padding=(1, 1), bias=False)\n",
       "      (bn2): BatchNorm2d(128, eps=1e-05, momentum=0.1, affine=True, track_running_stats=True)\n",
       "      (conv3): Conv2d(128, 512, kernel_size=(1, 1), stride=(1, 1), bias=False)\n",
       "      (bn3): BatchNorm2d(512, eps=1e-05, momentum=0.1, affine=True, track_running_stats=True)\n",
       "      (relu): ReLU(inplace=True)\n",
       "    )\n",
       "    (2): Bottleneck(\n",
       "      (conv1): Conv2d(512, 128, kernel_size=(1, 1), stride=(1, 1), bias=False)\n",
       "      (bn1): BatchNorm2d(128, eps=1e-05, momentum=0.1, affine=True, track_running_stats=True)\n",
       "      (conv2): Conv2d(128, 128, kernel_size=(3, 3), stride=(1, 1), padding=(1, 1), bias=False)\n",
       "      (bn2): BatchNorm2d(128, eps=1e-05, momentum=0.1, affine=True, track_running_stats=True)\n",
       "      (conv3): Conv2d(128, 512, kernel_size=(1, 1), stride=(1, 1), bias=False)\n",
       "      (bn3): BatchNorm2d(512, eps=1e-05, momentum=0.1, affine=True, track_running_stats=True)\n",
       "      (relu): ReLU(inplace=True)\n",
       "    )\n",
       "    (3): Bottleneck(\n",
       "      (conv1): Conv2d(512, 128, kernel_size=(1, 1), stride=(1, 1), bias=False)\n",
       "      (bn1): BatchNorm2d(128, eps=1e-05, momentum=0.1, affine=True, track_running_stats=True)\n",
       "      (conv2): Conv2d(128, 128, kernel_size=(3, 3), stride=(1, 1), padding=(1, 1), bias=False)\n",
       "      (bn2): BatchNorm2d(128, eps=1e-05, momentum=0.1, affine=True, track_running_stats=True)\n",
       "      (conv3): Conv2d(128, 512, kernel_size=(1, 1), stride=(1, 1), bias=False)\n",
       "      (bn3): BatchNorm2d(512, eps=1e-05, momentum=0.1, affine=True, track_running_stats=True)\n",
       "      (relu): ReLU(inplace=True)\n",
       "    )\n",
       "  )\n",
       "  (layer3): Sequential(\n",
       "    (0): Bottleneck(\n",
       "      (conv1): Conv2d(512, 256, kernel_size=(1, 1), stride=(1, 1), bias=False)\n",
       "      (bn1): BatchNorm2d(256, eps=1e-05, momentum=0.1, affine=True, track_running_stats=True)\n",
       "      (conv2): Conv2d(256, 256, kernel_size=(3, 3), stride=(2, 2), padding=(1, 1), bias=False)\n",
       "      (bn2): BatchNorm2d(256, eps=1e-05, momentum=0.1, affine=True, track_running_stats=True)\n",
       "      (conv3): Conv2d(256, 1024, kernel_size=(1, 1), stride=(1, 1), bias=False)\n",
       "      (bn3): BatchNorm2d(1024, eps=1e-05, momentum=0.1, affine=True, track_running_stats=True)\n",
       "      (relu): ReLU(inplace=True)\n",
       "      (downsample): Sequential(\n",
       "        (0): Conv2d(512, 1024, kernel_size=(1, 1), stride=(2, 2), bias=False)\n",
       "        (1): BatchNorm2d(1024, eps=1e-05, momentum=0.1, affine=True, track_running_stats=True)\n",
       "      )\n",
       "    )\n",
       "    (1): Bottleneck(\n",
       "      (conv1): Conv2d(1024, 256, kernel_size=(1, 1), stride=(1, 1), bias=False)\n",
       "      (bn1): BatchNorm2d(256, eps=1e-05, momentum=0.1, affine=True, track_running_stats=True)\n",
       "      (conv2): Conv2d(256, 256, kernel_size=(3, 3), stride=(1, 1), padding=(1, 1), bias=False)\n",
       "      (bn2): BatchNorm2d(256, eps=1e-05, momentum=0.1, affine=True, track_running_stats=True)\n",
       "      (conv3): Conv2d(256, 1024, kernel_size=(1, 1), stride=(1, 1), bias=False)\n",
       "      (bn3): BatchNorm2d(1024, eps=1e-05, momentum=0.1, affine=True, track_running_stats=True)\n",
       "      (relu): ReLU(inplace=True)\n",
       "    )\n",
       "    (2): Bottleneck(\n",
       "      (conv1): Conv2d(1024, 256, kernel_size=(1, 1), stride=(1, 1), bias=False)\n",
       "      (bn1): BatchNorm2d(256, eps=1e-05, momentum=0.1, affine=True, track_running_stats=True)\n",
       "      (conv2): Conv2d(256, 256, kernel_size=(3, 3), stride=(1, 1), padding=(1, 1), bias=False)\n",
       "      (bn2): BatchNorm2d(256, eps=1e-05, momentum=0.1, affine=True, track_running_stats=True)\n",
       "      (conv3): Conv2d(256, 1024, kernel_size=(1, 1), stride=(1, 1), bias=False)\n",
       "      (bn3): BatchNorm2d(1024, eps=1e-05, momentum=0.1, affine=True, track_running_stats=True)\n",
       "      (relu): ReLU(inplace=True)\n",
       "    )\n",
       "    (3): Bottleneck(\n",
       "      (conv1): Conv2d(1024, 256, kernel_size=(1, 1), stride=(1, 1), bias=False)\n",
       "      (bn1): BatchNorm2d(256, eps=1e-05, momentum=0.1, affine=True, track_running_stats=True)\n",
       "      (conv2): Conv2d(256, 256, kernel_size=(3, 3), stride=(1, 1), padding=(1, 1), bias=False)\n",
       "      (bn2): BatchNorm2d(256, eps=1e-05, momentum=0.1, affine=True, track_running_stats=True)\n",
       "      (conv3): Conv2d(256, 1024, kernel_size=(1, 1), stride=(1, 1), bias=False)\n",
       "      (bn3): BatchNorm2d(1024, eps=1e-05, momentum=0.1, affine=True, track_running_stats=True)\n",
       "      (relu): ReLU(inplace=True)\n",
       "    )\n",
       "    (4): Bottleneck(\n",
       "      (conv1): Conv2d(1024, 256, kernel_size=(1, 1), stride=(1, 1), bias=False)\n",
       "      (bn1): BatchNorm2d(256, eps=1e-05, momentum=0.1, affine=True, track_running_stats=True)\n",
       "      (conv2): Conv2d(256, 256, kernel_size=(3, 3), stride=(1, 1), padding=(1, 1), bias=False)\n",
       "      (bn2): BatchNorm2d(256, eps=1e-05, momentum=0.1, affine=True, track_running_stats=True)\n",
       "      (conv3): Conv2d(256, 1024, kernel_size=(1, 1), stride=(1, 1), bias=False)\n",
       "      (bn3): BatchNorm2d(1024, eps=1e-05, momentum=0.1, affine=True, track_running_stats=True)\n",
       "      (relu): ReLU(inplace=True)\n",
       "    )\n",
       "    (5): Bottleneck(\n",
       "      (conv1): Conv2d(1024, 256, kernel_size=(1, 1), stride=(1, 1), bias=False)\n",
       "      (bn1): BatchNorm2d(256, eps=1e-05, momentum=0.1, affine=True, track_running_stats=True)\n",
       "      (conv2): Conv2d(256, 256, kernel_size=(3, 3), stride=(1, 1), padding=(1, 1), bias=False)\n",
       "      (bn2): BatchNorm2d(256, eps=1e-05, momentum=0.1, affine=True, track_running_stats=True)\n",
       "      (conv3): Conv2d(256, 1024, kernel_size=(1, 1), stride=(1, 1), bias=False)\n",
       "      (bn3): BatchNorm2d(1024, eps=1e-05, momentum=0.1, affine=True, track_running_stats=True)\n",
       "      (relu): ReLU(inplace=True)\n",
       "    )\n",
       "  )\n",
       "  (layer4): Sequential(\n",
       "    (0): Bottleneck(\n",
       "      (conv1): Conv2d(1024, 512, kernel_size=(1, 1), stride=(1, 1), bias=False)\n",
       "      (bn1): BatchNorm2d(512, eps=1e-05, momentum=0.1, affine=True, track_running_stats=True)\n",
       "      (conv2): Conv2d(512, 512, kernel_size=(3, 3), stride=(2, 2), padding=(1, 1), bias=False)\n",
       "      (bn2): BatchNorm2d(512, eps=1e-05, momentum=0.1, affine=True, track_running_stats=True)\n",
       "      (conv3): Conv2d(512, 2048, kernel_size=(1, 1), stride=(1, 1), bias=False)\n",
       "      (bn3): BatchNorm2d(2048, eps=1e-05, momentum=0.1, affine=True, track_running_stats=True)\n",
       "      (relu): ReLU(inplace=True)\n",
       "      (downsample): Sequential(\n",
       "        (0): Conv2d(1024, 2048, kernel_size=(1, 1), stride=(2, 2), bias=False)\n",
       "        (1): BatchNorm2d(2048, eps=1e-05, momentum=0.1, affine=True, track_running_stats=True)\n",
       "      )\n",
       "    )\n",
       "    (1): Bottleneck(\n",
       "      (conv1): Conv2d(2048, 512, kernel_size=(1, 1), stride=(1, 1), bias=False)\n",
       "      (bn1): BatchNorm2d(512, eps=1e-05, momentum=0.1, affine=True, track_running_stats=True)\n",
       "      (conv2): Conv2d(512, 512, kernel_size=(3, 3), stride=(1, 1), padding=(1, 1), bias=False)\n",
       "      (bn2): BatchNorm2d(512, eps=1e-05, momentum=0.1, affine=True, track_running_stats=True)\n",
       "      (conv3): Conv2d(512, 2048, kernel_size=(1, 1), stride=(1, 1), bias=False)\n",
       "      (bn3): BatchNorm2d(2048, eps=1e-05, momentum=0.1, affine=True, track_running_stats=True)\n",
       "      (relu): ReLU(inplace=True)\n",
       "    )\n",
       "    (2): Bottleneck(\n",
       "      (conv1): Conv2d(2048, 512, kernel_size=(1, 1), stride=(1, 1), bias=False)\n",
       "      (bn1): BatchNorm2d(512, eps=1e-05, momentum=0.1, affine=True, track_running_stats=True)\n",
       "      (conv2): Conv2d(512, 512, kernel_size=(3, 3), stride=(1, 1), padding=(1, 1), bias=False)\n",
       "      (bn2): BatchNorm2d(512, eps=1e-05, momentum=0.1, affine=True, track_running_stats=True)\n",
       "      (conv3): Conv2d(512, 2048, kernel_size=(1, 1), stride=(1, 1), bias=False)\n",
       "      (bn3): BatchNorm2d(2048, eps=1e-05, momentum=0.1, affine=True, track_running_stats=True)\n",
       "      (relu): ReLU(inplace=True)\n",
       "    )\n",
       "  )\n",
       "  (avgpool): AdaptiveAvgPool2d(output_size=(1, 1))\n",
       "  (fc): Linear(in_features=2048, out_features=10, bias=True)\n",
       ")"
      ]
     },
     "execution_count": 148,
     "metadata": {},
     "output_type": "execute_result"
    }
   ],
   "source": [
    "# 입력 이미지를 1채널에서 3채널로 변환하는 transform\n",
    "transform_for_teacher_model = transforms.Compose([\n",
    "    transforms.Grayscale(num_output_channels=3),  # 1채널을 3채널로 변환\n",
    "    transforms.ToTensor(),\n",
    "    transforms.Normalize((0.5, 0.5, 0.5), (0.5, 0.5, 0.5))  # 정규화 (선택사항)\n",
    "])\n",
    "\n",
    "# MNIST 데이터셋 로드 시 transform 적용\n",
    "train_dataset_teacher = datasets.MNIST(root='data/MNIST', train=True, download=True, transform=transform_for_teacher_model)\n",
    "test_dataset_teacher = datasets.MNIST(root='data/MNIST', train=False, transform=transform_for_teacher_model)\n",
    "train_loader_teacher = torch.utils.data.DataLoader(dataset=train_dataset_teacher, batch_size=32, shuffle=False)\n",
    "test_loader_teacher = torch.utils.data.DataLoader(dataset=test_dataset_teacher, batch_size=32, shuffle=False)\n",
    "\n",
    "teacher_model = models.resnet50()\n",
    "teacher_model.fc = torch.nn.Linear(2048,10)\n",
    "teacher_model.load_state_dict(torch.load(\"teacher_model.pth\"))\n",
    "teacher_model=teacher_model.to(DEVICE)\n",
    "teacher_model.eval()"
   ]
  },
  {
   "cell_type": "code",
   "execution_count": 149,
   "metadata": {},
   "outputs": [
    {
     "ename": "RuntimeError",
     "evalue": "Given groups=1, weight of size [64, 3, 7, 7], expected input[32, 1, 28, 28] to have 3 channels, but got 1 channels instead",
     "output_type": "error",
     "traceback": [
      "\u001b[1;31m---------------------------------------------------------------------------\u001b[0m",
      "\u001b[1;31mRuntimeError\u001b[0m                              Traceback (most recent call last)",
      "Cell \u001b[1;32mIn[149], line 6\u001b[0m\n\u001b[0;32m      3\u001b[0m examples \u001b[38;5;241m=\u001b[39m []\n\u001b[0;32m      5\u001b[0m \u001b[38;5;28;01mfor\u001b[39;00m epsilon \u001b[38;5;129;01min\u001b[39;00m epsilons:\n\u001b[1;32m----> 6\u001b[0m     acc, ex \u001b[38;5;241m=\u001b[39m \u001b[43mevaluate_fgsm_atack\u001b[49m\u001b[43m(\u001b[49m\u001b[43mteacher_model\u001b[49m\u001b[43m,\u001b[49m\u001b[43m \u001b[49m\u001b[43mDEVICE\u001b[49m\u001b[43m,\u001b[49m\u001b[43m \u001b[49m\u001b[43mtest_loader_teacher\u001b[49m\u001b[43m,\u001b[49m\u001b[43m \u001b[49m\u001b[43mepsilon\u001b[49m\u001b[43m)\u001b[49m\n\u001b[0;32m      7\u001b[0m     accuracies\u001b[38;5;241m.\u001b[39mappend(acc)\n\u001b[0;32m      8\u001b[0m     examples\u001b[38;5;241m.\u001b[39mappend(ex)\n",
      "Cell \u001b[1;32mIn[114], line 13\u001b[0m, in \u001b[0;36mevaluate_fgsm_atack\u001b[1;34m(model, device, test_loader, epsilon)\u001b[0m\n\u001b[0;32m     10\u001b[0m data, target \u001b[38;5;241m=\u001b[39m data\u001b[38;5;241m.\u001b[39mto(device), target\u001b[38;5;241m.\u001b[39mto(device)\n\u001b[0;32m     12\u001b[0m \u001b[38;5;66;03m# FGSM 공격 수행\u001b[39;00m\n\u001b[1;32m---> 13\u001b[0m perturbed_data \u001b[38;5;241m=\u001b[39m \u001b[43mfgsm_attack\u001b[49m\u001b[43m(\u001b[49m\u001b[43mmodel\u001b[49m\u001b[43m,\u001b[49m\u001b[43m \u001b[49m\u001b[43mdata\u001b[49m\u001b[43m,\u001b[49m\u001b[43m \u001b[49m\u001b[43mtarget\u001b[49m\u001b[43m,\u001b[49m\u001b[43m \u001b[49m\u001b[43mepsilon\u001b[49m\u001b[43m)\u001b[49m\n\u001b[0;32m     15\u001b[0m \u001b[38;5;66;03m# 적대적 예제에 대해 모델의 예측 확인\u001b[39;00m\n\u001b[0;32m     16\u001b[0m output \u001b[38;5;241m=\u001b[39m model(perturbed_data)\n",
      "Cell \u001b[1;32mIn[110], line 6\u001b[0m, in \u001b[0;36mfgsm_attack\u001b[1;34m(model, data, target, epsilon)\u001b[0m\n\u001b[0;32m      3\u001b[0m data\u001b[38;5;241m.\u001b[39mrequires_grad \u001b[38;5;241m=\u001b[39m \u001b[38;5;28;01mTrue\u001b[39;00m\n\u001b[0;32m      5\u001b[0m \u001b[38;5;66;03m# 모델의 예측 및 손실 계산\u001b[39;00m\n\u001b[1;32m----> 6\u001b[0m output \u001b[38;5;241m=\u001b[39m \u001b[43mmodel\u001b[49m\u001b[43m(\u001b[49m\u001b[43mdata\u001b[49m\u001b[43m)\u001b[49m\n\u001b[0;32m      7\u001b[0m loss \u001b[38;5;241m=\u001b[39m F\u001b[38;5;241m.\u001b[39mcross_entropy(output, target)\n\u001b[0;32m      9\u001b[0m \u001b[38;5;66;03m# 역전파를 통해 입력 데이터에 대한 그래디언트 계산\u001b[39;00m\n",
      "File \u001b[1;32mc:\\Users\\user\\anaconda3\\envs\\py310\\lib\\site-packages\\torch\\nn\\modules\\module.py:1553\u001b[0m, in \u001b[0;36mModule._wrapped_call_impl\u001b[1;34m(self, *args, **kwargs)\u001b[0m\n\u001b[0;32m   1551\u001b[0m     \u001b[38;5;28;01mreturn\u001b[39;00m \u001b[38;5;28mself\u001b[39m\u001b[38;5;241m.\u001b[39m_compiled_call_impl(\u001b[38;5;241m*\u001b[39margs, \u001b[38;5;241m*\u001b[39m\u001b[38;5;241m*\u001b[39mkwargs)  \u001b[38;5;66;03m# type: ignore[misc]\u001b[39;00m\n\u001b[0;32m   1552\u001b[0m \u001b[38;5;28;01melse\u001b[39;00m:\n\u001b[1;32m-> 1553\u001b[0m     \u001b[38;5;28;01mreturn\u001b[39;00m \u001b[38;5;28mself\u001b[39m\u001b[38;5;241m.\u001b[39m_call_impl(\u001b[38;5;241m*\u001b[39margs, \u001b[38;5;241m*\u001b[39m\u001b[38;5;241m*\u001b[39mkwargs)\n",
      "File \u001b[1;32mc:\\Users\\user\\anaconda3\\envs\\py310\\lib\\site-packages\\torch\\nn\\modules\\module.py:1562\u001b[0m, in \u001b[0;36mModule._call_impl\u001b[1;34m(self, *args, **kwargs)\u001b[0m\n\u001b[0;32m   1557\u001b[0m \u001b[38;5;66;03m# If we don't have any hooks, we want to skip the rest of the logic in\u001b[39;00m\n\u001b[0;32m   1558\u001b[0m \u001b[38;5;66;03m# this function, and just call forward.\u001b[39;00m\n\u001b[0;32m   1559\u001b[0m \u001b[38;5;28;01mif\u001b[39;00m \u001b[38;5;129;01mnot\u001b[39;00m (\u001b[38;5;28mself\u001b[39m\u001b[38;5;241m.\u001b[39m_backward_hooks \u001b[38;5;129;01mor\u001b[39;00m \u001b[38;5;28mself\u001b[39m\u001b[38;5;241m.\u001b[39m_backward_pre_hooks \u001b[38;5;129;01mor\u001b[39;00m \u001b[38;5;28mself\u001b[39m\u001b[38;5;241m.\u001b[39m_forward_hooks \u001b[38;5;129;01mor\u001b[39;00m \u001b[38;5;28mself\u001b[39m\u001b[38;5;241m.\u001b[39m_forward_pre_hooks\n\u001b[0;32m   1560\u001b[0m         \u001b[38;5;129;01mor\u001b[39;00m _global_backward_pre_hooks \u001b[38;5;129;01mor\u001b[39;00m _global_backward_hooks\n\u001b[0;32m   1561\u001b[0m         \u001b[38;5;129;01mor\u001b[39;00m _global_forward_hooks \u001b[38;5;129;01mor\u001b[39;00m _global_forward_pre_hooks):\n\u001b[1;32m-> 1562\u001b[0m     \u001b[38;5;28;01mreturn\u001b[39;00m forward_call(\u001b[38;5;241m*\u001b[39margs, \u001b[38;5;241m*\u001b[39m\u001b[38;5;241m*\u001b[39mkwargs)\n\u001b[0;32m   1564\u001b[0m \u001b[38;5;28;01mtry\u001b[39;00m:\n\u001b[0;32m   1565\u001b[0m     result \u001b[38;5;241m=\u001b[39m \u001b[38;5;28;01mNone\u001b[39;00m\n",
      "File \u001b[1;32mc:\\Users\\user\\anaconda3\\envs\\py310\\lib\\site-packages\\torchvision\\models\\resnet.py:285\u001b[0m, in \u001b[0;36mResNet.forward\u001b[1;34m(self, x)\u001b[0m\n\u001b[0;32m    284\u001b[0m \u001b[38;5;28;01mdef\u001b[39;00m \u001b[38;5;21mforward\u001b[39m(\u001b[38;5;28mself\u001b[39m, x: Tensor) \u001b[38;5;241m-\u001b[39m\u001b[38;5;241m>\u001b[39m Tensor:\n\u001b[1;32m--> 285\u001b[0m     \u001b[38;5;28;01mreturn\u001b[39;00m \u001b[38;5;28;43mself\u001b[39;49m\u001b[38;5;241;43m.\u001b[39;49m\u001b[43m_forward_impl\u001b[49m\u001b[43m(\u001b[49m\u001b[43mx\u001b[49m\u001b[43m)\u001b[49m\n",
      "File \u001b[1;32mc:\\Users\\user\\anaconda3\\envs\\py310\\lib\\site-packages\\torchvision\\models\\resnet.py:268\u001b[0m, in \u001b[0;36mResNet._forward_impl\u001b[1;34m(self, x)\u001b[0m\n\u001b[0;32m    266\u001b[0m \u001b[38;5;28;01mdef\u001b[39;00m \u001b[38;5;21m_forward_impl\u001b[39m(\u001b[38;5;28mself\u001b[39m, x: Tensor) \u001b[38;5;241m-\u001b[39m\u001b[38;5;241m>\u001b[39m Tensor:\n\u001b[0;32m    267\u001b[0m     \u001b[38;5;66;03m# See note [TorchScript super()]\u001b[39;00m\n\u001b[1;32m--> 268\u001b[0m     x \u001b[38;5;241m=\u001b[39m \u001b[38;5;28;43mself\u001b[39;49m\u001b[38;5;241;43m.\u001b[39;49m\u001b[43mconv1\u001b[49m\u001b[43m(\u001b[49m\u001b[43mx\u001b[49m\u001b[43m)\u001b[49m\n\u001b[0;32m    269\u001b[0m     x \u001b[38;5;241m=\u001b[39m \u001b[38;5;28mself\u001b[39m\u001b[38;5;241m.\u001b[39mbn1(x)\n\u001b[0;32m    270\u001b[0m     x \u001b[38;5;241m=\u001b[39m \u001b[38;5;28mself\u001b[39m\u001b[38;5;241m.\u001b[39mrelu(x)\n",
      "File \u001b[1;32mc:\\Users\\user\\anaconda3\\envs\\py310\\lib\\site-packages\\torch\\nn\\modules\\module.py:1553\u001b[0m, in \u001b[0;36mModule._wrapped_call_impl\u001b[1;34m(self, *args, **kwargs)\u001b[0m\n\u001b[0;32m   1551\u001b[0m     \u001b[38;5;28;01mreturn\u001b[39;00m \u001b[38;5;28mself\u001b[39m\u001b[38;5;241m.\u001b[39m_compiled_call_impl(\u001b[38;5;241m*\u001b[39margs, \u001b[38;5;241m*\u001b[39m\u001b[38;5;241m*\u001b[39mkwargs)  \u001b[38;5;66;03m# type: ignore[misc]\u001b[39;00m\n\u001b[0;32m   1552\u001b[0m \u001b[38;5;28;01melse\u001b[39;00m:\n\u001b[1;32m-> 1553\u001b[0m     \u001b[38;5;28;01mreturn\u001b[39;00m \u001b[38;5;28mself\u001b[39m\u001b[38;5;241m.\u001b[39m_call_impl(\u001b[38;5;241m*\u001b[39margs, \u001b[38;5;241m*\u001b[39m\u001b[38;5;241m*\u001b[39mkwargs)\n",
      "File \u001b[1;32mc:\\Users\\user\\anaconda3\\envs\\py310\\lib\\site-packages\\torch\\nn\\modules\\module.py:1562\u001b[0m, in \u001b[0;36mModule._call_impl\u001b[1;34m(self, *args, **kwargs)\u001b[0m\n\u001b[0;32m   1557\u001b[0m \u001b[38;5;66;03m# If we don't have any hooks, we want to skip the rest of the logic in\u001b[39;00m\n\u001b[0;32m   1558\u001b[0m \u001b[38;5;66;03m# this function, and just call forward.\u001b[39;00m\n\u001b[0;32m   1559\u001b[0m \u001b[38;5;28;01mif\u001b[39;00m \u001b[38;5;129;01mnot\u001b[39;00m (\u001b[38;5;28mself\u001b[39m\u001b[38;5;241m.\u001b[39m_backward_hooks \u001b[38;5;129;01mor\u001b[39;00m \u001b[38;5;28mself\u001b[39m\u001b[38;5;241m.\u001b[39m_backward_pre_hooks \u001b[38;5;129;01mor\u001b[39;00m \u001b[38;5;28mself\u001b[39m\u001b[38;5;241m.\u001b[39m_forward_hooks \u001b[38;5;129;01mor\u001b[39;00m \u001b[38;5;28mself\u001b[39m\u001b[38;5;241m.\u001b[39m_forward_pre_hooks\n\u001b[0;32m   1560\u001b[0m         \u001b[38;5;129;01mor\u001b[39;00m _global_backward_pre_hooks \u001b[38;5;129;01mor\u001b[39;00m _global_backward_hooks\n\u001b[0;32m   1561\u001b[0m         \u001b[38;5;129;01mor\u001b[39;00m _global_forward_hooks \u001b[38;5;129;01mor\u001b[39;00m _global_forward_pre_hooks):\n\u001b[1;32m-> 1562\u001b[0m     \u001b[38;5;28;01mreturn\u001b[39;00m forward_call(\u001b[38;5;241m*\u001b[39margs, \u001b[38;5;241m*\u001b[39m\u001b[38;5;241m*\u001b[39mkwargs)\n\u001b[0;32m   1564\u001b[0m \u001b[38;5;28;01mtry\u001b[39;00m:\n\u001b[0;32m   1565\u001b[0m     result \u001b[38;5;241m=\u001b[39m \u001b[38;5;28;01mNone\u001b[39;00m\n",
      "File \u001b[1;32mc:\\Users\\user\\anaconda3\\envs\\py310\\lib\\site-packages\\torch\\nn\\modules\\conv.py:458\u001b[0m, in \u001b[0;36mConv2d.forward\u001b[1;34m(self, input)\u001b[0m\n\u001b[0;32m    457\u001b[0m \u001b[38;5;28;01mdef\u001b[39;00m \u001b[38;5;21mforward\u001b[39m(\u001b[38;5;28mself\u001b[39m, \u001b[38;5;28minput\u001b[39m: Tensor) \u001b[38;5;241m-\u001b[39m\u001b[38;5;241m>\u001b[39m Tensor:\n\u001b[1;32m--> 458\u001b[0m     \u001b[38;5;28;01mreturn\u001b[39;00m \u001b[38;5;28;43mself\u001b[39;49m\u001b[38;5;241;43m.\u001b[39;49m\u001b[43m_conv_forward\u001b[49m\u001b[43m(\u001b[49m\u001b[38;5;28;43minput\u001b[39;49m\u001b[43m,\u001b[49m\u001b[43m \u001b[49m\u001b[38;5;28;43mself\u001b[39;49m\u001b[38;5;241;43m.\u001b[39;49m\u001b[43mweight\u001b[49m\u001b[43m,\u001b[49m\u001b[43m \u001b[49m\u001b[38;5;28;43mself\u001b[39;49m\u001b[38;5;241;43m.\u001b[39;49m\u001b[43mbias\u001b[49m\u001b[43m)\u001b[49m\n",
      "File \u001b[1;32mc:\\Users\\user\\anaconda3\\envs\\py310\\lib\\site-packages\\torch\\nn\\modules\\conv.py:454\u001b[0m, in \u001b[0;36mConv2d._conv_forward\u001b[1;34m(self, input, weight, bias)\u001b[0m\n\u001b[0;32m    450\u001b[0m \u001b[38;5;28;01mif\u001b[39;00m \u001b[38;5;28mself\u001b[39m\u001b[38;5;241m.\u001b[39mpadding_mode \u001b[38;5;241m!=\u001b[39m \u001b[38;5;124m'\u001b[39m\u001b[38;5;124mzeros\u001b[39m\u001b[38;5;124m'\u001b[39m:\n\u001b[0;32m    451\u001b[0m     \u001b[38;5;28;01mreturn\u001b[39;00m F\u001b[38;5;241m.\u001b[39mconv2d(F\u001b[38;5;241m.\u001b[39mpad(\u001b[38;5;28minput\u001b[39m, \u001b[38;5;28mself\u001b[39m\u001b[38;5;241m.\u001b[39m_reversed_padding_repeated_twice, mode\u001b[38;5;241m=\u001b[39m\u001b[38;5;28mself\u001b[39m\u001b[38;5;241m.\u001b[39mpadding_mode),\n\u001b[0;32m    452\u001b[0m                     weight, bias, \u001b[38;5;28mself\u001b[39m\u001b[38;5;241m.\u001b[39mstride,\n\u001b[0;32m    453\u001b[0m                     _pair(\u001b[38;5;241m0\u001b[39m), \u001b[38;5;28mself\u001b[39m\u001b[38;5;241m.\u001b[39mdilation, \u001b[38;5;28mself\u001b[39m\u001b[38;5;241m.\u001b[39mgroups)\n\u001b[1;32m--> 454\u001b[0m \u001b[38;5;28;01mreturn\u001b[39;00m \u001b[43mF\u001b[49m\u001b[38;5;241;43m.\u001b[39;49m\u001b[43mconv2d\u001b[49m\u001b[43m(\u001b[49m\u001b[38;5;28;43minput\u001b[39;49m\u001b[43m,\u001b[49m\u001b[43m \u001b[49m\u001b[43mweight\u001b[49m\u001b[43m,\u001b[49m\u001b[43m \u001b[49m\u001b[43mbias\u001b[49m\u001b[43m,\u001b[49m\u001b[43m \u001b[49m\u001b[38;5;28;43mself\u001b[39;49m\u001b[38;5;241;43m.\u001b[39;49m\u001b[43mstride\u001b[49m\u001b[43m,\u001b[49m\n\u001b[0;32m    455\u001b[0m \u001b[43m                \u001b[49m\u001b[38;5;28;43mself\u001b[39;49m\u001b[38;5;241;43m.\u001b[39;49m\u001b[43mpadding\u001b[49m\u001b[43m,\u001b[49m\u001b[43m \u001b[49m\u001b[38;5;28;43mself\u001b[39;49m\u001b[38;5;241;43m.\u001b[39;49m\u001b[43mdilation\u001b[49m\u001b[43m,\u001b[49m\u001b[43m \u001b[49m\u001b[38;5;28;43mself\u001b[39;49m\u001b[38;5;241;43m.\u001b[39;49m\u001b[43mgroups\u001b[49m\u001b[43m)\u001b[49m\n",
      "\u001b[1;31mRuntimeError\u001b[0m: Given groups=1, weight of size [64, 3, 7, 7], expected input[32, 1, 28, 28] to have 3 channels, but got 1 channels instead"
     ]
    }
   ],
   "source": [
    "epsilons = [0, 0.05, 0.1, 0.15, 0.2, 0.25, 0.3]\n",
    "accuracies = []\n",
    "examples = []\n",
    "\n",
    "for epsilon in epsilons:\n",
    "    acc, ex = evaluate_fgsm_atack(teacher_model, DEVICE, test_loader_teacher, epsilon)\n",
    "    accuracies.append(acc)\n",
    "    examples.append(ex)\n",
    "\n",
    "# 여러 epsilon 값에 따른 적대적 예제 시각화\n",
    "plt.figure(figsize=(10, 10))\n",
    "for i, (epsilon, ex) in enumerate(zip(epsilons, examples)):\n",
    "    for j in range(len(ex)):\n",
    "        target, pred, adv_ex = ex[j]\n",
    "        plt.subplot(len(epsilons), len(examples[0]), i * len(ex) + j + 1)\n",
    "        plt.xticks([], [])\n",
    "        plt.yticks([], [])\n",
    "        if j == 0:\n",
    "            plt.ylabel(f\"Eps: {epsilon}\", fontsize=14)\n",
    "        plt.title(f\"{target} -> {pred}\")\n",
    "        plt.imshow(adv_ex.squeeze(), cmap=\"gray\")\n",
    "plt.tight_layout()\n",
    "plt.show()\n",
    "# PGD to Naive_Model : 이거만 바꾸면서 쓰면 됨\n",
    "epsilons = [0.1, 0.2, 0.3]    # 여러 epsilon 값 (공격 강도)\n",
    "alpha = 0.01                  # 스텝 크기 (모든 epsilon에 동일하게 적용)\n",
    "num_iter = 40                 # 스텝 수 (모든 epsilon에 동일하게 적용)\n",
    "\n",
    "# 공격 결과를 저장할 리스트 초기화\n",
    "pgd_accuracies = []\n",
    "pgd_examples = []\n",
    "\n",
    "for epsilon in epsilons:\n",
    "    # 각 epsilon에 대해 PGD 공격 수행 및 모델 정확도 평가\n",
    "    acc, examples = evaluate_pgd_attack(teacher_model, DEVICE, test_loader_teacher, epsilon, alpha, num_iter)\n",
    "    pgd_accuracies.append(acc)\n",
    "    pgd_examples.append(examples)\n",
    "\n",
    "# 여러 epsilon 값에 따른 적대적 예제 시각화\n",
    "plt.figure(figsize=(12, 12))\n",
    "for i, (epsilon, examples) in enumerate(zip(epsilons, pgd_examples)):\n",
    "    for j in range(len(examples)):\n",
    "        target, pred, adv_ex = examples[j]\n",
    "        plt.subplot(len(epsilons), len(examples), i * len(examples) + j + 1)\n",
    "        plt.xticks([], [])\n",
    "        plt.yticks([], [])\n",
    "        if j == 0:\n",
    "            plt.ylabel(f\"Epsilon: {epsilon}\", fontsize=12)\n",
    "        plt.title(f\"{target} -> {pred}\")\n",
    "        plt.imshow(adv_ex.squeeze(), cmap=\"gray\")\n",
    "plt.suptitle(\"PGD Adversarial Examples with Various Epsilons\")\n",
    "plt.tight_layout()\n",
    "plt.show()\n",
    "\n",
    "# C&W 공격 설정\n",
    "c_values = [1e-3,1e-2]  # 여러 c 값 (공격 강도)\n",
    "kappa = 1                     # confidence 매개변수\n",
    "max_iter = 500                 # 공격 반복 횟수\n",
    "learning_rate = 0.01            # 학습률\n",
    "\n",
    "# 공격 결과를 저장할 리스트 초기화\n",
    "cw_accuracies = []\n",
    "cw_examples = []\n",
    "\n",
    "for c in c_values:\n",
    "    # 각 c에 대해 C&W 공격 수행 및 모델 정확도 평가\n",
    "    acc, examples = evaluate_cw_attack(teacher_model, DEVICE, test_loader_teacher, c, kappa, max_iter, learning_rate)\n",
    "    cw_accuracies.append(acc)\n",
    "    cw_examples.append(examples)\n",
    "\n",
    "\n",
    "# 여러 c 값에 따른 적대적 예제 시각화\n",
    "plt.figure(figsize=(12, 12))\n",
    "for i, (c, examples) in enumerate(zip(c_values, cw_examples)):\n",
    "    for j in range(len(examples)):\n",
    "        target, pred, adv_ex = examples[j]\n",
    "        plt.subplot(len(c_values), len(examples), i * len(examples) + j + 1)\n",
    "        plt.xticks([], [])\n",
    "        plt.yticks([], [])\n",
    "        if j == 0:\n",
    "            plt.ylabel(f\"c: {c}\", fontsize=12)\n",
    "        plt.title(f\"{target} -> {pred}\")\n",
    "        plt.imshow(adv_ex.squeeze(), cmap=\"gray\")\n",
    "plt.suptitle(\"C&W Adversarial Examples with Various c Values\")\n",
    "plt.tight_layout()\n",
    "plt.show()\n",
    "# DeepFool 공격 수행\n",
    "deepfool_accuracy, deepfool_examples = evaluate_deepfool_attack(teacher_model, DEVICE, test_loader_teacher, num_classes=10, overshoot=0.02, max_iter=50)\n",
    "# DeepFool 적대적 예제 시각화\n",
    "plt.figure(figsize=(10, 5))\n",
    "for i, (target, pred, adv_ex) in enumerate(deepfool_examples):\n",
    "    # 원본 이미지\n",
    "    plt.subplot(2, 5, i + 1)\n",
    "    plt.imshow(adv_ex.squeeze(), cmap=\"gray\")\n",
    "    plt.title(f\"{target} -> {pred}\")\n",
    "    plt.axis(\"off\")\n",
    "plt.suptitle(\"DeepFool Adversarial Examples\")\n",
    "plt.tight_layout()\n",
    "plt.show()\n"
   ]
  },
  {
   "cell_type": "markdown",
   "metadata": {},
   "source": [
    "---\n",
    "---\n",
    "## Adversarial Defense Test - Distilled Model\n",
    "---\n",
    "---\n"
   ]
  },
  {
   "cell_type": "code",
   "execution_count": null,
   "metadata": {},
   "outputs": [],
   "source": [
    "distilled_model = Net().to(DEVICE)\n",
    "distilled_model.load_state_dict(torch.load(\"student_model_with_resnet_50.pth\"))\n",
    "distilled_model.eval()"
   ]
  },
  {
   "cell_type": "code",
   "execution_count": null,
   "metadata": {},
   "outputs": [],
   "source": [
    "epsilons = [0, 0.05, 0.1, 0.15, 0.2, 0.25, 0.3]\n",
    "accuracies = []\n",
    "examples = []\n",
    "\n",
    "for epsilon in epsilons:\n",
    "    acc, ex = evaluate_fgsm_atack(distilled_model, DEVICE, test_loader, epsilon)\n",
    "    accuracies.append(acc)\n",
    "    examples.append(ex)\n",
    "\n",
    "# 여러 epsilon 값에 따른 적대적 예제 시각화\n",
    "plt.figure(figsize=(10, 10))\n",
    "for i, (epsilon, ex) in enumerate(zip(epsilons, examples)):\n",
    "    for j in range(len(ex)):\n",
    "        target, pred, adv_ex = ex[j]\n",
    "        plt.subplot(len(epsilons), len(examples[0]), i * len(ex) + j + 1)\n",
    "        plt.xticks([], [])\n",
    "        plt.yticks([], [])\n",
    "        if j == 0:\n",
    "            plt.ylabel(f\"Eps: {epsilon}\", fontsize=14)\n",
    "        plt.title(f\"{target} -> {pred}\")\n",
    "        plt.imshow(adv_ex.squeeze(), cmap=\"gray\")\n",
    "plt.tight_layout()\n",
    "plt.show()\n",
    "# PGD to Naive_Model : 이거만 바꾸면서 쓰면 됨\n",
    "epsilons = [0.1, 0.2, 0.3]    # 여러 epsilon 값 (공격 강도)\n",
    "alpha = 0.01                  # 스텝 크기 (모든 epsilon에 동일하게 적용)\n",
    "num_iter = 40                 # 스텝 수 (모든 epsilon에 동일하게 적용)\n",
    "\n",
    "# 공격 결과를 저장할 리스트 초기화\n",
    "pgd_accuracies = []\n",
    "pgd_examples = []\n",
    "\n",
    "for epsilon in epsilons:\n",
    "    # 각 epsilon에 대해 PGD 공격 수행 및 모델 정확도 평가\n",
    "    acc, examples = evaluate_pgd_attack(distilled_model, DEVICE, test_loader, epsilon, alpha, num_iter)\n",
    "    pgd_accuracies.append(acc)\n",
    "    pgd_examples.append(examples)\n",
    "\n",
    "# 여러 epsilon 값에 따른 적대적 예제 시각화\n",
    "plt.figure(figsize=(12, 12))\n",
    "for i, (epsilon, examples) in enumerate(zip(epsilons, pgd_examples)):\n",
    "    for j in range(len(examples)):\n",
    "        target, pred, adv_ex = examples[j]\n",
    "        plt.subplot(len(epsilons), len(examples), i * len(examples) + j + 1)\n",
    "        plt.xticks([], [])\n",
    "        plt.yticks([], [])\n",
    "        if j == 0:\n",
    "            plt.ylabel(f\"Epsilon: {epsilon}\", fontsize=12)\n",
    "        plt.title(f\"{target} -> {pred}\")\n",
    "        plt.imshow(adv_ex.squeeze(), cmap=\"gray\")\n",
    "plt.suptitle(\"PGD Adversarial Examples with Various Epsilons\")\n",
    "plt.tight_layout()\n",
    "plt.show()\n",
    "\n",
    "# C&W 공격 설정\n",
    "c_values = [1e-3,1e-2]  # 여러 c 값 (공격 강도)\n",
    "kappa = 1                     # confidence 매개변수\n",
    "max_iter = 500                 # 공격 반복 횟수\n",
    "learning_rate = 0.01            # 학습률\n",
    "\n",
    "# 공격 결과를 저장할 리스트 초기화\n",
    "cw_accuracies = []\n",
    "cw_examples = []\n",
    "\n",
    "for c in c_values:\n",
    "    # 각 c에 대해 C&W 공격 수행 및 모델 정확도 평가\n",
    "    acc, examples = evaluate_cw_attack(distilled_model, DEVICE, test_loader, c, kappa, max_iter, learning_rate)\n",
    "    cw_accuracies.append(acc)\n",
    "    cw_examples.append(examples)\n",
    "\n",
    "\n",
    "# 여러 c 값에 따른 적대적 예제 시각화\n",
    "plt.figure(figsize=(12, 12))\n",
    "for i, (c, examples) in enumerate(zip(c_values, cw_examples)):\n",
    "    for j in range(len(examples)):\n",
    "        target, pred, adv_ex = examples[j]\n",
    "        plt.subplot(len(c_values), len(examples), i * len(examples) + j + 1)\n",
    "        plt.xticks([], [])\n",
    "        plt.yticks([], [])\n",
    "        if j == 0:\n",
    "            plt.ylabel(f\"c: {c}\", fontsize=12)\n",
    "        plt.title(f\"{target} -> {pred}\")\n",
    "        plt.imshow(adv_ex.squeeze(), cmap=\"gray\")\n",
    "plt.suptitle(\"C&W Adversarial Examples with Various c Values\")\n",
    "plt.tight_layout()\n",
    "plt.show()\n",
    "# DeepFool 공격 수행\n",
    "deepfool_accuracy, deepfool_examples = evaluate_deepfool_attack(distilled_model, DEVICE, test_loader, num_classes=10, overshoot=0.02, max_iter=50)\n",
    "# DeepFool 적대적 예제 시각화\n",
    "plt.figure(figsize=(10, 5))\n",
    "for i, (target, pred, adv_ex) in enumerate(deepfool_examples):\n",
    "    # 원본 이미지\n",
    "    plt.subplot(2, 5, i + 1)\n",
    "    plt.imshow(adv_ex.squeeze(), cmap=\"gray\")\n",
    "    plt.title(f\"{target} -> {pred}\")\n",
    "    plt.axis(\"off\")\n",
    "plt.suptitle(\"DeepFool Adversarial Examples\")\n",
    "plt.tight_layout()\n",
    "plt.show()\n"
   ]
  },
  {
   "cell_type": "markdown",
   "metadata": {},
   "source": [
    "---\n",
    "---\n",
    "## Defense-GAN\n",
    "---\n",
    "---\n"
   ]
  },
  {
   "cell_type": "code",
   "execution_count": null,
   "metadata": {},
   "outputs": [],
   "source": [
    "# Generator 모델 정의\n",
    "class Generator(nn.Module):\n",
    "    def __init__(self, latent_dim=100, img_size=28, channels=1):\n",
    "        super(Generator, self).__init__()\n",
    "        \n",
    "        self.init_size = img_size // 4  # 초기 이미지 크기 설정\n",
    "        self.l1 = nn.Sequential(nn.Linear(latent_dim, 128 * self.init_size ** 2))\n",
    "\n",
    "        self.model = nn.Sequential(\n",
    "            nn.BatchNorm2d(128),\n",
    "            nn.Upsample(scale_factor=2),\n",
    "            nn.Conv2d(128, 128, 3, stride=1, padding=1),\n",
    "            nn.BatchNorm2d(128, 0.8),\n",
    "            nn.LeakyReLU(0.2, inplace=True),\n",
    "            nn.Upsample(scale_factor=2),\n",
    "            nn.Conv2d(128, 64, 3, stride=1, padding=1),\n",
    "            nn.BatchNorm2d(64, 0.8),\n",
    "            nn.LeakyReLU(0.2, inplace=True),\n",
    "            nn.Conv2d(64, channels, 3, stride=1, padding=1),\n",
    "            nn.Tanh(),\n",
    "        )\n",
    "\n",
    "    def forward(self, z):\n",
    "        out = self.l1(z)\n",
    "        out = out.view(out.shape[0], 128, self.init_size, self.init_size)\n",
    "        img = self.model(out)  # self.model 사용\n",
    "        return img\n",
    "\n",
    "# Discriminator 모델 정의 (Critic)\n",
    "class Discriminator(nn.Module):\n",
    "    def __init__(self, img_size=28, channels=1):\n",
    "        super(Discriminator, self).__init__()\n",
    "\n",
    "        def discriminator_block(in_filters, out_filters, bn=True):\n",
    "            block = [nn.Conv2d(in_filters, out_filters, 3, 2, 1),\n",
    "                     nn.LeakyReLU(0.2, inplace=True),\n",
    "                     nn.Dropout2d(0.25)]\n",
    "            if bn:\n",
    "                block.append(nn.BatchNorm2d(out_filters, 0.8))\n",
    "            return block\n",
    "\n",
    "        self.model = nn.Sequential(\n",
    "            *discriminator_block(channels, 16, bn=False),   # (1, 28, 28) -> (64, 14, 14)\n",
    "            *discriminator_block(16, 32),                 # (64, 14, 14) -> (128, 7, 7)\n",
    "            *discriminator_block(32, 64),                # (128, 7, 7) -> (256, 4, 4)\n",
    "            *discriminator_block(64, 128),                # (256, 4, 4) -> (512, 2, 2)\n",
    "        )\n",
    "\n",
    "        # 최종 피처 맵의 크기 계산\n",
    "        ds_size = img_size // 2 ** 4  # 최종 피처 맵 크기는 2x2\n",
    "        self.adv_layer = nn.Sequential(nn.Linear(512 * ds_size * ds_size, 1))\n",
    "\n",
    "    def forward(self, img):\n",
    "        out = self.model(img)\n",
    "        out = out.view(out.shape[0], -1)  # Flatten: (batch_size, 2048)\n",
    "        validity = self.adv_layer(out)\n",
    "        return validity\n",
    "\n",
    "# Gradient Penalty 계산 함수\n",
    "def compute_gradient_penalty(discriminator, real_samples, fake_samples):\n",
    "    alpha = torch.rand(real_samples.size(0), 1, 1, 1).to(real_samples.device)\n",
    "    interpolates = (alpha * real_samples + (1 - alpha) * fake_samples).requires_grad_(True)\n",
    "    d_interpolates = discriminator(interpolates)\n",
    "    fake = torch.ones(real_samples.size(0), 1).to(real_samples.device)\n",
    "    \n",
    "    gradients = torch.autograd.grad(\n",
    "        outputs=d_interpolates,\n",
    "        inputs=interpolates,\n",
    "        grad_outputs=fake,\n",
    "        create_graph=True,\n",
    "        retain_graph=True,\n",
    "        only_inputs=True\n",
    "    )[0]\n",
    "    gradients = gradients.view(gradients.size(0), -1)\n",
    "    gradient_penalty = ((gradients.norm(2, dim=1) - 1) ** 2).mean()\n",
    "    return gradient_penalty"
   ]
  },
  {
   "cell_type": "code",
   "execution_count": null,
   "metadata": {},
   "outputs": [],
   "source": [
    "# Train WGAN-GP\n",
    "def train_wgan_gp(generator, discriminator, epochs=10, batch_size=64, latent_dim=100, lambda_gp=10, n_critic=5, writer=None):\n",
    "    # Optimizers\n",
    "    optimizer_G = optim.Adam(generator.parameters(), lr=0.0002, betas=(0.5, 0.9))\n",
    "    optimizer_D = optim.Adam(discriminator.parameters(), lr=0.0002, betas=(0.5, 0.9))\n",
    "\n",
    "    # Load MNIST dataset\n",
    "    train_loader = torch.utils.data.DataLoader(\n",
    "        train_dataset, batch_size=batch_size, shuffle=True)\n",
    "\n",
    "    generator.train()\n",
    "    discriminator.train()\n",
    "    \n",
    "    for epoch in range(epochs):\n",
    "        for i, (imgs, _) in enumerate(train_loader):\n",
    "            batch_size = imgs.size(0)\n",
    "\n",
    "            real_imgs = imgs.to(DEVICE)\n",
    "\n",
    "            # 판별자(critic)\n",
    "            optimizer_D.zero_grad()\n",
    "            z = torch.randn(batch_size, latent_dim).to(DEVICE)\n",
    "            fake_imgs = generator(z)\n",
    "\n",
    "            real_validity = discriminator(real_imgs)\n",
    "            fake_validity = discriminator(fake_imgs)\n",
    "            gradient_penalty = compute_gradient_penalty(discriminator, real_imgs, fake_imgs)\n",
    "            d_loss = -torch.mean(real_validity) + torch.mean(fake_validity) + lambda_gp * gradient_penalty\n",
    "\n",
    "            d_loss.backward()\n",
    "            optimizer_D.step()\n",
    "\n",
    "            # critic step맞춰서\n",
    "            if i % n_critic == 0:\n",
    "                optimizer_G.zero_grad()\n",
    "                z = torch.randn(batch_size, latent_dim).to(DEVICE)\n",
    "                gen_imgs = generator(z)\n",
    "                g_loss = -torch.mean(discriminator(gen_imgs))\n",
    "\n",
    "                g_loss.backward()\n",
    "                optimizer_G.step()\n",
    "\n",
    "            # TensorBoard: Log the losses\n",
    "            if writer:\n",
    "                global_step = epoch * len(train_loader) + i\n",
    "                writer.add_scalars('Losses', {'Generator Loss': g_loss.item(), 'Discriminator Loss': d_loss.item()}, global_step)\n",
    "\n",
    "        print(f\"Epoch [{epoch + 1}/{epochs}] | Generator Loss: {g_loss.item():.4f} | Discriminator Loss: {d_loss.item():.4f}\")\n",
    "\n",
    "    return generator\n",
    "\n",
    "# Reconstruction 함수 정의\n",
    "def reconstruct(generator, images, latent_dim, num_iterations=100, lr=0.001, writer=None, log_interval=10):\n",
    "    z = torch.randn(images.size(0), latent_dim, requires_grad=True, device=DEVICE)\n",
    "    optimizer = optim.Adam([z], lr=lr)\n",
    "\n",
    "    generator.eval()  # Set generator to evaluation mode\n",
    "    for i in range(num_iterations):\n",
    "        optimizer.zero_grad()\n",
    "        gen_imgs = generator(z)\n",
    "        loss = ((gen_imgs - images) ** 2).mean()  # Mean Squared Error loss\n",
    "        loss.backward(retain_graph=True)  # Retain computation graph for multiple backward passes\n",
    "        optimizer.step()\n",
    "\n",
    "        # TensorBoard: Log the reconstruction loss\n",
    "        if writer:\n",
    "            writer.add_scalar('Reconstruction Loss', loss.item(), i)\n",
    "\n",
    "            # Log reconstructed images at specified intervals\n",
    "            if i % log_interval == 0:\n",
    "                # Normalize the images for better visualization in TensorBoard\n",
    "                grid = torchvision.utils.make_grid(gen_imgs, normalize=True)\n",
    "                writer.add_image(f'Reconstructed Images', grid, i)\n",
    "\n",
    "    reconstructed_images = generator(z.detach())\n",
    "    return reconstructed_images"
   ]
  },
  {
   "cell_type": "code",
   "execution_count": null,
   "metadata": {},
   "outputs": [],
   "source": [
    "# Defense-GAN Evaluation Function\n",
    "def evaluate_with_defense_gan(model, generator, test_loader, criterion, epsilon, latent_dim, visualize=True, num_images=5, attack_mode='FGSM', writer=None):\n",
    "    model.eval()\n",
    "    clean_loss, adv_loss, recon_loss = 0, 0, 0\n",
    "    clean_correct, adv_correct, recon_correct = 0, 0, 0\n",
    "    clean_labels, clean_preds, adv_labels, adv_preds, recon_labels, recon_preds = [], [], [], [], [], []\n",
    "\n",
    "    original_images_list, perturbed_images_list, reconstructed_images_list = [], [], []\n",
    "    original_labels_list, perturbed_preds_list, reconstructed_preds_list = [], [], []\n",
    "\n",
    "    for batch_idx, (data, target) in enumerate(test_loader):\n",
    "        data, target = data.to(DEVICE), target.to(DEVICE)\n",
    "\n",
    "        # Clean Evaluation\n",
    "        output = model(data)\n",
    "        clean_loss += criterion(output, target).item()\n",
    "        clean_pred = output.max(1, keepdim=True)[1]\n",
    "        clean_correct += clean_pred.eq(target.view_as(clean_pred)).sum().item()\n",
    "        clean_labels.extend(target.cpu().numpy())\n",
    "        clean_preds.extend(clean_pred.cpu().numpy())\n",
    "\n",
    "        # Generate Adversarial Images\n",
    "        if attack_mode == 'FGSM':\n",
    "            data.requires_grad = True\n",
    "            loss = criterion(model(data), target)\n",
    "            model.zero_grad()\n",
    "            loss.backward()\n",
    "            data_grad = data.grad.data\n",
    "            perturbed_data = fgsm_attack(data, epsilon, data_grad)\n",
    "        elif attack_mode == 'PGD':\n",
    "            perturbed_data = pgd_attack(model, data, target, epsilon, alpha, iterations, criterion)\n",
    "\n",
    "        # Adversarial Evaluation\n",
    "        output = model(perturbed_data)\n",
    "        adv_loss += criterion(output, target).item()\n",
    "        adv_pred = output.max(1, keepdim=True)[1]\n",
    "        adv_correct += adv_pred.eq(target.view_as(adv_pred)).sum().item()\n",
    "        adv_labels.extend(target.cpu().numpy())\n",
    "        adv_preds.extend(adv_pred.cpu().numpy())\n",
    "\n",
    "        # Defense-GAN Reconstruction\n",
    "        reconstructed_data = reconstruct(generator, perturbed_data, latent_dim, writer=writer)\n",
    "\n",
    "        # Reconstructed Evaluation\n",
    "        output = model(reconstructed_data)\n",
    "        recon_loss += criterion(output, target).item()\n",
    "        recon_pred = output.max(1, keepdim=True)[1]\n",
    "        recon_correct += recon_pred.eq(target.view_as(recon_pred)).sum().item()\n",
    "        recon_labels.extend(target.cpu().numpy())\n",
    "        recon_preds.extend(recon_pred.cpu().numpy())\n",
    "\n",
    "        # Save for Visualization\n",
    "        if visualize and len(original_images_list) < num_images:\n",
    "            original_images_list.append(data.cpu().detach())\n",
    "            perturbed_images_list.append(perturbed_data.cpu().detach())\n",
    "            reconstructed_images_list.append(reconstructed_data.cpu().detach())\n",
    "            original_labels_list.append(target.cpu().numpy())\n",
    "            perturbed_preds_list.append(adv_pred.cpu().numpy())\n",
    "            reconstructed_preds_list.append(recon_pred.cpu().numpy())\n",
    "\n",
    "    # Calculate Metrics\n",
    "    clean_accuracy = 100. * clean_correct / len(test_loader.dataset)\n",
    "    adv_accuracy = 100. * adv_correct / len(test_loader.dataset)\n",
    "    recon_accuracy = 100. * recon_correct / len(test_loader.dataset)\n",
    "\n",
    "    clean_f1 = f1_score(clean_labels, clean_preds, average='macro')\n",
    "    adv_f1 = f1_score(adv_labels, adv_preds, average='macro')\n",
    "    recon_f1 = f1_score(recon_labels, recon_preds, average='macro')\n",
    "\n",
    "    clean_cm = confusion_matrix(clean_labels, clean_preds)\n",
    "    adv_cm = confusion_matrix(adv_labels, adv_preds)\n",
    "    recon_cm = confusion_matrix(recon_labels, recon_preds)\n",
    "\n",
    "    print(f\"Clean Accuracy: {clean_accuracy:.2f}% | Adversarial Accuracy: {adv_accuracy:.2f}% | Reconstructed Accuracy: {recon_accuracy:.2f}%\")\n",
    "    print(f\"Clean F1 Score: {clean_f1:.4f} | Adversarial F1 Score: {adv_f1:.4f} | Reconstructed F1 Score: {recon_f1:.4f}\")\n",
    "    print(\"\\nClean Confusion Matrix:\\n\", clean_cm)\n",
    "    print(\"\\nAdversarial Confusion Matrix:\\n\", adv_cm)\n",
    "    print(\"\\nReconstructed Confusion Matrix:\\n\", recon_cm)\n",
    "\n",
    "    if writer:\n",
    "        writer.add_scalar('Accuracy/Clean', clean_accuracy)\n",
    "        writer.add_scalar('Accuracy/Adversarial', adv_accuracy)\n",
    "        writer.add_scalar('Accuracy/Reconstructed', recon_accuracy)\n",
    "        writer.add_scalar('F1 Score/Clean', clean_f1)\n",
    "        writer.add_scalar('F1 Score/Adversarial', adv_f1)\n",
    "        writer.add_scalar('F1 Score/Reconstructed', recon_f1)\n",
    "        writer.add_image('Confusion Matrix/Clean', clean_cm)\n",
    "        writer.add_image('Confusion Matrix/Adversarial', adv_cm)\n",
    "        writer.add_image('Confusion Matrix/Reconstructed', recon_cm)\n",
    "\n",
    "    if visualize:\n",
    "        visualize_comparison(original_images_list, perturbed_images_list, original_labels_list, perturbed_preds_list, num_images=num_images)\n",
    "        visualize_comparison(original_images_list, reconstructed_images_list, original_labels_list, reconstructed_preds_list, num_images=num_images)"
   ]
  },
  {
   "cell_type": "markdown",
   "metadata": {},
   "source": [
    "---\n",
    "---\n",
    "## Adversarial Defense Test - Teacher + Defense-GAN\n",
    "---\n",
    "---\n"
   ]
  },
  {
   "cell_type": "code",
   "execution_count": null,
   "metadata": {},
   "outputs": [],
   "source": []
  },
  {
   "cell_type": "markdown",
   "metadata": {},
   "source": [
    "---\n",
    "---\n",
    "## Adversarial Defense Test - Distilled + Defense-GAN\n",
    "---\n",
    "---\n"
   ]
  }
 ],
 "metadata": {
  "kernelspec": {
   "display_name": "py310",
   "language": "python",
   "name": "python3"
  },
  "language_info": {
   "codemirror_mode": {
    "name": "ipython",
    "version": 3
   },
   "file_extension": ".py",
   "mimetype": "text/x-python",
   "name": "python",
   "nbconvert_exporter": "python",
   "pygments_lexer": "ipython3",
   "version": "3.10.14"
  }
 },
 "nbformat": 4,
 "nbformat_minor": 2
}
