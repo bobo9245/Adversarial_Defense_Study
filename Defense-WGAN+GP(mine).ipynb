{
 "cells": [
  {
   "cell_type": "code",
   "execution_count": 1,
   "metadata": {},
   "outputs": [],
   "source": [
    "#기본 IMPORT\n",
    "import numpy as np\n",
    "from matplotlib import cm\n",
    "import matplotlib.pyplot as plt\n",
    "import math\n",
    "import os\n",
    "\n",
    "import torch\n",
    "import torch.nn as nn\n",
    "import torch.nn.functional as F\n",
    "import torch.optim as optim\n",
    "\n",
    "from torchvision import transforms, datasets\n",
    "from torchvision.utils import save_image\n",
    "from torch.autograd import Variable\n",
    "\n",
    "from sklearn.metrics import f1_score, confusion_matrix\n",
    "from sklearn.manifold import TSNE\n",
    "\n",
    "#TensorBoard 사용하기\n",
    "from torch.utils.tensorboard import SummaryWriter\n",
    "writer = SummaryWriter()\n"
   ]
  },
  {
   "cell_type": "code",
   "execution_count": 2,
   "metadata": {},
   "outputs": [],
   "source": [
    "# 출력 줄수 제한 없애기\n",
    "\n",
    "from IPython.core.interactiveshell import InteractiveShell\n",
    "\n",
    "InteractiveShell.ast_node_interactivity=\"all\"\n",
    "\n"
   ]
  },
  {
   "cell_type": "code",
   "execution_count": 3,
   "metadata": {},
   "outputs": [
    {
     "data": {
      "text/plain": [
       "<Figure size 1000x100 with 0 Axes>"
      ]
     },
     "execution_count": 3,
     "metadata": {},
     "output_type": "execute_result"
    },
    {
     "data": {
      "text/plain": [
       "<Axes: >"
      ]
     },
     "execution_count": 3,
     "metadata": {},
     "output_type": "execute_result"
    },
    {
     "data": {
      "text/plain": [
       "(0.0, 1.0, 0.0, 1.0)"
      ]
     },
     "execution_count": 3,
     "metadata": {},
     "output_type": "execute_result"
    },
    {
     "data": {
      "text/plain": [
       "<matplotlib.image.AxesImage at 0x1cc3b02f640>"
      ]
     },
     "execution_count": 3,
     "metadata": {},
     "output_type": "execute_result"
    },
    {
     "data": {
      "text/plain": [
       "Text(0.5, 1.0, 'Class: 4')"
      ]
     },
     "execution_count": 3,
     "metadata": {},
     "output_type": "execute_result"
    },
    {
     "data": {
      "text/plain": [
       "<Axes: >"
      ]
     },
     "execution_count": 3,
     "metadata": {},
     "output_type": "execute_result"
    },
    {
     "data": {
      "text/plain": [
       "(0.0, 1.0, 0.0, 1.0)"
      ]
     },
     "execution_count": 3,
     "metadata": {},
     "output_type": "execute_result"
    },
    {
     "data": {
      "text/plain": [
       "<matplotlib.image.AxesImage at 0x1cc3b02fa60>"
      ]
     },
     "execution_count": 3,
     "metadata": {},
     "output_type": "execute_result"
    },
    {
     "data": {
      "text/plain": [
       "Text(0.5, 1.0, 'Class: 5')"
      ]
     },
     "execution_count": 3,
     "metadata": {},
     "output_type": "execute_result"
    },
    {
     "data": {
      "text/plain": [
       "<Axes: >"
      ]
     },
     "execution_count": 3,
     "metadata": {},
     "output_type": "execute_result"
    },
    {
     "data": {
      "text/plain": [
       "(0.0, 1.0, 0.0, 1.0)"
      ]
     },
     "execution_count": 3,
     "metadata": {},
     "output_type": "execute_result"
    },
    {
     "data": {
      "text/plain": [
       "<matplotlib.image.AxesImage at 0x1cc4292aef0>"
      ]
     },
     "execution_count": 3,
     "metadata": {},
     "output_type": "execute_result"
    },
    {
     "data": {
      "text/plain": [
       "Text(0.5, 1.0, 'Class: 0')"
      ]
     },
     "execution_count": 3,
     "metadata": {},
     "output_type": "execute_result"
    },
    {
     "data": {
      "text/plain": [
       "<Axes: >"
      ]
     },
     "execution_count": 3,
     "metadata": {},
     "output_type": "execute_result"
    },
    {
     "data": {
      "text/plain": [
       "(0.0, 1.0, 0.0, 1.0)"
      ]
     },
     "execution_count": 3,
     "metadata": {},
     "output_type": "execute_result"
    },
    {
     "data": {
      "text/plain": [
       "<matplotlib.image.AxesImage at 0x1cc4296feb0>"
      ]
     },
     "execution_count": 3,
     "metadata": {},
     "output_type": "execute_result"
    },
    {
     "data": {
      "text/plain": [
       "Text(0.5, 1.0, 'Class: 4')"
      ]
     },
     "execution_count": 3,
     "metadata": {},
     "output_type": "execute_result"
    },
    {
     "data": {
      "text/plain": [
       "<Axes: >"
      ]
     },
     "execution_count": 3,
     "metadata": {},
     "output_type": "execute_result"
    },
    {
     "data": {
      "text/plain": [
       "(0.0, 1.0, 0.0, 1.0)"
      ]
     },
     "execution_count": 3,
     "metadata": {},
     "output_type": "execute_result"
    },
    {
     "data": {
      "text/plain": [
       "<matplotlib.image.AxesImage at 0x1cc3b073490>"
      ]
     },
     "execution_count": 3,
     "metadata": {},
     "output_type": "execute_result"
    },
    {
     "data": {
      "text/plain": [
       "Text(0.5, 1.0, 'Class: 4')"
      ]
     },
     "execution_count": 3,
     "metadata": {},
     "output_type": "execute_result"
    },
    {
     "data": {
      "text/plain": [
       "<Axes: >"
      ]
     },
     "execution_count": 3,
     "metadata": {},
     "output_type": "execute_result"
    },
    {
     "data": {
      "text/plain": [
       "(0.0, 1.0, 0.0, 1.0)"
      ]
     },
     "execution_count": 3,
     "metadata": {},
     "output_type": "execute_result"
    },
    {
     "data": {
      "text/plain": [
       "<matplotlib.image.AxesImage at 0x1cc3b073c10>"
      ]
     },
     "execution_count": 3,
     "metadata": {},
     "output_type": "execute_result"
    },
    {
     "data": {
      "text/plain": [
       "Text(0.5, 1.0, 'Class: 1')"
      ]
     },
     "execution_count": 3,
     "metadata": {},
     "output_type": "execute_result"
    },
    {
     "data": {
      "text/plain": [
       "<Axes: >"
      ]
     },
     "execution_count": 3,
     "metadata": {},
     "output_type": "execute_result"
    },
    {
     "data": {
      "text/plain": [
       "(0.0, 1.0, 0.0, 1.0)"
      ]
     },
     "execution_count": 3,
     "metadata": {},
     "output_type": "execute_result"
    },
    {
     "data": {
      "text/plain": [
       "<matplotlib.image.AxesImage at 0x1cc3b0d6fb0>"
      ]
     },
     "execution_count": 3,
     "metadata": {},
     "output_type": "execute_result"
    },
    {
     "data": {
      "text/plain": [
       "Text(0.5, 1.0, 'Class: 2')"
      ]
     },
     "execution_count": 3,
     "metadata": {},
     "output_type": "execute_result"
    },
    {
     "data": {
      "text/plain": [
       "<Axes: >"
      ]
     },
     "execution_count": 3,
     "metadata": {},
     "output_type": "execute_result"
    },
    {
     "data": {
      "text/plain": [
       "(0.0, 1.0, 0.0, 1.0)"
      ]
     },
     "execution_count": 3,
     "metadata": {},
     "output_type": "execute_result"
    },
    {
     "data": {
      "text/plain": [
       "<matplotlib.image.AxesImage at 0x1cc3b10be50>"
      ]
     },
     "execution_count": 3,
     "metadata": {},
     "output_type": "execute_result"
    },
    {
     "data": {
      "text/plain": [
       "Text(0.5, 1.0, 'Class: 0')"
      ]
     },
     "execution_count": 3,
     "metadata": {},
     "output_type": "execute_result"
    },
    {
     "data": {
      "text/plain": [
       "<Axes: >"
      ]
     },
     "execution_count": 3,
     "metadata": {},
     "output_type": "execute_result"
    },
    {
     "data": {
      "text/plain": [
       "(0.0, 1.0, 0.0, 1.0)"
      ]
     },
     "execution_count": 3,
     "metadata": {},
     "output_type": "execute_result"
    },
    {
     "data": {
      "text/plain": [
       "<matplotlib.image.AxesImage at 0x1cc3b1429b0>"
      ]
     },
     "execution_count": 3,
     "metadata": {},
     "output_type": "execute_result"
    },
    {
     "data": {
      "text/plain": [
       "Text(0.5, 1.0, 'Class: 6')"
      ]
     },
     "execution_count": 3,
     "metadata": {},
     "output_type": "execute_result"
    },
    {
     "data": {
      "text/plain": [
       "<Axes: >"
      ]
     },
     "execution_count": 3,
     "metadata": {},
     "output_type": "execute_result"
    },
    {
     "data": {
      "text/plain": [
       "(0.0, 1.0, 0.0, 1.0)"
      ]
     },
     "execution_count": 3,
     "metadata": {},
     "output_type": "execute_result"
    },
    {
     "data": {
      "text/plain": [
       "<matplotlib.image.AxesImage at 0x1cc429c7190>"
      ]
     },
     "execution_count": 3,
     "metadata": {},
     "output_type": "execute_result"
    },
    {
     "data": {
      "text/plain": [
       "Text(0.5, 1.0, 'Class: 1')"
      ]
     },
     "execution_count": 3,
     "metadata": {},
     "output_type": "execute_result"
    },
    {
     "data": {
      "image/png": "[encoded data removed]",
      "text/plain": [
       "<Figure size 1000x100 with 10 Axes>"
      ]
     },
     "metadata": {},
     "output_type": "display_data"
    }
   ],
   "source": [
    "#Device 및 기본 설정 + 데이터셋 받아오기(MNIST)\n",
    "DEVICE = torch.device(\"cuda\" if torch.cuda.is_available() else \"cpu\")\n",
    "BATCH_SIZE=32\n",
    "EPOCHS=10\n",
    "\n",
    "train_dataset = datasets.MNIST(root='data/MNIST',train=True, download=True, transform=transforms.ToTensor())\n",
    "test_dataset = datasets.MNIST(root='data/MNIST',train=False, transform=transforms.ToTensor())\n",
    "train_loader = torch.utils.data.DataLoader(dataset=train_dataset,batch_size=BATCH_SIZE, shuffle=True)\n",
    "test_loader = torch.utils.data.DataLoader(dataset=test_dataset,batch_size=BATCH_SIZE, shuffle=False)\n",
    "\n",
    "for (X_train, y_train) in train_loader:\n",
    "    # print('X_train:', X_train.size(),'type:',X_train.type())\n",
    "    # print('y_train:',y_train.size(), 'type:',y_train.type())\n",
    "    pass\n",
    "\n",
    "pltsize = 1\n",
    "plt.figure(figsize=(10 * pltsize, pltsize)) #10개 plot하기 위한 figure 크기 설정\n",
    "\n",
    "for i in range(10):\n",
    "    plt.subplot(1, 10, i + 1) # plot.subplot(rows, columns, index)\n",
    "    plt.axis('off')\n",
    "    plt.imshow(X_train[i, :, :, :].numpy().reshape(28, 28), cmap = \"gray_r\")\n",
    "    plt.title('Class: ' + str(y_train[i].item()))"
   ]
  },
  {
   "cell_type": "code",
   "execution_count": 4,
   "metadata": {},
   "outputs": [],
   "source": [
    "#모델을 4층구조 - Conv - Relu - Pooling 4층\n",
    "class Net(nn.Module): \n",
    "    def __init__(self):\n",
    "        super(Net, self).__init__()\n",
    "        self.conv1 = nn.Conv2d(1, 32, kernel_size=3, padding=1)\n",
    "        self.bn1 = nn.BatchNorm2d(32)\n",
    "        \n",
    "        self.conv2 = nn.Conv2d(32, 64, kernel_size=3, padding=1)\n",
    "        self.bn2 = nn.BatchNorm2d(64)\n",
    "        \n",
    "        self.pool = nn.MaxPool2d(2, 2)\n",
    "        \n",
    "        self.fc1 = nn.Linear(64 * 7 * 7, 512)\n",
    "        self.bn_fc1 = nn.BatchNorm1d(512)\n",
    "        \n",
    "        self.fc2 = nn.Linear(512, 256)\n",
    "        self.bn_fc2 = nn.BatchNorm1d(256)\n",
    "        \n",
    "        self.fc3 = nn.Linear(256, 10)\n",
    "        \n",
    "        self.dropout = nn.Dropout(0.5)\n",
    "        \n",
    "    def forward(self, x):\n",
    "        x = self.pool(F.gelu(self.bn1(self.conv1(x))))\n",
    "        x = self.pool(F.gelu(self.bn2(self.conv2(x))))\n",
    "        \n",
    "        x = x.view(-1, 64 * 7 * 7)\n",
    "        \n",
    "        x = F.gelu(self.bn_fc1(self.fc1(x)))\n",
    "        x = self.dropout(x)\n",
    "        \n",
    "        x = F.gelu(self.bn_fc2(self.fc2(x)))\n",
    "        x = self.dropout(x)\n",
    "        \n",
    "        x = F.log_softmax(self.fc3(x), dim=1)\n",
    "        \n",
    "        return x\n"
   ]
  },
  {
   "cell_type": "code",
   "execution_count": 5,
   "metadata": {},
   "outputs": [
    {
     "name": "stdout",
     "output_type": "stream",
     "text": [
      "Net(\n",
      "  (conv1): Conv2d(1, 32, kernel_size=(3, 3), stride=(1, 1), padding=(1, 1))\n",
      "  (bn1): BatchNorm2d(32, eps=1e-05, momentum=0.1, affine=True, track_running_stats=True)\n",
      "  (conv2): Conv2d(32, 64, kernel_size=(3, 3), stride=(1, 1), padding=(1, 1))\n",
      "  (bn2): BatchNorm2d(64, eps=1e-05, momentum=0.1, affine=True, track_running_stats=True)\n",
      "  (pool): MaxPool2d(kernel_size=2, stride=2, padding=0, dilation=1, ceil_mode=False)\n",
      "  (fc1): Linear(in_features=3136, out_features=512, bias=True)\n",
      "  (bn_fc1): BatchNorm1d(512, eps=1e-05, momentum=0.1, affine=True, track_running_stats=True)\n",
      "  (fc2): Linear(in_features=512, out_features=256, bias=True)\n",
      "  (bn_fc2): BatchNorm1d(256, eps=1e-05, momentum=0.1, affine=True, track_running_stats=True)\n",
      "  (fc3): Linear(in_features=256, out_features=10, bias=True)\n",
      "  (dropout): Dropout(p=0.5, inplace=False)\n",
      ")\n"
     ]
    }
   ],
   "source": [
    "#model,optimizer,criterion 설정\n",
    "model = Net().to(DEVICE)\n",
    "optimizer = torch.optim.SGD(model.parameters(),lr=0.01,momentum=0.5)\n",
    "criterion=nn.CrossEntropyLoss()\n",
    "\n",
    "print(model)"
   ]
  },
  {
   "cell_type": "code",
   "execution_count": 6,
   "metadata": {},
   "outputs": [],
   "source": [
    "# 학습 함수\n",
    "def train(model, device, train_loader, optimizer, criterion, epochs):\n",
    "    model.train()\n",
    "    for epoch in range(epochs):\n",
    "        running_loss = 0.0\n",
    "        for batch_idx, (data, target) in enumerate(train_loader):\n",
    "            data, target = data.to(device), target.to(device)\n",
    "            \n",
    "            optimizer.zero_grad()\n",
    "            output = model(data)\n",
    "            loss = criterion(output, target)\n",
    "            loss.backward()\n",
    "            optimizer.step()\n",
    "            \n",
    "            running_loss += loss.item()\n",
    "        \n",
    "        avg_loss = running_loss / len(train_loader)\n",
    "        print(f\"Epoch {epoch + 1}/{epochs}, Loss: {avg_loss:.4f}\")\n"
   ]
  },
  {
   "cell_type": "code",
   "execution_count": 7,
   "metadata": {},
   "outputs": [],
   "source": [
    "# FGSM Attack Function\n",
    "def fgsm_attack(image, epsilon, data_grad):\n",
    "    sign_data_grad = data_grad.sign()\n",
    "    perturbed_image = image + epsilon * sign_data_grad\n",
    "    perturbed_image = torch.clamp(perturbed_image, 0, 1)\n",
    "    return perturbed_image\n",
    "\n",
    "#FGSM(TSNE 시각화용)\n",
    "def fgsm_attack_2(model, image, label, epsilon, criterion):\n",
    "    # FGSM attack implementation\n",
    "    image.requires_grad = True\n",
    "    output = model(image)\n",
    "    loss = criterion(output, label)\n",
    "    model.zero_grad()\n",
    "    loss.backward()\n",
    "    data_grad = image.grad.data\n",
    "    perturbed_image = image + epsilon * data_grad.sign()\n",
    "    perturbed_image = torch.clamp(perturbed_image, 0, 1)\n",
    "    return perturbed_image\n",
    "\n",
    "# PGD Attack Function\n",
    "def pgd_attack(model, image, label, epsilon, alpha, attack_iters, criterion):\n",
    "    perturbed_image = image.clone().detach().requires_grad_(True).to(DEVICE)\n",
    "    original_image = image.clone().detach()\n",
    "    \n",
    "    for _ in range(attack_iters):\n",
    "        output = model(perturbed_image)\n",
    "        loss = criterion(output, label)\n",
    "        model.zero_grad()\n",
    "        loss.backward()\n",
    "        data_grad = perturbed_image.grad.data\n",
    "        \n",
    "        perturbed_image = perturbed_image + alpha * data_grad.sign()\n",
    "        perturbation = torch.clamp(perturbed_image - original_image, min=-epsilon, max=epsilon)\n",
    "        perturbed_image = torch.clamp(original_image + perturbation, 0, 1).detach_().requires_grad_(True)\n",
    "    \n",
    "    return perturbed_image\n",
    "\n",
    "# Adversarial Training with FGSM\n",
    "def train_with_fgsm(model, device, train_loader, optimizer, criterion, epochs, epsilon):\n",
    "    model.train()\n",
    "    for epoch in range(epochs):\n",
    "        running_loss = 0.0\n",
    "        for batch_idx, (data, target) in enumerate(train_loader):\n",
    "            data, target = data.to(device), target.to(device)\n",
    "            data.requires_grad = True\n",
    "            \n",
    "            optimizer.zero_grad()\n",
    "            output = model(data)\n",
    "            loss = criterion(output, target)\n",
    "            loss.backward()\n",
    "            data_grad = data.grad.data\n",
    "            perturbed_data = fgsm_attack(data, epsilon, data_grad)\n",
    "            \n",
    "            output = model(perturbed_data)\n",
    "            loss_adv = criterion(output, target)\n",
    "            loss_adv.backward()\n",
    "            optimizer.step()\n",
    "            \n",
    "            running_loss += loss.item() + loss_adv.item()\n",
    "        \n",
    "        avg_loss = running_loss / len(train_loader)\n",
    "        print(f\"Epoch {epoch + 1}/{epochs} with FGSM Attack, Loss: {avg_loss:.4f}\")\n",
    "\n",
    "# Adversarial Training with PGD\n",
    "def train_with_pgd(model, device, train_loader, optimizer, criterion, epochs, epsilon, alpha, attack_iters):\n",
    "    model.train()\n",
    "    for epoch in range(epochs):\n",
    "        running_loss = 0.0\n",
    "        for batch_idx, (data, target) in enumerate(train_loader):\n",
    "            data, target = data.to(device), target.to(device)\n",
    "            \n",
    "            optimizer.zero_grad()\n",
    "            perturbed_data = pgd_attack(model, data, target, epsilon, alpha, attack_iters, criterion)\n",
    "            output = model(perturbed_data)\n",
    "            loss = criterion(output, target)\n",
    "            loss.backward()\n",
    "            optimizer.step()\n",
    "            \n",
    "            running_loss += loss.item()\n",
    "        \n",
    "        avg_loss = running_loss / len(train_loader)\n",
    "        print(f\"Epoch {epoch + 1}/{epochs} with PGD Attack, Loss: {avg_loss:.4f}\")\n",
    "\n",
    "\n"
   ]
  },
  {
   "cell_type": "code",
   "execution_count": 8,
   "metadata": {},
   "outputs": [],
   "source": [
    "# Basic Evaluation Function\n",
    "def evaluate(model, test_loader, criterion):\n",
    "    model.eval()\n",
    "    test_loss = 0\n",
    "    correct = 0\n",
    "    all_labels = []\n",
    "    all_predictions = []\n",
    "    \n",
    "    with torch.no_grad():\n",
    "        for image, label in test_loader:\n",
    "            image = image.to(DEVICE)\n",
    "            label = label.to(DEVICE)\n",
    "            output = model(image)\n",
    "            test_loss += criterion(output, label).item()\n",
    "            prediction = output.max(1, keepdim=True)[1]\n",
    "            correct += prediction.eq(label.view_as(prediction)).sum().item()\n",
    "            \n",
    "            all_labels.extend(label.cpu().numpy())\n",
    "            all_predictions.extend(prediction.cpu().numpy())\n",
    "    \n",
    "    test_loss /= len(test_loader)\n",
    "    test_accuracy = 100. * correct / len(test_loader.dataset)\n",
    "    \n",
    "    f1 = f1_score(all_labels, all_predictions, average='macro')\n",
    "    cm = confusion_matrix(all_labels, all_predictions)\n",
    "    \n",
    "    print(f\"Test Loss: {test_loss:.4f}\")\n",
    "    print(f\"Test Accuracy: {test_accuracy:.2f}%\")\n",
    "    print(f\"F1 Score (Macro): {f1:.4f}\")\n",
    "    print(\"Confusion Matrix:\")\n",
    "    print(cm)\n"
   ]
  },
  {
   "cell_type": "code",
   "execution_count": 9,
   "metadata": {},
   "outputs": [],
   "source": [
    "def visualize_comparison(original_images_list, perturbed_images_list, original_labels_list, perturbed_preds_list, num_images=16):\n",
    "    \"\"\"\n",
    "    Visualizes original and adversarial images side by side.\n",
    "    \n",
    "    Parameters:\n",
    "    - original_images_list: List of tensors containing original images.\n",
    "    - perturbed_images_list: List of tensors containing adversarial images.\n",
    "    - original_labels_list: List of original labels.\n",
    "    - perturbed_preds_list: List of adversarial predictions.\n",
    "    - num_images: Number of image pairs to visualize.\n",
    "    \"\"\"\n",
    "    # Concatenate all batches into a single tensor and ensure they are detached\n",
    "    original_images = torch.cat(original_images_list, dim=0)[:num_images].detach()\n",
    "    perturbed_images = torch.cat(perturbed_images_list, dim=0)[:num_images].detach()\n",
    "    original_labels = np.concatenate(original_labels_list, axis=0)[:num_images]\n",
    "    perturbed_preds = np.concatenate(perturbed_preds_list, axis=0)[:num_images]\n",
    "    \n",
    "    # Calculate the number of rows needed\n",
    "    num_cols = 8  # Number of images per row\n",
    "    num_rows = (num_images + num_cols - 1) // num_cols  # Calculate rows needed to display all images\n",
    "\n",
    "    fig, axes = plt.subplots(2 * num_rows, num_cols, figsize=(2 * num_cols, 4 * num_rows))\n",
    "    \n",
    "    for i in range(num_images):\n",
    "        row = (i // num_cols) * 2  # Determine the row index (original and adversarial)\n",
    "        col = i % num_cols  # Determine the column index\n",
    "        \n",
    "        # Original Image\n",
    "        axes[row, col].imshow(original_images[i].squeeze().cpu().numpy(), cmap='gray')\n",
    "        axes[row, col].set_title(f\"Original: {original_labels[i]}\")\n",
    "        axes[row, col].axis('off')\n",
    "        \n",
    "        # Adversarial Image\n",
    "        axes[row + 1, col].imshow(perturbed_images[i].squeeze().cpu().numpy(), cmap='gray')\n",
    "        axes[row + 1, col].set_title(f\"Adversarial: {perturbed_preds[i]}\")\n",
    "        axes[row + 1, col].axis('off')\n",
    "    \n",
    "    # Hide any unused subplots\n",
    "    for i in range(num_images, num_cols * num_rows):\n",
    "        row = (i // num_cols) * 2\n",
    "        col = i % num_cols\n",
    "        axes[row, col].axis('off')\n",
    "        axes[row + 1, col].axis('off')\n",
    "\n",
    "    plt.tight_layout()\n",
    "    plt.show()\n"
   ]
  },
  {
   "cell_type": "code",
   "execution_count": 10,
   "metadata": {},
   "outputs": [],
   "source": [
    "def visualize_tsne(model, test_loader, epsilon, alpha, iterations, visualize=True, num_images=1000, mode='FGSM'):\n",
    "    model.eval()\n",
    "    images_list = []\n",
    "    labels_list = []\n",
    "\n",
    "    criterion = torch.nn.CrossEntropyLoss()\n",
    "\n",
    "    for i, (images, labels) in enumerate(test_loader):\n",
    "        if i * len(images) >= num_images:\n",
    "            break\n",
    "\n",
    "        images, labels = images.to(DEVICE), labels.to(DEVICE)\n",
    "\n",
    "        # Apply attack based on mode\n",
    "        if mode == 'FGSM':\n",
    "            perturbed_images = fgsm_attack_2(model, images, labels, epsilon, criterion)\n",
    "        elif mode == 'PGD':\n",
    "            perturbed_images = pgd_attack(model, images, labels, epsilon, alpha, iterations, criterion)\n",
    "        else:\n",
    "            raise ValueError(\"Mode must be either 'FGSM' or 'PGD'\")\n",
    "\n",
    "        # Collect original and perturbed images for TSNE\n",
    "        with torch.no_grad():\n",
    "            images_list.append(images)\n",
    "            labels_list.append(labels)\n",
    "            images_list.append(perturbed_images)\n",
    "            labels_list.append(labels)\n",
    "\n",
    "    # Stack all images and labels\n",
    "    images_list = torch.cat(images_list, dim=0)\n",
    "    labels_list = torch.cat(labels_list, dim=0).cpu().numpy()  # Move to CPU and convert to numpy\n",
    "\n",
    "    # Pass images through the model to get the features\n",
    "    with torch.no_grad():\n",
    "        features = model(images_list).view(images_list.size(0), -1)\n",
    "\n",
    "    # Apply TSNE to reduce to 2 dimensions\n",
    "    tsne = TSNE(n_components=2, random_state=42)\n",
    "    tsne_features = tsne.fit_transform(features.cpu().numpy())\n",
    "\n",
    "    # Plot the TSNE visualization\n",
    "    if visualize:\n",
    "        # Colors and markers for each class (0-9)\n",
    "        colors = cm.get_cmap('tab10', 10)  # Using a colormap with 10 colors\n",
    "        markers = ['o', 's', 'v', '^', '<', '>', 'P', '*', 'X', 'D']  # Different markers for diversity\n",
    "\n",
    "        plt.figure(figsize=(12, 10))\n",
    "        for class_idx in range(10):\n",
    "            # Plot original images\n",
    "            class_mask = (labels_list[:len(images_list)//2] == class_idx)\n",
    "            plt.scatter(tsne_features[:len(images_list)//2, 0][class_mask], \n",
    "                        tsne_features[:len(images_list)//2, 1][class_mask], \n",
    "                        color=colors(class_idx), marker=markers[class_idx], label=f'Original {class_idx}', alpha=0.5)\n",
    "            \n",
    "            # Plot perturbed images\n",
    "            class_mask = (labels_list[len(images_list)//2:] == class_idx)\n",
    "            plt.scatter(tsne_features[len(images_list)//2:, 0][class_mask], \n",
    "                        tsne_features[len(images_list)//2:, 1][class_mask], \n",
    "                        color=colors(class_idx), marker=markers[class_idx], label=f'Perturbed {class_idx}', edgecolor='k', alpha=0.5)\n",
    "        \n",
    "        # Set the legend to appear in the top right and split into 2 columns\n",
    "        plt.legend(loc='upper right', bbox_to_anchor=(1.15, 1), ncol=2)\n",
    "        plt.title(f'TSNE Visualization - {mode} Attack')\n",
    "        plt.show()\n",
    "\n",
    "    return tsne_features, labels_list\n"
   ]
  },
  {
   "cell_type": "code",
   "execution_count": 11,
   "metadata": {},
   "outputs": [],
   "source": [
    "# Evaluation with FGSM Attack\n",
    "def evaluate_with_fgsm_attack(model, test_loader, criterion, epsilon, visualize=True, num_images=5):\n",
    "    model.eval()\n",
    "    clean_loss, adv_loss = 0, 0\n",
    "    clean_correct, adv_correct = 0, 0\n",
    "    clean_labels, clean_preds = [], []\n",
    "    adv_labels, adv_preds = [], []\n",
    "    \n",
    "    # For Visualization\n",
    "    original_images_list = []\n",
    "    perturbed_images_list = []\n",
    "    original_labels_list = []\n",
    "    perturbed_preds_list = []\n",
    "    \n",
    "    for batch_idx, (data, target) in enumerate(test_loader):\n",
    "        data, target = data.to(DEVICE), target.to(DEVICE)\n",
    "        \n",
    "        # Clean Evaluation\n",
    "        output = model(data)\n",
    "        clean_loss += criterion(output, target).item()\n",
    "        clean_pred = output.max(1, keepdim=True)[1]\n",
    "        clean_correct += clean_pred.eq(target.view_as(clean_pred)).sum().item()\n",
    "        \n",
    "        clean_labels.extend(target.cpu().numpy())\n",
    "        clean_preds.extend(clean_pred.cpu().numpy())\n",
    "        \n",
    "        # FGSM Attack\n",
    "        data.requires_grad = True\n",
    "        output = model(data)\n",
    "        loss = criterion(output, target)\n",
    "        model.zero_grad()\n",
    "        loss.backward()\n",
    "        data_grad = data.grad.data\n",
    "        perturbed_data = fgsm_attack(data, epsilon, data_grad)\n",
    "        \n",
    "        # Adversarial Evaluation\n",
    "        output = model(perturbed_data)\n",
    "        adv_loss += criterion(output, target).item()\n",
    "        adv_pred = output.max(1, keepdim=True)[1]\n",
    "        adv_correct += adv_pred.eq(target.view_as(adv_pred)).sum().item()\n",
    "        \n",
    "        adv_labels.extend(target.cpu().numpy())\n",
    "        adv_preds.extend(adv_pred.cpu().numpy())\n",
    "        \n",
    "        # Save for Visualization\n",
    "        if visualize and len(original_images_list) < num_images:\n",
    "            # Detach tensors to prevent them from tracking gradients\n",
    "            original_images_list.append(data.cpu().detach())\n",
    "            perturbed_images_list.append(perturbed_data.cpu().detach())\n",
    "            original_labels_list.append(target.cpu().numpy())\n",
    "            perturbed_preds_list.append(adv_pred.cpu().numpy())\n",
    "    \n",
    "    # Calculate Metrics\n",
    "    clean_loss /= len(test_loader)\n",
    "    adv_loss /= len(test_loader)\n",
    "    clean_accuracy = 100. * clean_correct / len(test_loader.dataset)\n",
    "    adv_accuracy = 100. * adv_correct / len(test_loader.dataset)\n",
    "    \n",
    "    clean_f1 = f1_score(clean_labels, clean_preds, average='macro')\n",
    "    adv_f1 = f1_score(adv_labels, adv_preds, average='macro')\n",
    "    \n",
    "    clean_cm = confusion_matrix(clean_labels, clean_preds)\n",
    "    adv_cm = confusion_matrix(adv_labels, adv_preds)\n",
    "    \n",
    "    print(f\"Adversarial Test Loss: {adv_loss:.4f}, Adversarial Accuracy: {adv_accuracy:.2f}%\")\n",
    "    print(f\"Adversarial F1 Score (Macro): {adv_f1:.4f}\")\n",
    "    print(\"Adversarial Confusion Matrix:\")\n",
    "    print(adv_cm)\n",
    "    print(len(original_images_list))\n",
    "    return original_images_list,perturbed_images_list,original_labels_list,perturbed_preds_list\n",
    "    # Visualization\n",
    "    if visualize and original_images_list and perturbed_images_list:\n",
    "        visualize_comparison(original_images_list, perturbed_images_list, original_labels_list, perturbed_preds_list, num_images=num_images)\n",
    "\n",
    "# Evaluation with PGD Attack\n",
    "def evaluate_with_pgd_attack(model, test_loader, criterion, epsilon, alpha, attack_iters, visualize=True, num_images=5):\n",
    "    model.eval()\n",
    "    clean_loss, adv_loss = 0, 0\n",
    "    clean_correct, adv_correct = 0, 0\n",
    "    clean_labels, clean_preds = [], []\n",
    "    adv_labels, adv_preds = [], []\n",
    "    \n",
    "    # For Visualization\n",
    "    original_images_list = []\n",
    "    perturbed_images_list = []\n",
    "    original_labels_list = []\n",
    "    perturbed_preds_list = []\n",
    "    \n",
    "    for batch_idx, (data, target) in enumerate(test_loader):\n",
    "        data, target = data.to(DEVICE), target.to(DEVICE)\n",
    "        \n",
    "        # Clean Evaluation\n",
    "        output = model(data)\n",
    "        clean_loss += criterion(output, target).item()\n",
    "        clean_pred = output.max(1, keepdim=True)[1]\n",
    "        clean_correct += clean_pred.eq(target.view_as(clean_pred)).sum().item()\n",
    "        \n",
    "        clean_labels.extend(target.cpu().numpy())\n",
    "        clean_preds.extend(clean_pred.cpu().numpy())\n",
    "        \n",
    "        # PGD Attack\n",
    "        perturbed_data = pgd_attack(model, data, target, epsilon, alpha, attack_iters, criterion)\n",
    "        \n",
    "        # Adversarial Evaluation\n",
    "        output = model(perturbed_data)\n",
    "        adv_loss += criterion(output, target).item()\n",
    "        adv_pred = output.max(1, keepdim=True)[1]\n",
    "        adv_correct += adv_pred.eq(target.view_as(adv_pred)).sum().item()\n",
    "        \n",
    "        adv_labels.extend(target.cpu().numpy())\n",
    "        adv_preds.extend(adv_pred.cpu().numpy())\n",
    "        \n",
    "        # Save for Visualization\n",
    "        if visualize and len(original_images_list) < num_images:\n",
    "            original_images_list.append(data.cpu())\n",
    "            perturbed_images_list.append(perturbed_data.cpu())\n",
    "            original_labels_list.append(target.cpu().numpy())\n",
    "            perturbed_preds_list.append(adv_pred.cpu().numpy())\n",
    "    \n",
    "    # Calculate Metrics\n",
    "    clean_loss /= len(test_loader)\n",
    "    adv_loss /= len(test_loader)\n",
    "    clean_accuracy = 100. * clean_correct / len(test_loader.dataset)\n",
    "    adv_accuracy = 100. * adv_correct / len(test_loader.dataset)\n",
    "    \n",
    "    clean_f1 = f1_score(clean_labels, clean_preds, average='macro')\n",
    "    adv_f1 = f1_score(adv_labels, adv_preds, average='macro')\n",
    "    \n",
    "    clean_cm = confusion_matrix(clean_labels, clean_preds)\n",
    "    adv_cm = confusion_matrix(adv_labels, adv_preds)\n",
    "    \n",
    "    # Print Results\n",
    "    print(f\"Adversarial Test Loss (PGD): {adv_loss:.4f}, Adversarial Accuracy (PGD): {adv_accuracy:.2f}%\")\n",
    "    print(f\"Adversarial F1 Score (Macro, PGD): {adv_f1:.4f}\")\n",
    "    print(\"Adversarial Confusion Matrix (PGD):\")\n",
    "    print(adv_cm)\n",
    "    return original_images_list, perturbed_images_list, original_labels_list,perturbed_preds_list\n",
    "    # Visualization\n",
    "    if visualize and original_images_list and perturbed_images_list:\n",
    "        visualize_comparison(original_images_list, perturbed_images_list, original_labels_list, perturbed_preds_list, num_images=num_images)\n"
   ]
  },
  {
   "cell_type": "code",
   "execution_count": 12,
   "metadata": {},
   "outputs": [],
   "source": [
    "# Generator 모델 정의\n",
    "class Generator(nn.Module):\n",
    "    def __init__(self, latent_dim=100, img_size=28, channels=1):\n",
    "        super(Generator, self).__init__()\n",
    "        \n",
    "        self.init_size = img_size // 4  # 초기 이미지 크기 설정\n",
    "        self.l1 = nn.Sequential(nn.Linear(latent_dim, 128 * self.init_size ** 2))\n",
    "\n",
    "        self.model = nn.Sequential(\n",
    "            nn.BatchNorm2d(128),\n",
    "            nn.Upsample(scale_factor=2),\n",
    "            nn.Conv2d(128, 128, 3, stride=1, padding=1),\n",
    "            nn.BatchNorm2d(128, 0.8),\n",
    "            nn.LeakyReLU(0.2, inplace=True),\n",
    "            nn.Upsample(scale_factor=2),\n",
    "            nn.Conv2d(128, 64, 3, stride=1, padding=1),\n",
    "            nn.BatchNorm2d(64, 0.8),\n",
    "            nn.LeakyReLU(0.2, inplace=True),\n",
    "            nn.Conv2d(64, channels, 3, stride=1, padding=1),\n",
    "            nn.Tanh(),\n",
    "        )\n",
    "\n",
    "    def forward(self, z):\n",
    "        out = self.l1(z)\n",
    "        out = out.view(out.shape[0], 128, self.init_size, self.init_size)\n",
    "        img = self.model(out)  # self.model 사용\n",
    "        return img\n",
    "\n",
    "# Discriminator 모델 정의 (Critic)\n",
    "class Discriminator(nn.Module):\n",
    "    def __init__(self, img_size=28, channels=1):\n",
    "        super(Discriminator, self).__init__()\n",
    "\n",
    "        def discriminator_block(in_filters, out_filters, bn=True):\n",
    "            block = [nn.Conv2d(in_filters, out_filters, 3, 2, 1),\n",
    "                     nn.LeakyReLU(0.2, inplace=True),\n",
    "                     nn.Dropout2d(0.25)]\n",
    "            if bn:\n",
    "                block.append(nn.BatchNorm2d(out_filters, 0.8))\n",
    "            return block\n",
    "\n",
    "        self.model = nn.Sequential(\n",
    "            *discriminator_block(channels, 16, bn=False),   # (1, 28, 28) -> (64, 14, 14)\n",
    "            *discriminator_block(16, 32),                 # (64, 14, 14) -> (128, 7, 7)\n",
    "            *discriminator_block(32, 64),                # (128, 7, 7) -> (256, 4, 4)\n",
    "            *discriminator_block(64, 128),                # (256, 4, 4) -> (512, 2, 2)\n",
    "        )\n",
    "\n",
    "        # 최종 피처 맵의 크기 계산\n",
    "        ds_size = img_size // 2 ** 4  # 최종 피처 맵 크기는 2x2\n",
    "        self.adv_layer = nn.Sequential(nn.Linear(512 * ds_size * ds_size, 1))\n",
    "\n",
    "    def forward(self, img):\n",
    "        out = self.model(img)\n",
    "        out = out.view(out.shape[0], -1)  # Flatten: (batch_size, 2048)\n",
    "        validity = self.adv_layer(out)\n",
    "        return validity\n",
    "\n",
    "# Gradient Penalty 계산 함수\n",
    "def compute_gradient_penalty(discriminator, real_samples, fake_samples):\n",
    "    alpha = torch.rand(real_samples.size(0), 1, 1, 1).to(real_samples.device)\n",
    "    interpolates = (alpha * real_samples + (1 - alpha) * fake_samples).requires_grad_(True)\n",
    "    d_interpolates = discriminator(interpolates)\n",
    "    fake = torch.ones(real_samples.size(0), 1).to(real_samples.device)\n",
    "    \n",
    "    gradients = torch.autograd.grad(\n",
    "        outputs=d_interpolates,\n",
    "        inputs=interpolates,\n",
    "        grad_outputs=fake,\n",
    "        create_graph=True,\n",
    "        retain_graph=True,\n",
    "        only_inputs=True\n",
    "    )[0]\n",
    "    gradients = gradients.view(gradients.size(0), -1)\n",
    "    gradient_penalty = ((gradients.norm(2, dim=1) - 1) ** 2).mean()\n",
    "    return gradient_penalty"
   ]
  },
  {
   "cell_type": "code",
   "execution_count": 25,
   "metadata": {},
   "outputs": [],
   "source": [
    "# Train WGAN-GP\n",
    "def train_wgan_gp(generator, discriminator, epochs=10, batch_size=64, latent_dim=100, lambda_gp=10, n_critic=5, writer=None):\n",
    "    # Optimizers\n",
    "    optimizer_G = optim.Adam(generator.parameters(), lr=0.0002, betas=(0.5, 0.9))\n",
    "    optimizer_D = optim.Adam(discriminator.parameters(), lr=0.0002, betas=(0.5, 0.9))\n",
    "\n",
    "    # Load MNIST dataset\n",
    "    train_loader = torch.utils.data.DataLoader(\n",
    "        train_dataset, batch_size=batch_size, shuffle=True)\n",
    "\n",
    "    generator.train()\n",
    "    discriminator.train()\n",
    "    \n",
    "    for epoch in range(epochs):\n",
    "        for i, (imgs, _) in enumerate(train_loader):\n",
    "            batch_size = imgs.size(0)\n",
    "\n",
    "            real_imgs = imgs.to(DEVICE)\n",
    "\n",
    "            # 판별자(critic)\n",
    "            optimizer_D.zero_grad()\n",
    "            z = torch.randn(batch_size, latent_dim).to(DEVICE)\n",
    "            fake_imgs = generator(z)\n",
    "\n",
    "            real_validity = discriminator(real_imgs)\n",
    "            fake_validity = discriminator(fake_imgs)\n",
    "            gradient_penalty = compute_gradient_penalty(discriminator, real_imgs, fake_imgs)\n",
    "            d_loss = -torch.mean(real_validity) + torch.mean(fake_validity) + lambda_gp * gradient_penalty\n",
    "\n",
    "            d_loss.backward()\n",
    "            optimizer_D.step()\n",
    "\n",
    "            # critic step맞춰서\n",
    "            if i % n_critic == 0:\n",
    "                optimizer_G.zero_grad()\n",
    "                z = torch.randn(batch_size, latent_dim).to(DEVICE)\n",
    "                gen_imgs = generator(z)\n",
    "                g_loss = -torch.mean(discriminator(gen_imgs))\n",
    "\n",
    "                g_loss.backward()\n",
    "                optimizer_G.step()\n",
    "\n",
    "            # TensorBoard: Log the losses\n",
    "            if writer:\n",
    "                global_step = epoch * len(train_loader) + i\n",
    "                writer.add_scalars('Losses', {'Generator Loss': g_loss.item(), 'Discriminator Loss': d_loss.item()}, global_step)\n",
    "\n",
    "        print(f\"Epoch [{epoch + 1}/{epochs}] | Generator Loss: {g_loss.item():.4f} | Discriminator Loss: {d_loss.item():.4f}\")\n",
    "\n",
    "    return generator\n",
    "\n",
    "# Reconstruction 함수 정의\n",
    "def reconstruct(generator, images, latent_dim, num_iterations=100, lr=0.001, writer=None, log_interval=10):\n",
    "    z = torch.randn(images.size(0), latent_dim, requires_grad=True, device=DEVICE)\n",
    "    optimizer = optim.Adam([z], lr=lr)\n",
    "\n",
    "    generator.eval()  # Set generator to evaluation mode\n",
    "    for i in range(num_iterations):\n",
    "        optimizer.zero_grad()\n",
    "        gen_imgs = generator(z)\n",
    "        loss = ((gen_imgs - images) ** 2).mean()  # Mean Squared Error loss\n",
    "        loss.backward(retain_graph=True)  # Retain computation graph for multiple backward passes\n",
    "        optimizer.step()\n",
    "\n",
    "        # TensorBoard: Log the reconstruction loss\n",
    "        if writer:\n",
    "            writer.add_scalar('Reconstruction Loss', loss.item(), i)\n",
    "\n",
    "            # Log reconstructed images at specified intervals\n",
    "            if i % log_interval == 0:\n",
    "                # Normalize the images for better visualization in TensorBoard\n",
    "                grid = torchvision.utils.make_grid(gen_imgs, normalize=True)\n",
    "                writer.add_image(f'Reconstructed Images', grid, i)\n",
    "\n",
    "    reconstructed_images = generator(z.detach())\n",
    "    return reconstructed_images"
   ]
  },
  {
   "cell_type": "code",
   "execution_count": 23,
   "metadata": {},
   "outputs": [],
   "source": [
    "# Defense-GAN Evaluation Function\n",
    "def evaluate_with_defense_gan(model, generator, test_loader, criterion, epsilon, latent_dim, visualize=True, num_images=5, attack_mode='FGSM', writer=None):\n",
    "    model.eval()\n",
    "    clean_loss, adv_loss, recon_loss = 0, 0, 0\n",
    "    clean_correct, adv_correct, recon_correct = 0, 0, 0\n",
    "    clean_labels, clean_preds, adv_labels, adv_preds, recon_labels, recon_preds = [], [], [], [], [], []\n",
    "\n",
    "    original_images_list, perturbed_images_list, reconstructed_images_list = [], [], []\n",
    "    original_labels_list, perturbed_preds_list, reconstructed_preds_list = [], [], []\n",
    "\n",
    "    for batch_idx, (data, target) in enumerate(test_loader):\n",
    "        data, target = data.to(DEVICE), target.to(DEVICE)\n",
    "\n",
    "        # Clean Evaluation\n",
    "        output = model(data)\n",
    "        clean_loss += criterion(output, target).item()\n",
    "        clean_pred = output.max(1, keepdim=True)[1]\n",
    "        clean_correct += clean_pred.eq(target.view_as(clean_pred)).sum().item()\n",
    "        clean_labels.extend(target.cpu().numpy())\n",
    "        clean_preds.extend(clean_pred.cpu().numpy())\n",
    "\n",
    "        # Generate Adversarial Images\n",
    "        if attack_mode == 'FGSM':\n",
    "            data.requires_grad = True\n",
    "            loss = criterion(model(data), target)\n",
    "            model.zero_grad()\n",
    "            loss.backward()\n",
    "            data_grad = data.grad.data\n",
    "            perturbed_data = fgsm_attack(data, epsilon, data_grad)\n",
    "        elif attack_mode == 'PGD':\n",
    "            perturbed_data = pgd_attack(model, data, target, epsilon, alpha, iterations, criterion)\n",
    "\n",
    "        # Adversarial Evaluation\n",
    "        output = model(perturbed_data)\n",
    "        adv_loss += criterion(output, target).item()\n",
    "        adv_pred = output.max(1, keepdim=True)[1]\n",
    "        adv_correct += adv_pred.eq(target.view_as(adv_pred)).sum().item()\n",
    "        adv_labels.extend(target.cpu().numpy())\n",
    "        adv_preds.extend(adv_pred.cpu().numpy())\n",
    "\n",
    "        # Defense-GAN Reconstruction\n",
    "        reconstructed_data = reconstruct(generator, perturbed_data, latent_dim, writer=writer)\n",
    "\n",
    "        # Reconstructed Evaluation\n",
    "        output = model(reconstructed_data)\n",
    "        recon_loss += criterion(output, target).item()\n",
    "        recon_pred = output.max(1, keepdim=True)[1]\n",
    "        recon_correct += recon_pred.eq(target.view_as(recon_pred)).sum().item()\n",
    "        recon_labels.extend(target.cpu().numpy())\n",
    "        recon_preds.extend(recon_pred.cpu().numpy())\n",
    "\n",
    "        # Save for Visualization\n",
    "        if visualize and len(original_images_list) < num_images:\n",
    "            original_images_list.append(data.cpu().detach())\n",
    "            perturbed_images_list.append(perturbed_data.cpu().detach())\n",
    "            reconstructed_images_list.append(reconstructed_data.cpu().detach())\n",
    "            original_labels_list.append(target.cpu().numpy())\n",
    "            perturbed_preds_list.append(adv_pred.cpu().numpy())\n",
    "            reconstructed_preds_list.append(recon_pred.cpu().numpy())\n",
    "\n",
    "    # Calculate Metrics\n",
    "    clean_accuracy = 100. * clean_correct / len(test_loader.dataset)\n",
    "    adv_accuracy = 100. * adv_correct / len(test_loader.dataset)\n",
    "    recon_accuracy = 100. * recon_correct / len(test_loader.dataset)\n",
    "\n",
    "    clean_f1 = f1_score(clean_labels, clean_preds, average='macro')\n",
    "    adv_f1 = f1_score(adv_labels, adv_preds, average='macro')\n",
    "    recon_f1 = f1_score(recon_labels, recon_preds, average='macro')\n",
    "\n",
    "    clean_cm = confusion_matrix(clean_labels, clean_preds)\n",
    "    adv_cm = confusion_matrix(adv_labels, adv_preds)\n",
    "    recon_cm = confusion_matrix(recon_labels, recon_preds)\n",
    "\n",
    "    print(f\"Clean Accuracy: {clean_accuracy:.2f}% | Adversarial Accuracy: {adv_accuracy:.2f}% | Reconstructed Accuracy: {recon_accuracy:.2f}%\")\n",
    "    print(f\"Clean F1 Score: {clean_f1:.4f} | Adversarial F1 Score: {adv_f1:.4f} | Reconstructed F1 Score: {recon_f1:.4f}\")\n",
    "    print(\"\\nClean Confusion Matrix:\\n\", clean_cm)\n",
    "    print(\"\\nAdversarial Confusion Matrix:\\n\", adv_cm)\n",
    "    print(\"\\nReconstructed Confusion Matrix:\\n\", recon_cm)\n",
    "\n",
    "    if writer:\n",
    "        writer.add_scalar('Accuracy/Clean', clean_accuracy)\n",
    "        writer.add_scalar('Accuracy/Adversarial', adv_accuracy)\n",
    "        writer.add_scalar('Accuracy/Reconstructed', recon_accuracy)\n",
    "        writer.add_scalar('F1 Score/Clean', clean_f1)\n",
    "        writer.add_scalar('F1 Score/Adversarial', adv_f1)\n",
    "        writer.add_scalar('F1 Score/Reconstructed', recon_f1)\n",
    "        writer.add_image('Confusion Matrix/Clean', clean_cm)\n",
    "        writer.add_image('Confusion Matrix/Adversarial', adv_cm)\n",
    "        writer.add_image('Confusion Matrix/Reconstructed', recon_cm)\n",
    "\n",
    "    if visualize:\n",
    "        visualize_comparison(original_images_list, perturbed_images_list, original_labels_list, perturbed_preds_list, num_images=num_images)\n",
    "        visualize_comparison(original_images_list, reconstructed_images_list, original_labels_list, reconstructed_preds_list, num_images=num_images)"
   ]
  },
  {
   "cell_type": "code",
   "execution_count": 15,
   "metadata": {},
   "outputs": [
    {
     "name": "stdout",
     "output_type": "stream",
     "text": [
      "Net(\n",
      "  (conv1): Conv2d(1, 32, kernel_size=(3, 3), stride=(1, 1), padding=(1, 1))\n",
      "  (bn1): BatchNorm2d(32, eps=1e-05, momentum=0.1, affine=True, track_running_stats=True)\n",
      "  (conv2): Conv2d(32, 64, kernel_size=(3, 3), stride=(1, 1), padding=(1, 1))\n",
      "  (bn2): BatchNorm2d(64, eps=1e-05, momentum=0.1, affine=True, track_running_stats=True)\n",
      "  (pool): MaxPool2d(kernel_size=2, stride=2, padding=0, dilation=1, ceil_mode=False)\n",
      "  (fc1): Linear(in_features=3136, out_features=512, bias=True)\n",
      "  (bn_fc1): BatchNorm1d(512, eps=1e-05, momentum=0.1, affine=True, track_running_stats=True)\n",
      "  (fc2): Linear(in_features=512, out_features=256, bias=True)\n",
      "  (bn_fc2): BatchNorm1d(256, eps=1e-05, momentum=0.1, affine=True, track_running_stats=True)\n",
      "  (fc3): Linear(in_features=256, out_features=10, bias=True)\n",
      "  (dropout): Dropout(p=0.5, inplace=False)\n",
      ")\n"
     ]
    }
   ],
   "source": [
    "model = Net().to(DEVICE)\n",
    "optimizer = torch.optim.SGD(model.parameters(), lr=0.01, momentum=0.5)\n",
    "criterion = nn.CrossEntropyLoss()\n",
    "\n",
    "print(model)"
   ]
  },
  {
   "cell_type": "code",
   "execution_count": 16,
   "metadata": {},
   "outputs": [
    {
     "name": "stdout",
     "output_type": "stream",
     "text": [
      "Epoch 1/10, Loss: 0.1893\n",
      "Epoch 2/10, Loss: 0.0782\n",
      "Epoch 3/10, Loss: 0.0596\n",
      "Epoch 4/10, Loss: 0.0500\n",
      "Epoch 5/10, Loss: 0.0409\n",
      "Epoch 6/10, Loss: 0.0370\n",
      "Epoch 7/10, Loss: 0.0324\n",
      "Epoch 8/10, Loss: 0.0286\n",
      "Epoch 9/10, Loss: 0.0243\n",
      "Epoch 10/10, Loss: 0.0224\n"
     ]
    }
   ],
   "source": [
    "#훈련시의 파라미터\n",
    "\n",
    "#FGSM에서는 attack의 크기 / PGD에서는 어느정도의 제약이라고 생각하면 될듯\n",
    "epsilon=0.2\n",
    "\n",
    "#PGD에서만 사용 : 공격 한번의 크기\n",
    "alpha=0.1\n",
    "iterations=20\n",
    "\n",
    "### Basic Training Execution\n",
    "### Uncomment to perform basic training without adversarial attacks\n",
    "train(model, DEVICE, train_loader, optimizer, criterion, EPOCHS)\n",
    "\n",
    "# Adversarial Training Execution\n",
    "\n",
    "### FGSM Adversarial Training\n",
    "### Uncomment the following line to perform FGSM adversarial training\n",
    "# train_with_fgsm(model, DEVICE, train_loader, optimizer, criterion, EPOCHS, epsilon)\n",
    "\n",
    "### PGD Adversarial Training\n",
    "### print(\"Starting PGD Adversarial Training...\")\n",
    "# train_with_pgd(model, DEVICE, train_loader, optimizer, criterion, EPOCHS, epsilon, alpha, iterations)\n",
    "\n"
   ]
  },
  {
   "cell_type": "code",
   "execution_count": 17,
   "metadata": {},
   "outputs": [
    {
     "name": "stdout",
     "output_type": "stream",
     "text": [
      "Training WGAN-GP...\n",
      "Epoch [1/50] | Generator Loss: -0.1426 | Discriminator Loss: 0.1223\n",
      "Epoch [2/50] | Generator Loss: 0.2731 | Discriminator Loss: -0.3520\n",
      "Epoch [3/50] | Generator Loss: 0.6252 | Discriminator Loss: -0.2461\n",
      "Epoch [4/50] | Generator Loss: 1.1428 | Discriminator Loss: -1.0799\n",
      "Epoch [5/50] | Generator Loss: 0.9388 | Discriminator Loss: -0.9141\n",
      "Epoch [6/50] | Generator Loss: 0.7442 | Discriminator Loss: -1.0854\n",
      "Epoch [7/50] | Generator Loss: 2.0095 | Discriminator Loss: -0.8816\n",
      "Epoch [8/50] | Generator Loss: 1.7075 | Discriminator Loss: -0.3833\n",
      "Epoch [9/50] | Generator Loss: 1.1868 | Discriminator Loss: -1.3729\n",
      "Epoch [10/50] | Generator Loss: 1.9152 | Discriminator Loss: -0.7465\n",
      "Epoch [11/50] | Generator Loss: 1.4540 | Discriminator Loss: -0.4558\n",
      "Epoch [12/50] | Generator Loss: 1.1954 | Discriminator Loss: 0.8582\n",
      "Epoch [13/50] | Generator Loss: 1.3388 | Discriminator Loss: -0.1598\n",
      "Epoch [14/50] | Generator Loss: 1.0444 | Discriminator Loss: -0.3146\n",
      "Epoch [15/50] | Generator Loss: 0.4498 | Discriminator Loss: -0.3865\n",
      "Epoch [16/50] | Generator Loss: -0.0065 | Discriminator Loss: 0.2183\n",
      "Epoch [17/50] | Generator Loss: 0.1220 | Discriminator Loss: 0.4989\n",
      "Epoch [18/50] | Generator Loss: -0.0076 | Discriminator Loss: -1.1327\n",
      "Epoch [19/50] | Generator Loss: -0.4786 | Discriminator Loss: 0.0958\n",
      "Epoch [20/50] | Generator Loss: -0.5745 | Discriminator Loss: -0.2019\n",
      "Epoch [21/50] | Generator Loss: -1.2985 | Discriminator Loss: -0.5641\n",
      "Epoch [22/50] | Generator Loss: -1.8651 | Discriminator Loss: -1.3366\n",
      "Epoch [23/50] | Generator Loss: -0.8376 | Discriminator Loss: -0.1261\n",
      "Epoch [24/50] | Generator Loss: -2.0316 | Discriminator Loss: -0.7918\n",
      "Epoch [25/50] | Generator Loss: -1.5807 | Discriminator Loss: -0.5817\n",
      "Epoch [26/50] | Generator Loss: -1.8823 | Discriminator Loss: -0.3541\n",
      "Epoch [27/50] | Generator Loss: -2.1509 | Discriminator Loss: -0.5462\n",
      "Epoch [28/50] | Generator Loss: -2.2472 | Discriminator Loss: -0.8319\n",
      "Epoch [29/50] | Generator Loss: -2.6856 | Discriminator Loss: -0.7076\n",
      "Epoch [30/50] | Generator Loss: -2.6250 | Discriminator Loss: 0.3995\n",
      "Epoch [31/50] | Generator Loss: -3.2983 | Discriminator Loss: -0.6463\n",
      "Epoch [32/50] | Generator Loss: -2.3091 | Discriminator Loss: -0.6736\n",
      "Epoch [33/50] | Generator Loss: -2.7975 | Discriminator Loss: -0.1692\n",
      "Epoch [34/50] | Generator Loss: -2.8598 | Discriminator Loss: -0.1834\n",
      "Epoch [35/50] | Generator Loss: -2.6967 | Discriminator Loss: 0.0915\n",
      "Epoch [36/50] | Generator Loss: -3.5031 | Discriminator Loss: -0.7606\n",
      "Epoch [37/50] | Generator Loss: -3.0389 | Discriminator Loss: -0.5398\n",
      "Epoch [38/50] | Generator Loss: -2.9161 | Discriminator Loss: -0.7281\n",
      "Epoch [39/50] | Generator Loss: -3.5215 | Discriminator Loss: -0.4781\n",
      "Epoch [40/50] | Generator Loss: -3.1544 | Discriminator Loss: -0.7154\n",
      "Epoch [41/50] | Generator Loss: -3.8601 | Discriminator Loss: -0.3803\n",
      "Epoch [42/50] | Generator Loss: -3.8154 | Discriminator Loss: -0.5727\n",
      "Epoch [43/50] | Generator Loss: -4.1190 | Discriminator Loss: -0.8823\n",
      "Epoch [44/50] | Generator Loss: -4.5273 | Discriminator Loss: -0.7244\n",
      "Epoch [45/50] | Generator Loss: -3.9981 | Discriminator Loss: 0.1803\n",
      "Epoch [46/50] | Generator Loss: -4.4366 | Discriminator Loss: -0.2676\n",
      "Epoch [47/50] | Generator Loss: -3.8347 | Discriminator Loss: -0.4471\n",
      "Epoch [48/50] | Generator Loss: -3.5344 | Discriminator Loss: -0.5288\n",
      "Epoch [49/50] | Generator Loss: -4.1235 | Discriminator Loss: -0.2940\n",
      "Epoch [50/50] | Generator Loss: -3.7923 | Discriminator Loss: -0.0209\n"
     ]
    },
    {
     "data": {
      "text/plain": [
       "Generator(\n",
       "  (l1): Sequential(\n",
       "    (0): Linear(in_features=100, out_features=6272, bias=True)\n",
       "  )\n",
       "  (model): Sequential(\n",
       "    (0): BatchNorm2d(128, eps=1e-05, momentum=0.1, affine=True, track_running_stats=True)\n",
       "    (1): Upsample(scale_factor=2.0, mode='nearest')\n",
       "    (2): Conv2d(128, 128, kernel_size=(3, 3), stride=(1, 1), padding=(1, 1))\n",
       "    (3): BatchNorm2d(128, eps=0.8, momentum=0.1, affine=True, track_running_stats=True)\n",
       "    (4): LeakyReLU(negative_slope=0.2, inplace=True)\n",
       "    (5): Upsample(scale_factor=2.0, mode='nearest')\n",
       "    (6): Conv2d(128, 64, kernel_size=(3, 3), stride=(1, 1), padding=(1, 1))\n",
       "    (7): BatchNorm2d(64, eps=0.8, momentum=0.1, affine=True, track_running_stats=True)\n",
       "    (8): LeakyReLU(negative_slope=0.2, inplace=True)\n",
       "    (9): Conv2d(64, 1, kernel_size=(3, 3), stride=(1, 1), padding=(1, 1))\n",
       "    (10): Tanh()\n",
       "  )\n",
       ")"
      ]
     },
     "execution_count": 17,
     "metadata": {},
     "output_type": "execute_result"
    }
   ],
   "source": [
    "# 하이퍼파라미터 설정\n",
    "latent_dim = 100\n",
    "img_size = 28\n",
    "channels = 1\n",
    "epochs = 50  # GAN 학습을 위한 에폭 수 설정\n",
    "batch_size = 64\n",
    "\n",
    "# 모델 인스턴스 생성\n",
    "generator = Generator(latent_dim=latent_dim, img_size=img_size, channels=channels).to(DEVICE)\n",
    "discriminator = Discriminator(img_size=img_size, channels=channels).to(DEVICE)\n",
    "\n",
    "# 1. WGAN-GP 학습\n",
    "print(\"Training WGAN-GP...\")\n",
    "train_wgan_gp(generator, discriminator, epochs=epochs, batch_size=batch_size, latent_dim=latent_dim, writer=writer)"
   ]
  },
  {
   "cell_type": "code",
   "execution_count": 28,
   "metadata": {},
   "outputs": [
    {
     "name": "stdout",
     "output_type": "stream",
     "text": [
      "Evaluating with Defense-GAN...\n"
     ]
    },
    {
     "ename": "RuntimeError",
     "evalue": "Trying to backward through the graph a second time (or directly access saved tensors after they have already been freed). Saved intermediate values of the graph are freed when you call .backward() or autograd.grad(). Specify retain_graph=True if you need to backward through the graph a second time or if you need to access saved tensors after calling backward.",
     "output_type": "error",
     "traceback": [
      "\u001b[1;31m---------------------------------------------------------------------------\u001b[0m",
      "\u001b[1;31mRuntimeError\u001b[0m                              Traceback (most recent call last)",
      "Cell \u001b[1;32mIn[28], line 3\u001b[0m\n\u001b[0;32m      1\u001b[0m \u001b[38;5;66;03m# 2. Defense-GAN 평가\u001b[39;00m\n\u001b[0;32m      2\u001b[0m \u001b[38;5;28mprint\u001b[39m(\u001b[38;5;124m\"\u001b[39m\u001b[38;5;124mEvaluating with Defense-GAN...\u001b[39m\u001b[38;5;124m\"\u001b[39m)\n\u001b[1;32m----> 3\u001b[0m \u001b[43mevaluate_with_defense_gan\u001b[49m\u001b[43m(\u001b[49m\u001b[43mmodel\u001b[49m\u001b[43m,\u001b[49m\u001b[43m \u001b[49m\u001b[43mgenerator\u001b[49m\u001b[43m,\u001b[49m\u001b[43m \u001b[49m\u001b[43mtest_loader\u001b[49m\u001b[43m,\u001b[49m\u001b[43m \u001b[49m\u001b[43mcriterion\u001b[49m\u001b[43m,\u001b[49m\u001b[43m \u001b[49m\u001b[43mepsilon\u001b[49m\u001b[38;5;241;43m=\u001b[39;49m\u001b[38;5;241;43m0.15\u001b[39;49m\u001b[43m,\u001b[49m\u001b[43m \u001b[49m\u001b[43mlatent_dim\u001b[49m\u001b[38;5;241;43m=\u001b[39;49m\u001b[43mlatent_dim\u001b[49m\u001b[43m,\u001b[49m\u001b[43m \u001b[49m\u001b[43mvisualize\u001b[49m\u001b[38;5;241;43m=\u001b[39;49m\u001b[38;5;28;43;01mTrue\u001b[39;49;00m\u001b[43m,\u001b[49m\u001b[43m \u001b[49m\u001b[43mnum_images\u001b[49m\u001b[38;5;241;43m=\u001b[39;49m\u001b[38;5;241;43m5\u001b[39;49m\u001b[43m,\u001b[49m\u001b[43m \u001b[49m\u001b[43mattack_mode\u001b[49m\u001b[38;5;241;43m=\u001b[39;49m\u001b[38;5;124;43m'\u001b[39;49m\u001b[38;5;124;43mFGSM\u001b[39;49m\u001b[38;5;124;43m'\u001b[39;49m\u001b[43m)\u001b[49m\n",
      "Cell \u001b[1;32mIn[23], line 42\u001b[0m, in \u001b[0;36mevaluate_with_defense_gan\u001b[1;34m(model, generator, test_loader, criterion, epsilon, latent_dim, visualize, num_images, attack_mode, writer)\u001b[0m\n\u001b[0;32m     39\u001b[0m adv_preds\u001b[38;5;241m.\u001b[39mextend(adv_pred\u001b[38;5;241m.\u001b[39mcpu()\u001b[38;5;241m.\u001b[39mnumpy())\n\u001b[0;32m     41\u001b[0m \u001b[38;5;66;03m# Defense-GAN Reconstruction\u001b[39;00m\n\u001b[1;32m---> 42\u001b[0m reconstructed_data \u001b[38;5;241m=\u001b[39m \u001b[43mreconstruct\u001b[49m\u001b[43m(\u001b[49m\u001b[43mgenerator\u001b[49m\u001b[43m,\u001b[49m\u001b[43m \u001b[49m\u001b[43mperturbed_data\u001b[49m\u001b[43m,\u001b[49m\u001b[43m \u001b[49m\u001b[43mlatent_dim\u001b[49m\u001b[43m,\u001b[49m\u001b[43m \u001b[49m\u001b[43mwriter\u001b[49m\u001b[38;5;241;43m=\u001b[39;49m\u001b[43mwriter\u001b[49m\u001b[43m)\u001b[49m\n\u001b[0;32m     44\u001b[0m \u001b[38;5;66;03m# Reconstructed Evaluation\u001b[39;00m\n\u001b[0;32m     45\u001b[0m output \u001b[38;5;241m=\u001b[39m model(reconstructed_data)\n",
      "Cell \u001b[1;32mIn[25], line 62\u001b[0m, in \u001b[0;36mreconstruct\u001b[1;34m(generator, images, latent_dim, num_iterations, lr, writer, log_interval)\u001b[0m\n\u001b[0;32m     60\u001b[0m gen_imgs \u001b[38;5;241m=\u001b[39m generator(z)\n\u001b[0;32m     61\u001b[0m loss \u001b[38;5;241m=\u001b[39m ((gen_imgs \u001b[38;5;241m-\u001b[39m images) \u001b[38;5;241m*\u001b[39m\u001b[38;5;241m*\u001b[39m \u001b[38;5;241m2\u001b[39m)\u001b[38;5;241m.\u001b[39mmean()\n\u001b[1;32m---> 62\u001b[0m \u001b[43mloss\u001b[49m\u001b[38;5;241;43m.\u001b[39;49m\u001b[43mbackward\u001b[49m\u001b[43m(\u001b[49m\u001b[43m)\u001b[49m\n\u001b[0;32m     63\u001b[0m optimizer\u001b[38;5;241m.\u001b[39mstep()\n\u001b[0;32m     65\u001b[0m \u001b[38;5;28;01mif\u001b[39;00m writer \u001b[38;5;129;01mand\u001b[39;00m i \u001b[38;5;241m%\u001b[39m log_interval \u001b[38;5;241m==\u001b[39m \u001b[38;5;241m0\u001b[39m:\n",
      "File \u001b[1;32mc:\\Users\\user\\anaconda3\\envs\\py310\\lib\\site-packages\\torch\\_tensor.py:521\u001b[0m, in \u001b[0;36mTensor.backward\u001b[1;34m(self, gradient, retain_graph, create_graph, inputs)\u001b[0m\n\u001b[0;32m    511\u001b[0m \u001b[38;5;28;01mif\u001b[39;00m has_torch_function_unary(\u001b[38;5;28mself\u001b[39m):\n\u001b[0;32m    512\u001b[0m     \u001b[38;5;28;01mreturn\u001b[39;00m handle_torch_function(\n\u001b[0;32m    513\u001b[0m         Tensor\u001b[38;5;241m.\u001b[39mbackward,\n\u001b[0;32m    514\u001b[0m         (\u001b[38;5;28mself\u001b[39m,),\n\u001b[1;32m   (...)\u001b[0m\n\u001b[0;32m    519\u001b[0m         inputs\u001b[38;5;241m=\u001b[39minputs,\n\u001b[0;32m    520\u001b[0m     )\n\u001b[1;32m--> 521\u001b[0m \u001b[43mtorch\u001b[49m\u001b[38;5;241;43m.\u001b[39;49m\u001b[43mautograd\u001b[49m\u001b[38;5;241;43m.\u001b[39;49m\u001b[43mbackward\u001b[49m\u001b[43m(\u001b[49m\n\u001b[0;32m    522\u001b[0m \u001b[43m    \u001b[49m\u001b[38;5;28;43mself\u001b[39;49m\u001b[43m,\u001b[49m\u001b[43m \u001b[49m\u001b[43mgradient\u001b[49m\u001b[43m,\u001b[49m\u001b[43m \u001b[49m\u001b[43mretain_graph\u001b[49m\u001b[43m,\u001b[49m\u001b[43m \u001b[49m\u001b[43mcreate_graph\u001b[49m\u001b[43m,\u001b[49m\u001b[43m \u001b[49m\u001b[43minputs\u001b[49m\u001b[38;5;241;43m=\u001b[39;49m\u001b[43minputs\u001b[49m\n\u001b[0;32m    523\u001b[0m \u001b[43m\u001b[49m\u001b[43m)\u001b[49m\n",
      "File \u001b[1;32mc:\\Users\\user\\anaconda3\\envs\\py310\\lib\\site-packages\\torch\\autograd\\__init__.py:289\u001b[0m, in \u001b[0;36mbackward\u001b[1;34m(tensors, grad_tensors, retain_graph, create_graph, grad_variables, inputs)\u001b[0m\n\u001b[0;32m    284\u001b[0m     retain_graph \u001b[38;5;241m=\u001b[39m create_graph\n\u001b[0;32m    286\u001b[0m \u001b[38;5;66;03m# The reason we repeat the same comment below is that\u001b[39;00m\n\u001b[0;32m    287\u001b[0m \u001b[38;5;66;03m# some Python versions print out the first line of a multi-line function\u001b[39;00m\n\u001b[0;32m    288\u001b[0m \u001b[38;5;66;03m# calls in the traceback and some print out the last line\u001b[39;00m\n\u001b[1;32m--> 289\u001b[0m \u001b[43m_engine_run_backward\u001b[49m\u001b[43m(\u001b[49m\n\u001b[0;32m    290\u001b[0m \u001b[43m    \u001b[49m\u001b[43mtensors\u001b[49m\u001b[43m,\u001b[49m\n\u001b[0;32m    291\u001b[0m \u001b[43m    \u001b[49m\u001b[43mgrad_tensors_\u001b[49m\u001b[43m,\u001b[49m\n\u001b[0;32m    292\u001b[0m \u001b[43m    \u001b[49m\u001b[43mretain_graph\u001b[49m\u001b[43m,\u001b[49m\n\u001b[0;32m    293\u001b[0m \u001b[43m    \u001b[49m\u001b[43mcreate_graph\u001b[49m\u001b[43m,\u001b[49m\n\u001b[0;32m    294\u001b[0m \u001b[43m    \u001b[49m\u001b[43minputs\u001b[49m\u001b[43m,\u001b[49m\n\u001b[0;32m    295\u001b[0m \u001b[43m    \u001b[49m\u001b[43mallow_unreachable\u001b[49m\u001b[38;5;241;43m=\u001b[39;49m\u001b[38;5;28;43;01mTrue\u001b[39;49;00m\u001b[43m,\u001b[49m\n\u001b[0;32m    296\u001b[0m \u001b[43m    \u001b[49m\u001b[43maccumulate_grad\u001b[49m\u001b[38;5;241;43m=\u001b[39;49m\u001b[38;5;28;43;01mTrue\u001b[39;49;00m\u001b[43m,\u001b[49m\n\u001b[0;32m    297\u001b[0m \u001b[43m\u001b[49m\u001b[43m)\u001b[49m\n",
      "File \u001b[1;32mc:\\Users\\user\\anaconda3\\envs\\py310\\lib\\site-packages\\torch\\autograd\\graph.py:769\u001b[0m, in \u001b[0;36m_engine_run_backward\u001b[1;34m(t_outputs, *args, **kwargs)\u001b[0m\n\u001b[0;32m    767\u001b[0m     unregister_hooks \u001b[38;5;241m=\u001b[39m _register_logging_hooks_on_whole_graph(t_outputs)\n\u001b[0;32m    768\u001b[0m \u001b[38;5;28;01mtry\u001b[39;00m:\n\u001b[1;32m--> 769\u001b[0m     \u001b[38;5;28;01mreturn\u001b[39;00m Variable\u001b[38;5;241m.\u001b[39m_execution_engine\u001b[38;5;241m.\u001b[39mrun_backward(  \u001b[38;5;66;03m# Calls into the C++ engine to run the backward pass\u001b[39;00m\n\u001b[0;32m    770\u001b[0m         t_outputs, \u001b[38;5;241m*\u001b[39margs, \u001b[38;5;241m*\u001b[39m\u001b[38;5;241m*\u001b[39mkwargs\n\u001b[0;32m    771\u001b[0m     )  \u001b[38;5;66;03m# Calls into the C++ engine to run the backward pass\u001b[39;00m\n\u001b[0;32m    772\u001b[0m \u001b[38;5;28;01mfinally\u001b[39;00m:\n\u001b[0;32m    773\u001b[0m     \u001b[38;5;28;01mif\u001b[39;00m attach_logging_hooks:\n",
      "\u001b[1;31mRuntimeError\u001b[0m: Trying to backward through the graph a second time (or directly access saved tensors after they have already been freed). Saved intermediate values of the graph are freed when you call .backward() or autograd.grad(). Specify retain_graph=True if you need to backward through the graph a second time or if you need to access saved tensors after calling backward."
     ]
    }
   ],
   "source": [
    "# 2. Defense-GAN 평가\n",
    "print(\"Evaluating with Defense-GAN...\")\n",
    "evaluate_with_defense_gan(model, generator, test_loader, criterion, epsilon=0.15, latent_dim=latent_dim, visualize=True, num_images=5, attack_mode='FGSM')"
   ]
  },
  {
   "cell_type": "code",
   "execution_count": null,
   "metadata": {},
   "outputs": [],
   "source": [
    "# # Evaluation 함수들 모으 \n",
    "\n",
    "# #공격시의 파라미터 설정\n",
    "# epsilon=0.1\n",
    "# alpha=0.1\n",
    "# iterations=30\n",
    "# # Evaluate on clean test data\n",
    "# print(\"\\n--- Evaluating on Clean Test Data ---\")\n",
    "# evaluate(model, test_loader, criterion)\n",
    "\n",
    "# # Evaluate with FGSM Attack\n",
    "# print(\"\\n--- Evaluating with FGSM Attack ---\")\n",
    "# fgsm_original_images,fgsm_perturbed_images,fgsm_origial_labels,fgsm_perturbed_labels=evaluate_with_fgsm_attack(model, test_loader, criterion, epsilon, visualize=True, num_images=5)\n",
    "\n",
    "# # Evaluate with PGD Attack\n",
    "# print(\"\\n--- Evaluating with PGD Attack ---\")\n",
    "# pgd_original_images,pgd_perturbed_images,pgd_origial_labels,pgd_perturbed_labels=evaluate_with_pgd_attack(model, test_loader, criterion, epsilon, alpha, iterations, visualize=True, num_images=5)"
   ]
  },
  {
   "cell_type": "code",
   "execution_count": null,
   "metadata": {},
   "outputs": [],
   "source": [
    "# ## Visualize 함수\n",
    "\n",
    "\n",
    "# visualize_comparison(fgsm_original_images,fgsm_perturbed_images,fgsm_origial_labels,fgsm_perturbed_labels, num_images=5)\n",
    "\n",
    "# visualize_comparison(pgd_original_images,pgd_perturbed_images,pgd_origial_labels,pgd_perturbed_labels, num_images=5)"
   ]
  },
  {
   "cell_type": "code",
   "execution_count": null,
   "metadata": {},
   "outputs": [],
   "source": [
    "# # FGSM 기반 시각화\n",
    "# tsne_features, labels = visualize_tsne(\n",
    "#     model=model, \n",
    "#     test_loader=test_loader, \n",
    "#     epsilon=epsilon, \n",
    "#     alpha=alpha, \n",
    "#     iterations=iterations, \n",
    "#     visualize=True, \n",
    "#     num_images=2000, \n",
    "#     mode='FGSM'\n",
    "# )"
   ]
  }
 ],
 "metadata": {
  "kernelspec": {
   "display_name": "py310",
   "language": "python",
   "name": "python3"
  },
  "language_info": {
   "codemirror_mode": {
    "name": "ipython",
    "version": 3
   },
   "file_extension": ".py",
   "mimetype": "text/x-python",
   "name": "python",
   "nbconvert_exporter": "python",
   "pygments_lexer": "ipython3",
   "version": "3.10.14"
  }
 },
 "nbformat": 4,
 "nbformat_minor": 2
}
